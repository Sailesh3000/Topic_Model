{
  "nbformat": 4,
  "nbformat_minor": 0,
  "metadata": {
    "colab": {
      "provenance": []
    },
    "kernelspec": {
      "name": "python3",
      "display_name": "Python 3"
    },
    "language_info": {
      "name": "python"
    },
    "widgets": {
      "application/vnd.jupyter.widget-state+json": {
        "95f60a8cba934e818a852e59f76b35ec": {
          "model_module": "@jupyter-widgets/controls",
          "model_name": "HBoxModel",
          "model_module_version": "1.5.0",
          "state": {
            "_dom_classes": [],
            "_model_module": "@jupyter-widgets/controls",
            "_model_module_version": "1.5.0",
            "_model_name": "HBoxModel",
            "_view_count": null,
            "_view_module": "@jupyter-widgets/controls",
            "_view_module_version": "1.5.0",
            "_view_name": "HBoxView",
            "box_style": "",
            "children": [
              "IPY_MODEL_6f0a421b5cd04d14bd5660aa36fc8e45",
              "IPY_MODEL_ab4fab53dd3a4a70b9b511ba57c276a2",
              "IPY_MODEL_20751f0aef4b4936b007830293ebfcaa"
            ],
            "layout": "IPY_MODEL_0038c108d4224d39b9bf7d428b272d64"
          }
        },
        "6f0a421b5cd04d14bd5660aa36fc8e45": {
          "model_module": "@jupyter-widgets/controls",
          "model_name": "HTMLModel",
          "model_module_version": "1.5.0",
          "state": {
            "_dom_classes": [],
            "_model_module": "@jupyter-widgets/controls",
            "_model_module_version": "1.5.0",
            "_model_name": "HTMLModel",
            "_view_count": null,
            "_view_module": "@jupyter-widgets/controls",
            "_view_module_version": "1.5.0",
            "_view_name": "HTMLView",
            "description": "",
            "description_tooltip": null,
            "layout": "IPY_MODEL_b429944101e148d5b4375281c87169c7",
            "placeholder": "​",
            "style": "IPY_MODEL_2d22354df2b143349006fbb9d74bae3c",
            "value": "Downloading https://raw.githubusercontent.com/stanfordnlp/stanza-resources/main/resources_1.9.0.json: "
          }
        },
        "ab4fab53dd3a4a70b9b511ba57c276a2": {
          "model_module": "@jupyter-widgets/controls",
          "model_name": "FloatProgressModel",
          "model_module_version": "1.5.0",
          "state": {
            "_dom_classes": [],
            "_model_module": "@jupyter-widgets/controls",
            "_model_module_version": "1.5.0",
            "_model_name": "FloatProgressModel",
            "_view_count": null,
            "_view_module": "@jupyter-widgets/controls",
            "_view_module_version": "1.5.0",
            "_view_name": "ProgressView",
            "bar_style": "success",
            "description": "",
            "description_tooltip": null,
            "layout": "IPY_MODEL_04adbd605caa4c09b929d8499f74f103",
            "max": 48453,
            "min": 0,
            "orientation": "horizontal",
            "style": "IPY_MODEL_407f89f963294c6b8d85b62d1094529c",
            "value": 48453
          }
        },
        "20751f0aef4b4936b007830293ebfcaa": {
          "model_module": "@jupyter-widgets/controls",
          "model_name": "HTMLModel",
          "model_module_version": "1.5.0",
          "state": {
            "_dom_classes": [],
            "_model_module": "@jupyter-widgets/controls",
            "_model_module_version": "1.5.0",
            "_model_name": "HTMLModel",
            "_view_count": null,
            "_view_module": "@jupyter-widgets/controls",
            "_view_module_version": "1.5.0",
            "_view_name": "HTMLView",
            "description": "",
            "description_tooltip": null,
            "layout": "IPY_MODEL_c0f2e6c7a1df40859fa93e22ef24b62a",
            "placeholder": "​",
            "style": "IPY_MODEL_3d251393646944a9977b0c53a026c0d0",
            "value": " 392k/? [00:00&lt;00:00, 12.4MB/s]"
          }
        },
        "0038c108d4224d39b9bf7d428b272d64": {
          "model_module": "@jupyter-widgets/base",
          "model_name": "LayoutModel",
          "model_module_version": "1.2.0",
          "state": {
            "_model_module": "@jupyter-widgets/base",
            "_model_module_version": "1.2.0",
            "_model_name": "LayoutModel",
            "_view_count": null,
            "_view_module": "@jupyter-widgets/base",
            "_view_module_version": "1.2.0",
            "_view_name": "LayoutView",
            "align_content": null,
            "align_items": null,
            "align_self": null,
            "border": null,
            "bottom": null,
            "display": null,
            "flex": null,
            "flex_flow": null,
            "grid_area": null,
            "grid_auto_columns": null,
            "grid_auto_flow": null,
            "grid_auto_rows": null,
            "grid_column": null,
            "grid_gap": null,
            "grid_row": null,
            "grid_template_areas": null,
            "grid_template_columns": null,
            "grid_template_rows": null,
            "height": null,
            "justify_content": null,
            "justify_items": null,
            "left": null,
            "margin": null,
            "max_height": null,
            "max_width": null,
            "min_height": null,
            "min_width": null,
            "object_fit": null,
            "object_position": null,
            "order": null,
            "overflow": null,
            "overflow_x": null,
            "overflow_y": null,
            "padding": null,
            "right": null,
            "top": null,
            "visibility": null,
            "width": null
          }
        },
        "b429944101e148d5b4375281c87169c7": {
          "model_module": "@jupyter-widgets/base",
          "model_name": "LayoutModel",
          "model_module_version": "1.2.0",
          "state": {
            "_model_module": "@jupyter-widgets/base",
            "_model_module_version": "1.2.0",
            "_model_name": "LayoutModel",
            "_view_count": null,
            "_view_module": "@jupyter-widgets/base",
            "_view_module_version": "1.2.0",
            "_view_name": "LayoutView",
            "align_content": null,
            "align_items": null,
            "align_self": null,
            "border": null,
            "bottom": null,
            "display": null,
            "flex": null,
            "flex_flow": null,
            "grid_area": null,
            "grid_auto_columns": null,
            "grid_auto_flow": null,
            "grid_auto_rows": null,
            "grid_column": null,
            "grid_gap": null,
            "grid_row": null,
            "grid_template_areas": null,
            "grid_template_columns": null,
            "grid_template_rows": null,
            "height": null,
            "justify_content": null,
            "justify_items": null,
            "left": null,
            "margin": null,
            "max_height": null,
            "max_width": null,
            "min_height": null,
            "min_width": null,
            "object_fit": null,
            "object_position": null,
            "order": null,
            "overflow": null,
            "overflow_x": null,
            "overflow_y": null,
            "padding": null,
            "right": null,
            "top": null,
            "visibility": null,
            "width": null
          }
        },
        "2d22354df2b143349006fbb9d74bae3c": {
          "model_module": "@jupyter-widgets/controls",
          "model_name": "DescriptionStyleModel",
          "model_module_version": "1.5.0",
          "state": {
            "_model_module": "@jupyter-widgets/controls",
            "_model_module_version": "1.5.0",
            "_model_name": "DescriptionStyleModel",
            "_view_count": null,
            "_view_module": "@jupyter-widgets/base",
            "_view_module_version": "1.2.0",
            "_view_name": "StyleView",
            "description_width": ""
          }
        },
        "04adbd605caa4c09b929d8499f74f103": {
          "model_module": "@jupyter-widgets/base",
          "model_name": "LayoutModel",
          "model_module_version": "1.2.0",
          "state": {
            "_model_module": "@jupyter-widgets/base",
            "_model_module_version": "1.2.0",
            "_model_name": "LayoutModel",
            "_view_count": null,
            "_view_module": "@jupyter-widgets/base",
            "_view_module_version": "1.2.0",
            "_view_name": "LayoutView",
            "align_content": null,
            "align_items": null,
            "align_self": null,
            "border": null,
            "bottom": null,
            "display": null,
            "flex": null,
            "flex_flow": null,
            "grid_area": null,
            "grid_auto_columns": null,
            "grid_auto_flow": null,
            "grid_auto_rows": null,
            "grid_column": null,
            "grid_gap": null,
            "grid_row": null,
            "grid_template_areas": null,
            "grid_template_columns": null,
            "grid_template_rows": null,
            "height": null,
            "justify_content": null,
            "justify_items": null,
            "left": null,
            "margin": null,
            "max_height": null,
            "max_width": null,
            "min_height": null,
            "min_width": null,
            "object_fit": null,
            "object_position": null,
            "order": null,
            "overflow": null,
            "overflow_x": null,
            "overflow_y": null,
            "padding": null,
            "right": null,
            "top": null,
            "visibility": null,
            "width": null
          }
        },
        "407f89f963294c6b8d85b62d1094529c": {
          "model_module": "@jupyter-widgets/controls",
          "model_name": "ProgressStyleModel",
          "model_module_version": "1.5.0",
          "state": {
            "_model_module": "@jupyter-widgets/controls",
            "_model_module_version": "1.5.0",
            "_model_name": "ProgressStyleModel",
            "_view_count": null,
            "_view_module": "@jupyter-widgets/base",
            "_view_module_version": "1.2.0",
            "_view_name": "StyleView",
            "bar_color": null,
            "description_width": ""
          }
        },
        "c0f2e6c7a1df40859fa93e22ef24b62a": {
          "model_module": "@jupyter-widgets/base",
          "model_name": "LayoutModel",
          "model_module_version": "1.2.0",
          "state": {
            "_model_module": "@jupyter-widgets/base",
            "_model_module_version": "1.2.0",
            "_model_name": "LayoutModel",
            "_view_count": null,
            "_view_module": "@jupyter-widgets/base",
            "_view_module_version": "1.2.0",
            "_view_name": "LayoutView",
            "align_content": null,
            "align_items": null,
            "align_self": null,
            "border": null,
            "bottom": null,
            "display": null,
            "flex": null,
            "flex_flow": null,
            "grid_area": null,
            "grid_auto_columns": null,
            "grid_auto_flow": null,
            "grid_auto_rows": null,
            "grid_column": null,
            "grid_gap": null,
            "grid_row": null,
            "grid_template_areas": null,
            "grid_template_columns": null,
            "grid_template_rows": null,
            "height": null,
            "justify_content": null,
            "justify_items": null,
            "left": null,
            "margin": null,
            "max_height": null,
            "max_width": null,
            "min_height": null,
            "min_width": null,
            "object_fit": null,
            "object_position": null,
            "order": null,
            "overflow": null,
            "overflow_x": null,
            "overflow_y": null,
            "padding": null,
            "right": null,
            "top": null,
            "visibility": null,
            "width": null
          }
        },
        "3d251393646944a9977b0c53a026c0d0": {
          "model_module": "@jupyter-widgets/controls",
          "model_name": "DescriptionStyleModel",
          "model_module_version": "1.5.0",
          "state": {
            "_model_module": "@jupyter-widgets/controls",
            "_model_module_version": "1.5.0",
            "_model_name": "DescriptionStyleModel",
            "_view_count": null,
            "_view_module": "@jupyter-widgets/base",
            "_view_module_version": "1.2.0",
            "_view_name": "StyleView",
            "description_width": ""
          }
        },
        "0b5aa617d3424c5db7a6dae26d52e6a1": {
          "model_module": "@jupyter-widgets/controls",
          "model_name": "HBoxModel",
          "model_module_version": "1.5.0",
          "state": {
            "_dom_classes": [],
            "_model_module": "@jupyter-widgets/controls",
            "_model_module_version": "1.5.0",
            "_model_name": "HBoxModel",
            "_view_count": null,
            "_view_module": "@jupyter-widgets/controls",
            "_view_module_version": "1.5.0",
            "_view_name": "HBoxView",
            "box_style": "",
            "children": [
              "IPY_MODEL_74618abbd5a84ec6b9f4c0ff2795f17c",
              "IPY_MODEL_f1836bb24d3d48ab90dc30448e6e31da",
              "IPY_MODEL_719c2ab264844b67ae219679025ea5b6"
            ],
            "layout": "IPY_MODEL_66dfbac2b344469c8bacdc49aa91f1c3"
          }
        },
        "74618abbd5a84ec6b9f4c0ff2795f17c": {
          "model_module": "@jupyter-widgets/controls",
          "model_name": "HTMLModel",
          "model_module_version": "1.5.0",
          "state": {
            "_dom_classes": [],
            "_model_module": "@jupyter-widgets/controls",
            "_model_module_version": "1.5.0",
            "_model_name": "HTMLModel",
            "_view_count": null,
            "_view_module": "@jupyter-widgets/controls",
            "_view_module_version": "1.5.0",
            "_view_name": "HTMLView",
            "description": "",
            "description_tooltip": null,
            "layout": "IPY_MODEL_0f6c0f78894344d18db1b06a72c6b0ea",
            "placeholder": "​",
            "style": "IPY_MODEL_51a656d9db7b42c3ada62b8bc9e3ddf7",
            "value": "Downloading https://raw.githubusercontent.com/stanfordnlp/stanza-resources/main/resources_1.9.0.json: "
          }
        },
        "f1836bb24d3d48ab90dc30448e6e31da": {
          "model_module": "@jupyter-widgets/controls",
          "model_name": "FloatProgressModel",
          "model_module_version": "1.5.0",
          "state": {
            "_dom_classes": [],
            "_model_module": "@jupyter-widgets/controls",
            "_model_module_version": "1.5.0",
            "_model_name": "FloatProgressModel",
            "_view_count": null,
            "_view_module": "@jupyter-widgets/controls",
            "_view_module_version": "1.5.0",
            "_view_name": "ProgressView",
            "bar_style": "success",
            "description": "",
            "description_tooltip": null,
            "layout": "IPY_MODEL_fe8edbfe4d954b62b783edad35d176cd",
            "max": 48453,
            "min": 0,
            "orientation": "horizontal",
            "style": "IPY_MODEL_53f2f064aaff42338e06ca662f7229bf",
            "value": 48453
          }
        },
        "719c2ab264844b67ae219679025ea5b6": {
          "model_module": "@jupyter-widgets/controls",
          "model_name": "HTMLModel",
          "model_module_version": "1.5.0",
          "state": {
            "_dom_classes": [],
            "_model_module": "@jupyter-widgets/controls",
            "_model_module_version": "1.5.0",
            "_model_name": "HTMLModel",
            "_view_count": null,
            "_view_module": "@jupyter-widgets/controls",
            "_view_module_version": "1.5.0",
            "_view_name": "HTMLView",
            "description": "",
            "description_tooltip": null,
            "layout": "IPY_MODEL_eed53cc5ca9446ae8474b6d1164a8899",
            "placeholder": "​",
            "style": "IPY_MODEL_c0eb4e94f8d84aebaab8283d02117e81",
            "value": " 392k/? [00:00&lt;00:00, 17.3MB/s]"
          }
        },
        "66dfbac2b344469c8bacdc49aa91f1c3": {
          "model_module": "@jupyter-widgets/base",
          "model_name": "LayoutModel",
          "model_module_version": "1.2.0",
          "state": {
            "_model_module": "@jupyter-widgets/base",
            "_model_module_version": "1.2.0",
            "_model_name": "LayoutModel",
            "_view_count": null,
            "_view_module": "@jupyter-widgets/base",
            "_view_module_version": "1.2.0",
            "_view_name": "LayoutView",
            "align_content": null,
            "align_items": null,
            "align_self": null,
            "border": null,
            "bottom": null,
            "display": null,
            "flex": null,
            "flex_flow": null,
            "grid_area": null,
            "grid_auto_columns": null,
            "grid_auto_flow": null,
            "grid_auto_rows": null,
            "grid_column": null,
            "grid_gap": null,
            "grid_row": null,
            "grid_template_areas": null,
            "grid_template_columns": null,
            "grid_template_rows": null,
            "height": null,
            "justify_content": null,
            "justify_items": null,
            "left": null,
            "margin": null,
            "max_height": null,
            "max_width": null,
            "min_height": null,
            "min_width": null,
            "object_fit": null,
            "object_position": null,
            "order": null,
            "overflow": null,
            "overflow_x": null,
            "overflow_y": null,
            "padding": null,
            "right": null,
            "top": null,
            "visibility": null,
            "width": null
          }
        },
        "0f6c0f78894344d18db1b06a72c6b0ea": {
          "model_module": "@jupyter-widgets/base",
          "model_name": "LayoutModel",
          "model_module_version": "1.2.0",
          "state": {
            "_model_module": "@jupyter-widgets/base",
            "_model_module_version": "1.2.0",
            "_model_name": "LayoutModel",
            "_view_count": null,
            "_view_module": "@jupyter-widgets/base",
            "_view_module_version": "1.2.0",
            "_view_name": "LayoutView",
            "align_content": null,
            "align_items": null,
            "align_self": null,
            "border": null,
            "bottom": null,
            "display": null,
            "flex": null,
            "flex_flow": null,
            "grid_area": null,
            "grid_auto_columns": null,
            "grid_auto_flow": null,
            "grid_auto_rows": null,
            "grid_column": null,
            "grid_gap": null,
            "grid_row": null,
            "grid_template_areas": null,
            "grid_template_columns": null,
            "grid_template_rows": null,
            "height": null,
            "justify_content": null,
            "justify_items": null,
            "left": null,
            "margin": null,
            "max_height": null,
            "max_width": null,
            "min_height": null,
            "min_width": null,
            "object_fit": null,
            "object_position": null,
            "order": null,
            "overflow": null,
            "overflow_x": null,
            "overflow_y": null,
            "padding": null,
            "right": null,
            "top": null,
            "visibility": null,
            "width": null
          }
        },
        "51a656d9db7b42c3ada62b8bc9e3ddf7": {
          "model_module": "@jupyter-widgets/controls",
          "model_name": "DescriptionStyleModel",
          "model_module_version": "1.5.0",
          "state": {
            "_model_module": "@jupyter-widgets/controls",
            "_model_module_version": "1.5.0",
            "_model_name": "DescriptionStyleModel",
            "_view_count": null,
            "_view_module": "@jupyter-widgets/base",
            "_view_module_version": "1.2.0",
            "_view_name": "StyleView",
            "description_width": ""
          }
        },
        "fe8edbfe4d954b62b783edad35d176cd": {
          "model_module": "@jupyter-widgets/base",
          "model_name": "LayoutModel",
          "model_module_version": "1.2.0",
          "state": {
            "_model_module": "@jupyter-widgets/base",
            "_model_module_version": "1.2.0",
            "_model_name": "LayoutModel",
            "_view_count": null,
            "_view_module": "@jupyter-widgets/base",
            "_view_module_version": "1.2.0",
            "_view_name": "LayoutView",
            "align_content": null,
            "align_items": null,
            "align_self": null,
            "border": null,
            "bottom": null,
            "display": null,
            "flex": null,
            "flex_flow": null,
            "grid_area": null,
            "grid_auto_columns": null,
            "grid_auto_flow": null,
            "grid_auto_rows": null,
            "grid_column": null,
            "grid_gap": null,
            "grid_row": null,
            "grid_template_areas": null,
            "grid_template_columns": null,
            "grid_template_rows": null,
            "height": null,
            "justify_content": null,
            "justify_items": null,
            "left": null,
            "margin": null,
            "max_height": null,
            "max_width": null,
            "min_height": null,
            "min_width": null,
            "object_fit": null,
            "object_position": null,
            "order": null,
            "overflow": null,
            "overflow_x": null,
            "overflow_y": null,
            "padding": null,
            "right": null,
            "top": null,
            "visibility": null,
            "width": null
          }
        },
        "53f2f064aaff42338e06ca662f7229bf": {
          "model_module": "@jupyter-widgets/controls",
          "model_name": "ProgressStyleModel",
          "model_module_version": "1.5.0",
          "state": {
            "_model_module": "@jupyter-widgets/controls",
            "_model_module_version": "1.5.0",
            "_model_name": "ProgressStyleModel",
            "_view_count": null,
            "_view_module": "@jupyter-widgets/base",
            "_view_module_version": "1.2.0",
            "_view_name": "StyleView",
            "bar_color": null,
            "description_width": ""
          }
        },
        "eed53cc5ca9446ae8474b6d1164a8899": {
          "model_module": "@jupyter-widgets/base",
          "model_name": "LayoutModel",
          "model_module_version": "1.2.0",
          "state": {
            "_model_module": "@jupyter-widgets/base",
            "_model_module_version": "1.2.0",
            "_model_name": "LayoutModel",
            "_view_count": null,
            "_view_module": "@jupyter-widgets/base",
            "_view_module_version": "1.2.0",
            "_view_name": "LayoutView",
            "align_content": null,
            "align_items": null,
            "align_self": null,
            "border": null,
            "bottom": null,
            "display": null,
            "flex": null,
            "flex_flow": null,
            "grid_area": null,
            "grid_auto_columns": null,
            "grid_auto_flow": null,
            "grid_auto_rows": null,
            "grid_column": null,
            "grid_gap": null,
            "grid_row": null,
            "grid_template_areas": null,
            "grid_template_columns": null,
            "grid_template_rows": null,
            "height": null,
            "justify_content": null,
            "justify_items": null,
            "left": null,
            "margin": null,
            "max_height": null,
            "max_width": null,
            "min_height": null,
            "min_width": null,
            "object_fit": null,
            "object_position": null,
            "order": null,
            "overflow": null,
            "overflow_x": null,
            "overflow_y": null,
            "padding": null,
            "right": null,
            "top": null,
            "visibility": null,
            "width": null
          }
        },
        "c0eb4e94f8d84aebaab8283d02117e81": {
          "model_module": "@jupyter-widgets/controls",
          "model_name": "DescriptionStyleModel",
          "model_module_version": "1.5.0",
          "state": {
            "_model_module": "@jupyter-widgets/controls",
            "_model_module_version": "1.5.0",
            "_model_name": "DescriptionStyleModel",
            "_view_count": null,
            "_view_module": "@jupyter-widgets/base",
            "_view_module_version": "1.2.0",
            "_view_name": "StyleView",
            "description_width": ""
          }
        }
      }
    }
  },
  "cells": [
    {
      "cell_type": "code",
      "source": [
        "!pip install indic-nlp-library\n",
        "!pip install indicnlp\n",
        "!pip install gensim\n",
        "!pip install pyLDAvis\n",
        "!pip install stanza\n",
        "\n",
        "import gensim\n",
        "import pandas as pd\n",
        "import pyLDAvis\n",
        "import pyLDAvis.gensim\n",
        "import stanza\n",
        "stanza.download('te')\n",
        "from gensim import corpora,models\n",
        "from gensim.models import CoherenceModel\n",
        "\n",
        "import re\n",
        "# from indicnlp.tokenize import indic_tokenize\n",
        "nlp = stanza.Pipeline('te')\n",
        "import pandas as pd\n",
        "from nltk import FreqDist\n",
        "# from sklearn.feature_extraction.text import TfidfVectorizer"
      ],
      "metadata": {
        "id": "fLEq7ZEffcPr",
        "colab": {
          "base_uri": "https://localhost:8080/",
          "height": 1000,
          "referenced_widgets": [
            "95f60a8cba934e818a852e59f76b35ec",
            "6f0a421b5cd04d14bd5660aa36fc8e45",
            "ab4fab53dd3a4a70b9b511ba57c276a2",
            "20751f0aef4b4936b007830293ebfcaa",
            "0038c108d4224d39b9bf7d428b272d64",
            "b429944101e148d5b4375281c87169c7",
            "2d22354df2b143349006fbb9d74bae3c",
            "04adbd605caa4c09b929d8499f74f103",
            "407f89f963294c6b8d85b62d1094529c",
            "c0f2e6c7a1df40859fa93e22ef24b62a",
            "3d251393646944a9977b0c53a026c0d0",
            "0b5aa617d3424c5db7a6dae26d52e6a1",
            "74618abbd5a84ec6b9f4c0ff2795f17c",
            "f1836bb24d3d48ab90dc30448e6e31da",
            "719c2ab264844b67ae219679025ea5b6",
            "66dfbac2b344469c8bacdc49aa91f1c3",
            "0f6c0f78894344d18db1b06a72c6b0ea",
            "51a656d9db7b42c3ada62b8bc9e3ddf7",
            "fe8edbfe4d954b62b783edad35d176cd",
            "53f2f064aaff42338e06ca662f7229bf",
            "eed53cc5ca9446ae8474b6d1164a8899",
            "c0eb4e94f8d84aebaab8283d02117e81"
          ]
        },
        "outputId": "bd97b920-9170-4e2c-ce5a-75926d4a1f91"
      },
      "execution_count": null,
      "outputs": [
        {
          "output_type": "stream",
          "name": "stderr",
          "text": [
            "/usr/local/lib/python3.10/dist-packages/ipykernel/ipkernel.py:283: DeprecationWarning: `should_run_async` will not call `transform_cell` automatically in the future. Please pass the result to `transformed_cell` argument and any exception that happen during thetransform in `preprocessing_exc_tuple` in IPython 7.17 and above.\n",
            "  and should_run_async(code)\n"
          ]
        },
        {
          "output_type": "stream",
          "name": "stdout",
          "text": [
            "Requirement already satisfied: indic-nlp-library in /usr/local/lib/python3.10/dist-packages (0.92)\n",
            "Requirement already satisfied: sphinx-argparse in /usr/local/lib/python3.10/dist-packages (from indic-nlp-library) (0.5.2)\n",
            "Requirement already satisfied: sphinx-rtd-theme in /usr/local/lib/python3.10/dist-packages (from indic-nlp-library) (3.0.2)\n",
            "Requirement already satisfied: morfessor in /usr/local/lib/python3.10/dist-packages (from indic-nlp-library) (2.0.6)\n",
            "Requirement already satisfied: pandas in /usr/local/lib/python3.10/dist-packages (from indic-nlp-library) (2.2.2)\n",
            "Requirement already satisfied: numpy in /usr/local/lib/python3.10/dist-packages (from indic-nlp-library) (1.26.4)\n",
            "Requirement already satisfied: python-dateutil>=2.8.2 in /usr/local/lib/python3.10/dist-packages (from pandas->indic-nlp-library) (2.8.2)\n",
            "Requirement already satisfied: pytz>=2020.1 in /usr/local/lib/python3.10/dist-packages (from pandas->indic-nlp-library) (2024.2)\n",
            "Requirement already satisfied: tzdata>=2022.7 in /usr/local/lib/python3.10/dist-packages (from pandas->indic-nlp-library) (2024.2)\n",
            "Requirement already satisfied: sphinx>=5.1.0 in /usr/local/lib/python3.10/dist-packages (from sphinx-argparse->indic-nlp-library) (8.1.3)\n",
            "Requirement already satisfied: docutils>=0.19 in /usr/local/lib/python3.10/dist-packages (from sphinx-argparse->indic-nlp-library) (0.21.2)\n",
            "Requirement already satisfied: sphinxcontrib-jquery<5,>=4 in /usr/local/lib/python3.10/dist-packages (from sphinx-rtd-theme->indic-nlp-library) (4.1)\n",
            "Requirement already satisfied: six>=1.5 in /usr/local/lib/python3.10/dist-packages (from python-dateutil>=2.8.2->pandas->indic-nlp-library) (1.16.0)\n",
            "Requirement already satisfied: sphinxcontrib-applehelp>=1.0.7 in /usr/local/lib/python3.10/dist-packages (from sphinx>=5.1.0->sphinx-argparse->indic-nlp-library) (2.0.0)\n",
            "Requirement already satisfied: sphinxcontrib-devhelp>=1.0.6 in /usr/local/lib/python3.10/dist-packages (from sphinx>=5.1.0->sphinx-argparse->indic-nlp-library) (2.0.0)\n",
            "Requirement already satisfied: sphinxcontrib-htmlhelp>=2.0.6 in /usr/local/lib/python3.10/dist-packages (from sphinx>=5.1.0->sphinx-argparse->indic-nlp-library) (2.1.0)\n",
            "Requirement already satisfied: sphinxcontrib-jsmath>=1.0.1 in /usr/local/lib/python3.10/dist-packages (from sphinx>=5.1.0->sphinx-argparse->indic-nlp-library) (1.0.1)\n",
            "Requirement already satisfied: sphinxcontrib-qthelp>=1.0.6 in /usr/local/lib/python3.10/dist-packages (from sphinx>=5.1.0->sphinx-argparse->indic-nlp-library) (2.0.0)\n",
            "Requirement already satisfied: sphinxcontrib-serializinghtml>=1.1.9 in /usr/local/lib/python3.10/dist-packages (from sphinx>=5.1.0->sphinx-argparse->indic-nlp-library) (2.0.0)\n",
            "Requirement already satisfied: Jinja2>=3.1 in /usr/local/lib/python3.10/dist-packages (from sphinx>=5.1.0->sphinx-argparse->indic-nlp-library) (3.1.4)\n",
            "Requirement already satisfied: Pygments>=2.17 in /usr/local/lib/python3.10/dist-packages (from sphinx>=5.1.0->sphinx-argparse->indic-nlp-library) (2.18.0)\n",
            "Requirement already satisfied: snowballstemmer>=2.2 in /usr/local/lib/python3.10/dist-packages (from sphinx>=5.1.0->sphinx-argparse->indic-nlp-library) (2.2.0)\n",
            "Requirement already satisfied: babel>=2.13 in /usr/local/lib/python3.10/dist-packages (from sphinx>=5.1.0->sphinx-argparse->indic-nlp-library) (2.16.0)\n",
            "Requirement already satisfied: alabaster>=0.7.14 in /usr/local/lib/python3.10/dist-packages (from sphinx>=5.1.0->sphinx-argparse->indic-nlp-library) (1.0.0)\n",
            "Requirement already satisfied: imagesize>=1.3 in /usr/local/lib/python3.10/dist-packages (from sphinx>=5.1.0->sphinx-argparse->indic-nlp-library) (1.4.1)\n",
            "Requirement already satisfied: requests>=2.30.0 in /usr/local/lib/python3.10/dist-packages (from sphinx>=5.1.0->sphinx-argparse->indic-nlp-library) (2.32.3)\n",
            "Requirement already satisfied: packaging>=23.0 in /usr/local/lib/python3.10/dist-packages (from sphinx>=5.1.0->sphinx-argparse->indic-nlp-library) (24.2)\n",
            "Requirement already satisfied: tomli>=2 in /usr/local/lib/python3.10/dist-packages (from sphinx>=5.1.0->sphinx-argparse->indic-nlp-library) (2.0.2)\n",
            "Requirement already satisfied: MarkupSafe>=2.0 in /usr/local/lib/python3.10/dist-packages (from Jinja2>=3.1->sphinx>=5.1.0->sphinx-argparse->indic-nlp-library) (3.0.2)\n",
            "Requirement already satisfied: charset-normalizer<4,>=2 in /usr/local/lib/python3.10/dist-packages (from requests>=2.30.0->sphinx>=5.1.0->sphinx-argparse->indic-nlp-library) (3.4.0)\n",
            "Requirement already satisfied: idna<4,>=2.5 in /usr/local/lib/python3.10/dist-packages (from requests>=2.30.0->sphinx>=5.1.0->sphinx-argparse->indic-nlp-library) (3.10)\n",
            "Requirement already satisfied: urllib3<3,>=1.21.1 in /usr/local/lib/python3.10/dist-packages (from requests>=2.30.0->sphinx>=5.1.0->sphinx-argparse->indic-nlp-library) (2.2.3)\n",
            "Requirement already satisfied: certifi>=2017.4.17 in /usr/local/lib/python3.10/dist-packages (from requests>=2.30.0->sphinx>=5.1.0->sphinx-argparse->indic-nlp-library) (2024.8.30)\n",
            "Requirement already satisfied: indicnlp in /usr/local/lib/python3.10/dist-packages (0.0.1)\n",
            "Requirement already satisfied: gensim in /usr/local/lib/python3.10/dist-packages (4.3.3)\n",
            "Requirement already satisfied: numpy<2.0,>=1.18.5 in /usr/local/lib/python3.10/dist-packages (from gensim) (1.26.4)\n",
            "Requirement already satisfied: scipy<1.14.0,>=1.7.0 in /usr/local/lib/python3.10/dist-packages (from gensim) (1.13.1)\n",
            "Requirement already satisfied: smart-open>=1.8.1 in /usr/local/lib/python3.10/dist-packages (from gensim) (7.0.5)\n",
            "Requirement already satisfied: wrapt in /usr/local/lib/python3.10/dist-packages (from smart-open>=1.8.1->gensim) (1.16.0)\n",
            "Requirement already satisfied: pyLDAvis in /usr/local/lib/python3.10/dist-packages (3.4.1)\n",
            "Requirement already satisfied: numpy>=1.24.2 in /usr/local/lib/python3.10/dist-packages (from pyLDAvis) (1.26.4)\n",
            "Requirement already satisfied: scipy in /usr/local/lib/python3.10/dist-packages (from pyLDAvis) (1.13.1)\n",
            "Requirement already satisfied: pandas>=2.0.0 in /usr/local/lib/python3.10/dist-packages (from pyLDAvis) (2.2.2)\n",
            "Requirement already satisfied: joblib>=1.2.0 in /usr/local/lib/python3.10/dist-packages (from pyLDAvis) (1.4.2)\n",
            "Requirement already satisfied: jinja2 in /usr/local/lib/python3.10/dist-packages (from pyLDAvis) (3.1.4)\n",
            "Requirement already satisfied: numexpr in /usr/local/lib/python3.10/dist-packages (from pyLDAvis) (2.10.1)\n",
            "Requirement already satisfied: funcy in /usr/local/lib/python3.10/dist-packages (from pyLDAvis) (2.0)\n",
            "Requirement already satisfied: scikit-learn>=1.0.0 in /usr/local/lib/python3.10/dist-packages (from pyLDAvis) (1.5.2)\n",
            "Requirement already satisfied: gensim in /usr/local/lib/python3.10/dist-packages (from pyLDAvis) (4.3.3)\n",
            "Requirement already satisfied: setuptools in /usr/local/lib/python3.10/dist-packages (from pyLDAvis) (75.1.0)\n",
            "Requirement already satisfied: python-dateutil>=2.8.2 in /usr/local/lib/python3.10/dist-packages (from pandas>=2.0.0->pyLDAvis) (2.8.2)\n",
            "Requirement already satisfied: pytz>=2020.1 in /usr/local/lib/python3.10/dist-packages (from pandas>=2.0.0->pyLDAvis) (2024.2)\n",
            "Requirement already satisfied: tzdata>=2022.7 in /usr/local/lib/python3.10/dist-packages (from pandas>=2.0.0->pyLDAvis) (2024.2)\n",
            "Requirement already satisfied: threadpoolctl>=3.1.0 in /usr/local/lib/python3.10/dist-packages (from scikit-learn>=1.0.0->pyLDAvis) (3.5.0)\n",
            "Requirement already satisfied: smart-open>=1.8.1 in /usr/local/lib/python3.10/dist-packages (from gensim->pyLDAvis) (7.0.5)\n",
            "Requirement already satisfied: MarkupSafe>=2.0 in /usr/local/lib/python3.10/dist-packages (from jinja2->pyLDAvis) (3.0.2)\n",
            "Requirement already satisfied: six>=1.5 in /usr/local/lib/python3.10/dist-packages (from python-dateutil>=2.8.2->pandas>=2.0.0->pyLDAvis) (1.16.0)\n",
            "Requirement already satisfied: wrapt in /usr/local/lib/python3.10/dist-packages (from smart-open>=1.8.1->gensim->pyLDAvis) (1.16.0)\n",
            "Requirement already satisfied: stanza in /usr/local/lib/python3.10/dist-packages (1.9.2)\n",
            "Requirement already satisfied: emoji in /usr/local/lib/python3.10/dist-packages (from stanza) (2.14.0)\n",
            "Requirement already satisfied: numpy in /usr/local/lib/python3.10/dist-packages (from stanza) (1.26.4)\n",
            "Requirement already satisfied: protobuf>=3.15.0 in /usr/local/lib/python3.10/dist-packages (from stanza) (4.25.5)\n",
            "Requirement already satisfied: requests in /usr/local/lib/python3.10/dist-packages (from stanza) (2.32.3)\n",
            "Requirement already satisfied: networkx in /usr/local/lib/python3.10/dist-packages (from stanza) (3.4.2)\n",
            "Requirement already satisfied: torch>=1.3.0 in /usr/local/lib/python3.10/dist-packages (from stanza) (2.5.0+cu121)\n",
            "Requirement already satisfied: tqdm in /usr/local/lib/python3.10/dist-packages (from stanza) (4.66.6)\n",
            "Requirement already satisfied: tomli in /usr/local/lib/python3.10/dist-packages (from stanza) (2.0.2)\n",
            "Requirement already satisfied: filelock in /usr/local/lib/python3.10/dist-packages (from torch>=1.3.0->stanza) (3.16.1)\n",
            "Requirement already satisfied: typing-extensions>=4.8.0 in /usr/local/lib/python3.10/dist-packages (from torch>=1.3.0->stanza) (4.12.2)\n",
            "Requirement already satisfied: jinja2 in /usr/local/lib/python3.10/dist-packages (from torch>=1.3.0->stanza) (3.1.4)\n",
            "Requirement already satisfied: fsspec in /usr/local/lib/python3.10/dist-packages (from torch>=1.3.0->stanza) (2024.10.0)\n",
            "Requirement already satisfied: sympy==1.13.1 in /usr/local/lib/python3.10/dist-packages (from torch>=1.3.0->stanza) (1.13.1)\n",
            "Requirement already satisfied: mpmath<1.4,>=1.1.0 in /usr/local/lib/python3.10/dist-packages (from sympy==1.13.1->torch>=1.3.0->stanza) (1.3.0)\n",
            "Requirement already satisfied: charset-normalizer<4,>=2 in /usr/local/lib/python3.10/dist-packages (from requests->stanza) (3.4.0)\n",
            "Requirement already satisfied: idna<4,>=2.5 in /usr/local/lib/python3.10/dist-packages (from requests->stanza) (3.10)\n",
            "Requirement already satisfied: urllib3<3,>=1.21.1 in /usr/local/lib/python3.10/dist-packages (from requests->stanza) (2.2.3)\n",
            "Requirement already satisfied: certifi>=2017.4.17 in /usr/local/lib/python3.10/dist-packages (from requests->stanza) (2024.8.30)\n",
            "Requirement already satisfied: MarkupSafe>=2.0 in /usr/local/lib/python3.10/dist-packages (from jinja2->torch>=1.3.0->stanza) (3.0.2)\n"
          ]
        },
        {
          "output_type": "display_data",
          "data": {
            "text/plain": [
              "Downloading https://raw.githubusercontent.com/stanfordnlp/stanza-resources/main/resources_1.9.0.json:   0%|   …"
            ],
            "application/vnd.jupyter.widget-view+json": {
              "version_major": 2,
              "version_minor": 0,
              "model_id": "95f60a8cba934e818a852e59f76b35ec"
            }
          },
          "metadata": {}
        },
        {
          "output_type": "stream",
          "name": "stderr",
          "text": [
            "INFO:stanza:Downloaded file to /root/stanza_resources/resources.json\n",
            "INFO:stanza:Downloading default packages for language: te (Telugu) ...\n",
            "INFO:stanza:File exists: /root/stanza_resources/te/default.zip\n",
            "INFO:stanza:Finished downloading models and saved to /root/stanza_resources\n",
            "INFO:stanza:Checking for updates to resources.json in case models have been updated.  Note: this behavior can be turned off with download_method=None or download_method=DownloadMethod.REUSE_RESOURCES\n"
          ]
        },
        {
          "output_type": "display_data",
          "data": {
            "text/plain": [
              "Downloading https://raw.githubusercontent.com/stanfordnlp/stanza-resources/main/resources_1.9.0.json:   0%|   …"
            ],
            "application/vnd.jupyter.widget-view+json": {
              "version_major": 2,
              "version_minor": 0,
              "model_id": "0b5aa617d3424c5db7a6dae26d52e6a1"
            }
          },
          "metadata": {}
        },
        {
          "output_type": "stream",
          "name": "stderr",
          "text": [
            "INFO:stanza:Downloaded file to /root/stanza_resources/resources.json\n",
            "INFO:stanza:Loading these models for language: te (Telugu):\n",
            "==========================\n",
            "| Processor | Package    |\n",
            "--------------------------\n",
            "| tokenize  | mtg        |\n",
            "| pos       | mtg_charlm |\n",
            "| lemma     | identity   |\n",
            "| depparse  | mtg_charlm |\n",
            "==========================\n",
            "\n",
            "INFO:stanza:Using device: cpu\n",
            "INFO:stanza:Loading: tokenize\n",
            "/usr/local/lib/python3.10/dist-packages/stanza/models/tokenization/trainer.py:82: FutureWarning: You are using `torch.load` with `weights_only=False` (the current default value), which uses the default pickle module implicitly. It is possible to construct malicious pickle data which will execute arbitrary code during unpickling (See https://github.com/pytorch/pytorch/blob/main/SECURITY.md#untrusted-models for more details). In a future release, the default value for `weights_only` will be flipped to `True`. This limits the functions that could be executed during unpickling. Arbitrary objects will no longer be allowed to be loaded via this mode unless they are explicitly allowlisted by the user via `torch.serialization.add_safe_globals`. We recommend you start setting `weights_only=True` for any use case where you don't have full control of the loaded file. Please open an issue on GitHub for any issues related to this experimental feature.\n",
            "  checkpoint = torch.load(filename, lambda storage, loc: storage)\n",
            "INFO:stanza:Loading: pos\n",
            "/usr/local/lib/python3.10/dist-packages/stanza/models/pos/trainer.py:139: FutureWarning: You are using `torch.load` with `weights_only=False` (the current default value), which uses the default pickle module implicitly. It is possible to construct malicious pickle data which will execute arbitrary code during unpickling (See https://github.com/pytorch/pytorch/blob/main/SECURITY.md#untrusted-models for more details). In a future release, the default value for `weights_only` will be flipped to `True`. This limits the functions that could be executed during unpickling. Arbitrary objects will no longer be allowed to be loaded via this mode unless they are explicitly allowlisted by the user via `torch.serialization.add_safe_globals`. We recommend you start setting `weights_only=True` for any use case where you don't have full control of the loaded file. Please open an issue on GitHub for any issues related to this experimental feature.\n",
            "  checkpoint = torch.load(filename, lambda storage, loc: storage)\n",
            "/usr/local/lib/python3.10/dist-packages/stanza/models/common/pretrain.py:56: FutureWarning: You are using `torch.load` with `weights_only=False` (the current default value), which uses the default pickle module implicitly. It is possible to construct malicious pickle data which will execute arbitrary code during unpickling (See https://github.com/pytorch/pytorch/blob/main/SECURITY.md#untrusted-models for more details). In a future release, the default value for `weights_only` will be flipped to `True`. This limits the functions that could be executed during unpickling. Arbitrary objects will no longer be allowed to be loaded via this mode unless they are explicitly allowlisted by the user via `torch.serialization.add_safe_globals`. We recommend you start setting `weights_only=True` for any use case where you don't have full control of the loaded file. Please open an issue on GitHub for any issues related to this experimental feature.\n",
            "  data = torch.load(self.filename, lambda storage, loc: storage)\n",
            "/usr/local/lib/python3.10/dist-packages/stanza/models/common/char_model.py:271: FutureWarning: You are using `torch.load` with `weights_only=False` (the current default value), which uses the default pickle module implicitly. It is possible to construct malicious pickle data which will execute arbitrary code during unpickling (See https://github.com/pytorch/pytorch/blob/main/SECURITY.md#untrusted-models for more details). In a future release, the default value for `weights_only` will be flipped to `True`. This limits the functions that could be executed during unpickling. Arbitrary objects will no longer be allowed to be loaded via this mode unless they are explicitly allowlisted by the user via `torch.serialization.add_safe_globals`. We recommend you start setting `weights_only=True` for any use case where you don't have full control of the loaded file. Please open an issue on GitHub for any issues related to this experimental feature.\n",
            "  state = torch.load(filename, lambda storage, loc: storage)\n",
            "INFO:stanza:Loading: lemma\n",
            "INFO:stanza:Loading: depparse\n",
            "/usr/local/lib/python3.10/dist-packages/stanza/models/depparse/trainer.py:194: FutureWarning: You are using `torch.load` with `weights_only=False` (the current default value), which uses the default pickle module implicitly. It is possible to construct malicious pickle data which will execute arbitrary code during unpickling (See https://github.com/pytorch/pytorch/blob/main/SECURITY.md#untrusted-models for more details). In a future release, the default value for `weights_only` will be flipped to `True`. This limits the functions that could be executed during unpickling. Arbitrary objects will no longer be allowed to be loaded via this mode unless they are explicitly allowlisted by the user via `torch.serialization.add_safe_globals`. We recommend you start setting `weights_only=True` for any use case where you don't have full control of the loaded file. Please open an issue on GitHub for any issues related to this experimental feature.\n",
            "  checkpoint = torch.load(filename, lambda storage, loc: storage)\n",
            "INFO:stanza:Done loading processors!\n"
          ]
        }
      ]
    },
    {
      "cell_type": "markdown",
      "source": [
        "# Reading the Dataset"
      ],
      "metadata": {
        "id": "8-RgKBmUtJlK"
      }
    },
    {
      "cell_type": "code",
      "source": [
        "import pandas as pd\n",
        "\n",
        "df = pd.read_excel('telugu_articles.xlsx')\n",
        "articles = df['Content']\n",
        "labels = df['Topic']\n",
        "articles\n"
      ],
      "metadata": {
        "id": "qSnvX772hwwh",
        "colab": {
          "base_uri": "https://localhost:8080/",
          "height": 515
        },
        "outputId": "06db0946-8958-46a1-cb33-795147d859eb"
      },
      "execution_count": null,
      "outputs": [
        {
          "output_type": "stream",
          "name": "stderr",
          "text": [
            "/usr/local/lib/python3.10/dist-packages/ipykernel/ipkernel.py:283: DeprecationWarning: `should_run_async` will not call `transform_cell` automatically in the future. Please pass the result to `transformed_cell` argument and any exception that happen during thetransform in `preprocessing_exc_tuple` in IPython 7.17 and above.\n",
            "  and should_run_async(code)\n"
          ]
        },
        {
          "output_type": "execute_result",
          "data": {
            "text/plain": [
              "0       ‘‘మనం భిన్న భాషలు మాట్లాడుతున్నాం... మనందరినీ ...\n",
              "1       ‘‘వేధింపుల గురించి బయటికొచ్చి ఫిర్యాదు చేస్తే ...\n",
              "2       ‘కౌన్‌ బనేగా కరోడ్‌పతి’లో పవన్‌ కల్యాణ్‌కు సంబ...\n",
              "3       ‘పఠించు, సృష్టించిన నీ ప్రభువు పేరుతో’ అన్న దై...\n",
              "4       ‘ముక్కు, మోకాళ్లు ఎక్కడ పగలగొట్టుకున్నావురా.. ...\n",
              "                              ...                        \n",
              "1031    మంత్రి కొండా సురేఖ సినీ రంగంలోని వ్యక్తుల గురి...\n",
              "1032    షాపింగ్‌ మాల్‌ ప్రారంభోత్సవంలో వేదిక కూలడంతో క...\n",
              "1033    తానెందుకు 13 ఏళ్లపాటు ఒక్క సినిమాలో నటించలేదో ...\n",
              "1034    భారాస కార్యానిర్వాహక అధ్యక్షుడు కేటీఆర్‌ను విమ...\n",
              "1035    కేటీఆర్‌ తనపై రెచ్చగొట్టే వ్యాఖ్యలు చేయడంతో భా...\n",
              "Name: Content, Length: 1036, dtype: object"
            ],
            "text/html": [
              "<div>\n",
              "<style scoped>\n",
              "    .dataframe tbody tr th:only-of-type {\n",
              "        vertical-align: middle;\n",
              "    }\n",
              "\n",
              "    .dataframe tbody tr th {\n",
              "        vertical-align: top;\n",
              "    }\n",
              "\n",
              "    .dataframe thead th {\n",
              "        text-align: right;\n",
              "    }\n",
              "</style>\n",
              "<table border=\"1\" class=\"dataframe\">\n",
              "  <thead>\n",
              "    <tr style=\"text-align: right;\">\n",
              "      <th></th>\n",
              "      <th>Content</th>\n",
              "    </tr>\n",
              "  </thead>\n",
              "  <tbody>\n",
              "    <tr>\n",
              "      <th>0</th>\n",
              "      <td>‘‘మనం భిన్న భాషలు మాట్లాడుతున్నాం... మనందరినీ ...</td>\n",
              "    </tr>\n",
              "    <tr>\n",
              "      <th>1</th>\n",
              "      <td>‘‘వేధింపుల గురించి బయటికొచ్చి ఫిర్యాదు చేస్తే ...</td>\n",
              "    </tr>\n",
              "    <tr>\n",
              "      <th>2</th>\n",
              "      <td>‘కౌన్‌ బనేగా కరోడ్‌పతి’లో పవన్‌ కల్యాణ్‌కు సంబ...</td>\n",
              "    </tr>\n",
              "    <tr>\n",
              "      <th>3</th>\n",
              "      <td>‘పఠించు, సృష్టించిన నీ ప్రభువు పేరుతో’ అన్న దై...</td>\n",
              "    </tr>\n",
              "    <tr>\n",
              "      <th>4</th>\n",
              "      <td>‘ముక్కు, మోకాళ్లు ఎక్కడ పగలగొట్టుకున్నావురా.. ...</td>\n",
              "    </tr>\n",
              "    <tr>\n",
              "      <th>...</th>\n",
              "      <td>...</td>\n",
              "    </tr>\n",
              "    <tr>\n",
              "      <th>1031</th>\n",
              "      <td>మంత్రి కొండా సురేఖ సినీ రంగంలోని వ్యక్తుల గురి...</td>\n",
              "    </tr>\n",
              "    <tr>\n",
              "      <th>1032</th>\n",
              "      <td>షాపింగ్‌ మాల్‌ ప్రారంభోత్సవంలో వేదిక కూలడంతో క...</td>\n",
              "    </tr>\n",
              "    <tr>\n",
              "      <th>1033</th>\n",
              "      <td>తానెందుకు 13 ఏళ్లపాటు ఒక్క సినిమాలో నటించలేదో ...</td>\n",
              "    </tr>\n",
              "    <tr>\n",
              "      <th>1034</th>\n",
              "      <td>భారాస కార్యానిర్వాహక అధ్యక్షుడు కేటీఆర్‌ను విమ...</td>\n",
              "    </tr>\n",
              "    <tr>\n",
              "      <th>1035</th>\n",
              "      <td>కేటీఆర్‌ తనపై రెచ్చగొట్టే వ్యాఖ్యలు చేయడంతో భా...</td>\n",
              "    </tr>\n",
              "  </tbody>\n",
              "</table>\n",
              "<p>1036 rows × 1 columns</p>\n",
              "</div><br><label><b>dtype:</b> object</label>"
            ]
          },
          "metadata": {},
          "execution_count": 553
        }
      ]
    },
    {
      "cell_type": "markdown",
      "source": [
        "# Normalizing the Text - Removing special chars and English chars"
      ],
      "metadata": {
        "id": "u6CGPS_AtRCO"
      }
    },
    {
      "cell_type": "code",
      "source": [
        "import re\n",
        "\n",
        "def normalize_text(word):\n",
        "    word = re.sub(r\"[\\u200c:`,;'\\\"\\\\\\n#%&*(){}\\[\\]=_\\-+‘?!~]\", \"\", word)\n",
        "    word = re.sub(r\"[A-Za-z0-9]\", \"\", word)\n",
        "    return word\n",
        "\n",
        "\n",
        "# Apply the function to each row in 'articles'\n",
        "df['cleaned_text'] = articles.apply(normalize_text)\n"
      ],
      "metadata": {
        "id": "2O_iF_N4OLFc",
        "colab": {
          "base_uri": "https://localhost:8080/"
        },
        "outputId": "ddf684db-0dc5-4231-d5a9-d28f6247baaf"
      },
      "execution_count": null,
      "outputs": [
        {
          "output_type": "stream",
          "name": "stderr",
          "text": [
            "/usr/local/lib/python3.10/dist-packages/ipykernel/ipkernel.py:283: DeprecationWarning: `should_run_async` will not call `transform_cell` automatically in the future. Please pass the result to `transformed_cell` argument and any exception that happen during thetransform in `preprocessing_exc_tuple` in IPython 7.17 and above.\n",
            "  and should_run_async(code)\n"
          ]
        }
      ]
    },
    {
      "cell_type": "code",
      "source": [
        "df['cleaned_text']"
      ],
      "metadata": {
        "colab": {
          "base_uri": "https://localhost:8080/",
          "height": 515
        },
        "id": "vc088QoiOVkW",
        "outputId": "34c730a6-9f8e-4070-c967-8d2165dba9ee"
      },
      "execution_count": null,
      "outputs": [
        {
          "output_type": "stream",
          "name": "stderr",
          "text": [
            "/usr/local/lib/python3.10/dist-packages/ipykernel/ipkernel.py:283: DeprecationWarning: `should_run_async` will not call `transform_cell` automatically in the future. Please pass the result to `transformed_cell` argument and any exception that happen during thetransform in `preprocessing_exc_tuple` in IPython 7.17 and above.\n",
            "  and should_run_async(code)\n"
          ]
        },
        {
          "output_type": "execute_result",
          "data": {
            "text/plain": [
              "0       మనం భిన్న భాషలు మాట్లాడుతున్నాం... మనందరినీ సి...\n",
              "1       వేధింపుల గురించి బయటికొచ్చి ఫిర్యాదు చేస్తే చి...\n",
              "2       కౌన్ బనేగా కరోడ్పతి’లో పవన్ కల్యాణ్కు సంబంధించ...\n",
              "3       పఠించు సృష్టించిన నీ ప్రభువు పేరుతో’ అన్న దైవవ...\n",
              "4       ముక్కు మోకాళ్లు ఎక్కడ పగలగొట్టుకున్నావురా.. కా...\n",
              "                              ...                        \n",
              "1031    మంత్రి కొండా సురేఖ సినీ రంగంలోని వ్యక్తుల గురి...\n",
              "1032    షాపింగ్ మాల్ ప్రారంభోత్సవంలో వేదిక కూలడంతో కాం...\n",
              "1033    తానెందుకు  ఏళ్లపాటు ఒక్క సినిమాలో నటించలేదో నట...\n",
              "1034    భారాస కార్యానిర్వాహక అధ్యక్షుడు కేటీఆర్ను విమర...\n",
              "1035    కేటీఆర్ తనపై రెచ్చగొట్టే వ్యాఖ్యలు చేయడంతో భావ...\n",
              "Name: cleaned_text, Length: 1036, dtype: object"
            ],
            "text/html": [
              "<div>\n",
              "<style scoped>\n",
              "    .dataframe tbody tr th:only-of-type {\n",
              "        vertical-align: middle;\n",
              "    }\n",
              "\n",
              "    .dataframe tbody tr th {\n",
              "        vertical-align: top;\n",
              "    }\n",
              "\n",
              "    .dataframe thead th {\n",
              "        text-align: right;\n",
              "    }\n",
              "</style>\n",
              "<table border=\"1\" class=\"dataframe\">\n",
              "  <thead>\n",
              "    <tr style=\"text-align: right;\">\n",
              "      <th></th>\n",
              "      <th>cleaned_text</th>\n",
              "    </tr>\n",
              "  </thead>\n",
              "  <tbody>\n",
              "    <tr>\n",
              "      <th>0</th>\n",
              "      <td>మనం భిన్న భాషలు మాట్లాడుతున్నాం... మనందరినీ సి...</td>\n",
              "    </tr>\n",
              "    <tr>\n",
              "      <th>1</th>\n",
              "      <td>వేధింపుల గురించి బయటికొచ్చి ఫిర్యాదు చేస్తే చి...</td>\n",
              "    </tr>\n",
              "    <tr>\n",
              "      <th>2</th>\n",
              "      <td>కౌన్ బనేగా కరోడ్పతి’లో పవన్ కల్యాణ్కు సంబంధించ...</td>\n",
              "    </tr>\n",
              "    <tr>\n",
              "      <th>3</th>\n",
              "      <td>పఠించు సృష్టించిన నీ ప్రభువు పేరుతో’ అన్న దైవవ...</td>\n",
              "    </tr>\n",
              "    <tr>\n",
              "      <th>4</th>\n",
              "      <td>ముక్కు మోకాళ్లు ఎక్కడ పగలగొట్టుకున్నావురా.. కా...</td>\n",
              "    </tr>\n",
              "    <tr>\n",
              "      <th>...</th>\n",
              "      <td>...</td>\n",
              "    </tr>\n",
              "    <tr>\n",
              "      <th>1031</th>\n",
              "      <td>మంత్రి కొండా సురేఖ సినీ రంగంలోని వ్యక్తుల గురి...</td>\n",
              "    </tr>\n",
              "    <tr>\n",
              "      <th>1032</th>\n",
              "      <td>షాపింగ్ మాల్ ప్రారంభోత్సవంలో వేదిక కూలడంతో కాం...</td>\n",
              "    </tr>\n",
              "    <tr>\n",
              "      <th>1033</th>\n",
              "      <td>తానెందుకు  ఏళ్లపాటు ఒక్క సినిమాలో నటించలేదో నట...</td>\n",
              "    </tr>\n",
              "    <tr>\n",
              "      <th>1034</th>\n",
              "      <td>భారాస కార్యానిర్వాహక అధ్యక్షుడు కేటీఆర్ను విమర...</td>\n",
              "    </tr>\n",
              "    <tr>\n",
              "      <th>1035</th>\n",
              "      <td>కేటీఆర్ తనపై రెచ్చగొట్టే వ్యాఖ్యలు చేయడంతో భావ...</td>\n",
              "    </tr>\n",
              "  </tbody>\n",
              "</table>\n",
              "<p>1036 rows × 1 columns</p>\n",
              "</div><br><label><b>dtype:</b> object</label>"
            ]
          },
          "metadata": {},
          "execution_count": 555
        }
      ]
    },
    {
      "cell_type": "markdown",
      "source": [
        "# Tokenizing the Sentence"
      ],
      "metadata": {
        "id": "iUaUId2vtnke"
      }
    },
    {
      "cell_type": "code",
      "source": [
        "# from indicnlp.tokenize import indic_tokenize\n",
        "\n",
        "# def tokenize_text(text):\n",
        "#     tokens = indic_tokenize.trivial_tokenize(text, 'te')\n",
        "#     return tokens\n",
        "\n",
        "# df['tokenized_text'] = df['cleaned_text'].apply(tokenize_text)\n",
        "def tokenize_text(text):\n",
        "    tokens = text.split()\n",
        "    return tokens\n",
        "\n",
        "df['tokenized_text'] = df['cleaned_text'].apply(tokenize_text)"
      ],
      "metadata": {
        "id": "0cCA6Qc0PAWy",
        "colab": {
          "base_uri": "https://localhost:8080/"
        },
        "outputId": "cb5b5df9-cdd3-4f65-9f45-6dd16d9cba2b"
      },
      "execution_count": null,
      "outputs": [
        {
          "output_type": "stream",
          "name": "stderr",
          "text": [
            "/usr/local/lib/python3.10/dist-packages/ipykernel/ipkernel.py:283: DeprecationWarning: `should_run_async` will not call `transform_cell` automatically in the future. Please pass the result to `transformed_cell` argument and any exception that happen during thetransform in `preprocessing_exc_tuple` in IPython 7.17 and above.\n",
            "  and should_run_async(code)\n"
          ]
        }
      ]
    },
    {
      "cell_type": "code",
      "source": [
        "df['tokenized_text']"
      ],
      "metadata": {
        "colab": {
          "base_uri": "https://localhost:8080/",
          "height": 515
        },
        "id": "mp03ww9yPDIS",
        "outputId": "49f57065-3a34-4d70-b3e9-dfae0ff79be8"
      },
      "execution_count": null,
      "outputs": [
        {
          "output_type": "stream",
          "name": "stderr",
          "text": [
            "/usr/local/lib/python3.10/dist-packages/ipykernel/ipkernel.py:283: DeprecationWarning: `should_run_async` will not call `transform_cell` automatically in the future. Please pass the result to `transformed_cell` argument and any exception that happen during thetransform in `preprocessing_exc_tuple` in IPython 7.17 and above.\n",
            "  and should_run_async(code)\n"
          ]
        },
        {
          "output_type": "execute_result",
          "data": {
            "text/plain": [
              "0       [మనం, భిన్న, భాషలు, మాట్లాడుతున్నాం..., మనందరి...\n",
              "1       [వేధింపుల, గురించి, బయటికొచ్చి, ఫిర్యాదు, చేస్...\n",
              "2       [కౌన్, బనేగా, కరోడ్పతి’లో, పవన్, కల్యాణ్కు, సం...\n",
              "3       [పఠించు, సృష్టించిన, నీ, ప్రభువు, పేరుతో’, అన్...\n",
              "4       [ముక్కు, మోకాళ్లు, ఎక్కడ, పగలగొట్టుకున్నావురా....\n",
              "                              ...                        \n",
              "1031    [మంత్రి, కొండా, సురేఖ, సినీ, రంగంలోని, వ్యక్తు...\n",
              "1032    [షాపింగ్, మాల్, ప్రారంభోత్సవంలో, వేదిక, కూలడంత...\n",
              "1033    [తానెందుకు, ఏళ్లపాటు, ఒక్క, సినిమాలో, నటించలేద...\n",
              "1034    [భారాస, కార్యానిర్వాహక, అధ్యక్షుడు, కేటీఆర్ను,...\n",
              "1035    [కేటీఆర్, తనపై, రెచ్చగొట్టే, వ్యాఖ్యలు, చేయడంత...\n",
              "Name: tokenized_text, Length: 1036, dtype: object"
            ],
            "text/html": [
              "<div>\n",
              "<style scoped>\n",
              "    .dataframe tbody tr th:only-of-type {\n",
              "        vertical-align: middle;\n",
              "    }\n",
              "\n",
              "    .dataframe tbody tr th {\n",
              "        vertical-align: top;\n",
              "    }\n",
              "\n",
              "    .dataframe thead th {\n",
              "        text-align: right;\n",
              "    }\n",
              "</style>\n",
              "<table border=\"1\" class=\"dataframe\">\n",
              "  <thead>\n",
              "    <tr style=\"text-align: right;\">\n",
              "      <th></th>\n",
              "      <th>tokenized_text</th>\n",
              "    </tr>\n",
              "  </thead>\n",
              "  <tbody>\n",
              "    <tr>\n",
              "      <th>0</th>\n",
              "      <td>[మనం, భిన్న, భాషలు, మాట్లాడుతున్నాం..., మనందరి...</td>\n",
              "    </tr>\n",
              "    <tr>\n",
              "      <th>1</th>\n",
              "      <td>[వేధింపుల, గురించి, బయటికొచ్చి, ఫిర్యాదు, చేస్...</td>\n",
              "    </tr>\n",
              "    <tr>\n",
              "      <th>2</th>\n",
              "      <td>[కౌన్, బనేగా, కరోడ్పతి’లో, పవన్, కల్యాణ్కు, సం...</td>\n",
              "    </tr>\n",
              "    <tr>\n",
              "      <th>3</th>\n",
              "      <td>[పఠించు, సృష్టించిన, నీ, ప్రభువు, పేరుతో’, అన్...</td>\n",
              "    </tr>\n",
              "    <tr>\n",
              "      <th>4</th>\n",
              "      <td>[ముక్కు, మోకాళ్లు, ఎక్కడ, పగలగొట్టుకున్నావురా....</td>\n",
              "    </tr>\n",
              "    <tr>\n",
              "      <th>...</th>\n",
              "      <td>...</td>\n",
              "    </tr>\n",
              "    <tr>\n",
              "      <th>1031</th>\n",
              "      <td>[మంత్రి, కొండా, సురేఖ, సినీ, రంగంలోని, వ్యక్తు...</td>\n",
              "    </tr>\n",
              "    <tr>\n",
              "      <th>1032</th>\n",
              "      <td>[షాపింగ్, మాల్, ప్రారంభోత్సవంలో, వేదిక, కూలడంత...</td>\n",
              "    </tr>\n",
              "    <tr>\n",
              "      <th>1033</th>\n",
              "      <td>[తానెందుకు, ఏళ్లపాటు, ఒక్క, సినిమాలో, నటించలేద...</td>\n",
              "    </tr>\n",
              "    <tr>\n",
              "      <th>1034</th>\n",
              "      <td>[భారాస, కార్యానిర్వాహక, అధ్యక్షుడు, కేటీఆర్ను,...</td>\n",
              "    </tr>\n",
              "    <tr>\n",
              "      <th>1035</th>\n",
              "      <td>[కేటీఆర్, తనపై, రెచ్చగొట్టే, వ్యాఖ్యలు, చేయడంత...</td>\n",
              "    </tr>\n",
              "  </tbody>\n",
              "</table>\n",
              "<p>1036 rows × 1 columns</p>\n",
              "</div><br><label><b>dtype:</b> object</label>"
            ]
          },
          "metadata": {},
          "execution_count": 557
        }
      ]
    },
    {
      "cell_type": "markdown",
      "source": [
        "# Removing the most common stopwords"
      ],
      "metadata": {
        "id": "tm8ZP9D4txWa"
      }
    },
    {
      "cell_type": "code",
      "source": [
        "telugu_stopwords = set([\n",
        "  'ఈ', 'ఆ', 'ఒక','న',\n",
        "    'నేను', 'మీరు', 'అతను', 'ఆమె', 'ఇది', 'అవి', 'నాకు', 'మీకు', 'అందరికి', 'ఎవరూ',\n",
        "    'లో', 'పై', 'వద్ద', 'నుండి', 'తో', 'పైకి', 'కింద', 'మధ్య','మ', 'ఓ',\n",
        "    'మరియు', 'కానీ', 'లేదా', 'కనుక', 'అందువల్ల', 'అంతేకాదు',\n",
        "    'చాలా', 'కేవలం', 'ఎప్పుడూ', 'ఇప్పుడే', 'త్వరగా', 'నిశ్చయంగా',\n",
        "    'ఉంది', 'ఉన్న', 'చేశారు', 'చేయాలి', 'కావాలి', 'కావడం',\n",
        "    'ఏమిటి', 'ఎక్కడ', 'ఎందుకు', 'ఎలా', 'ఎవరు', 'ఏది', 'ఎప్పుడు',\n",
        "    'కొంత', 'కొద్దిగా', 'చాలా', 'మొత్తం', 'కంటే',\n",
        "    'ఈది', 'ఆది', 'అప్పుడు', 'ఇక్కడ', 'అక్కడ', 'ఎక్కడో', 'ఇప్పటి',\n",
        "    'అవును', 'కాదు', 'ఇష్టం', 'నచ్చదు', 'వారు', 'మీ', 'మా',\n",
        "    'చేయగలిగింది', 'గురించి', 'అందరూ', 'అందుబాటులో', 'అడగండి', 'అడగడం', 'అడ్డంగా', 'అనుగుణంగా',\n",
        "    'అనుమతించు', 'అనుమతిస్తుంది', 'అయితే', 'ఇప్పటికే', 'ఉన్నారు', 'ఎక్కడైనా',\n",
        "    'ఎవరైనా', 'ఎవరో', 'ఏ', 'ఏదైనా', 'ఏమైనప్పటికి', 'ఒకరు', 'కనిపిస్తాయి', 'కూడా',\n",
        "    'గా', 'చుట్టూ', 'తగిన', 'తర్వాత', 'దాదాపు', 'దూరంగా', 'నిజంగా', 'ప్రకారం', 'ప్రక్కన',\n",
        "    'మరొక', 'మళ్ళీ', 'మాత్రమే', 'మెచ్చుకో', 'వెంట', 'వేరుగా', 'వ్యతిరేకంగా', 'సంబంధం',\n",
        "  'నుంచి', 'నా', 'తన','','ఉన్నాడు','చాలా','ప','పిలిచి','ఆయన', 'నీ','ఎంత','అత','త','|','ప',\n",
        "  'అన్నా','కోసం','మీద','ముందు''అంత','గుండె','ఇప్పు','ఇలా','వుంది','ఉండటం',\n",
        "  'పేరు','కొత్త', 'ఒకటి', 'అదే', 'మానవ','రెండో','లే','శ',\n",
        "  'అతని', 'అంది','లేదు','జరిగింది','కూర్చుంది','అక్కడి','చేస్తున్నారు','ఇద్దరు','రావటం','ఉదయం','కాస్త','చేసింది',\n",
        "  'వ...','న...','ముందు','మనసు', 'భార్య','జిల్లా', 'వాళ్ళు...','తప్ప','అన్నీ','కాబట్టి','స్వామి','ఎన్నో'\n",
        "])\n",
        "\n",
        "def remove_stopwords(tokens):\n",
        "    return [word for word in tokens if word not in telugu_stopwords and len(word) > 3]\n",
        "\n",
        "df['no_stopwords'] = df['tokenized_text'].apply(remove_stopwords)\n",
        "df['no_stopwords']"
      ],
      "metadata": {
        "colab": {
          "base_uri": "https://localhost:8080/",
          "height": 515
        },
        "id": "PjYZw6iMPNZ4",
        "outputId": "3525f66a-b4ea-42ae-a0a4-68f8d8d43e57"
      },
      "execution_count": null,
      "outputs": [
        {
          "output_type": "stream",
          "name": "stderr",
          "text": [
            "/usr/local/lib/python3.10/dist-packages/ipykernel/ipkernel.py:283: DeprecationWarning: `should_run_async` will not call `transform_cell` automatically in the future. Please pass the result to `transformed_cell` argument and any exception that happen during thetransform in `preprocessing_exc_tuple` in IPython 7.17 and above.\n",
            "  and should_run_async(code)\n"
          ]
        },
        {
          "output_type": "execute_result",
          "data": {
            "text/plain": [
              "0       [భిన్న, భాషలు, మాట్లాడుతున్నాం..., మనందరినీ, స...\n",
              "1       [వేధింపుల, బయటికొచ్చి, ఫిర్యాదు, చేస్తే, చిత్ర...\n",
              "2       [కౌన్, బనేగా, కరోడ్పతి’లో, పవన్, కల్యాణ్కు, సం...\n",
              "3       [పఠించు, సృష్టించిన, ప్రభువు, పేరుతో’, అన్న, ద...\n",
              "4       [ముక్కు, మోకాళ్లు, పగలగొట్టుకున్నావురా.., కాళ్...\n",
              "                              ...                        \n",
              "1031    [మంత్రి, కొండా, సురేఖ, సినీ, రంగంలోని, వ్యక్తు...\n",
              "1032    [షాపింగ్, మాల్, ప్రారంభోత్సవంలో, వేదిక, కూలడంత...\n",
              "1033    [తానెందుకు, ఏళ్లపాటు, ఒక్క, సినిమాలో, నటించలేద...\n",
              "1034    [భారాస, కార్యానిర్వాహక, అధ్యక్షుడు, కేటీఆర్ను,...\n",
              "1035    [కేటీఆర్, తనపై, రెచ్చగొట్టే, వ్యాఖ్యలు, చేయడంత...\n",
              "Name: no_stopwords, Length: 1036, dtype: object"
            ],
            "text/html": [
              "<div>\n",
              "<style scoped>\n",
              "    .dataframe tbody tr th:only-of-type {\n",
              "        vertical-align: middle;\n",
              "    }\n",
              "\n",
              "    .dataframe tbody tr th {\n",
              "        vertical-align: top;\n",
              "    }\n",
              "\n",
              "    .dataframe thead th {\n",
              "        text-align: right;\n",
              "    }\n",
              "</style>\n",
              "<table border=\"1\" class=\"dataframe\">\n",
              "  <thead>\n",
              "    <tr style=\"text-align: right;\">\n",
              "      <th></th>\n",
              "      <th>no_stopwords</th>\n",
              "    </tr>\n",
              "  </thead>\n",
              "  <tbody>\n",
              "    <tr>\n",
              "      <th>0</th>\n",
              "      <td>[భిన్న, భాషలు, మాట్లాడుతున్నాం..., మనందరినీ, స...</td>\n",
              "    </tr>\n",
              "    <tr>\n",
              "      <th>1</th>\n",
              "      <td>[వేధింపుల, బయటికొచ్చి, ఫిర్యాదు, చేస్తే, చిత్ర...</td>\n",
              "    </tr>\n",
              "    <tr>\n",
              "      <th>2</th>\n",
              "      <td>[కౌన్, బనేగా, కరోడ్పతి’లో, పవన్, కల్యాణ్కు, సం...</td>\n",
              "    </tr>\n",
              "    <tr>\n",
              "      <th>3</th>\n",
              "      <td>[పఠించు, సృష్టించిన, ప్రభువు, పేరుతో’, అన్న, ద...</td>\n",
              "    </tr>\n",
              "    <tr>\n",
              "      <th>4</th>\n",
              "      <td>[ముక్కు, మోకాళ్లు, పగలగొట్టుకున్నావురా.., కాళ్...</td>\n",
              "    </tr>\n",
              "    <tr>\n",
              "      <th>...</th>\n",
              "      <td>...</td>\n",
              "    </tr>\n",
              "    <tr>\n",
              "      <th>1031</th>\n",
              "      <td>[మంత్రి, కొండా, సురేఖ, సినీ, రంగంలోని, వ్యక్తు...</td>\n",
              "    </tr>\n",
              "    <tr>\n",
              "      <th>1032</th>\n",
              "      <td>[షాపింగ్, మాల్, ప్రారంభోత్సవంలో, వేదిక, కూలడంత...</td>\n",
              "    </tr>\n",
              "    <tr>\n",
              "      <th>1033</th>\n",
              "      <td>[తానెందుకు, ఏళ్లపాటు, ఒక్క, సినిమాలో, నటించలేద...</td>\n",
              "    </tr>\n",
              "    <tr>\n",
              "      <th>1034</th>\n",
              "      <td>[భారాస, కార్యానిర్వాహక, అధ్యక్షుడు, కేటీఆర్ను,...</td>\n",
              "    </tr>\n",
              "    <tr>\n",
              "      <th>1035</th>\n",
              "      <td>[కేటీఆర్, తనపై, రెచ్చగొట్టే, వ్యాఖ్యలు, చేయడంత...</td>\n",
              "    </tr>\n",
              "  </tbody>\n",
              "</table>\n",
              "<p>1036 rows × 1 columns</p>\n",
              "</div><br><label><b>dtype:</b> object</label>"
            ]
          },
          "metadata": {},
          "execution_count": 558
        }
      ]
    },
    {
      "cell_type": "markdown",
      "source": [
        "# Stemming the words\n",
        "Example:- ఇంటికి (to the house) ---> ఇంటి (house)"
      ],
      "metadata": {
        "id": "nWygFKQ_u6MF"
      }
    },
    {
      "cell_type": "code",
      "source": [
        "def te_stemmer(word):\n",
        "\n",
        "    if(word.endswith(\"ల\") == True or\n",
        "      word.endswith(\"ఓ\") == True):\n",
        "        return word[:len(word)-1]\n",
        "\n",
        "    if(word.endswith(\"డు\") == True or\n",
        "        word.endswith(\"ము\") == True or\n",
        "        word.endswith(\"వు\") == True or\n",
        "        word.endswith(\"లు\") == True or\n",
        "        word.endswith(\"ని\") == True or\n",
        "        word.endswith(\"ను\") == True or\n",
        "        word.endswith(\"చే\") == True or\n",
        "        word.endswith(\"తో\") == True or\n",
        "        word.endswith(\"కై\") == True or\n",
        "        word.endswith(\"లో\") == True or\n",
        "        word.endswith(\"కు\") == True or\n",
        "        word.endswith(\"కి\") == True):\n",
        "        return word[:len(word)-2]\n",
        "\n",
        "    if(word.endswith(\"చేత\") == True or\n",
        "        word.endswith(\"తోడ\") == True or\n",
        "        word.endswith(\"వలన\") == True or\n",
        "        word.endswith(\"ఓరీ\") == True or\n",
        "        word.endswith(\"ఓయీ\") == True or\n",
        "        word.endswith(\"ఓసీ\") == True):\n",
        "        return word[:len(word)-3]\n",
        "\n",
        "    if(word.endswith(\"లోపల\") == True or\n",
        "        word.endswith(\"కంటె\") == True):\n",
        "        return word[:len(word)-4]\n",
        "\n",
        "    if(word.endswith(\"కొఱకు\") == True or\n",
        "        word.endswith(\"కొరకు\") == True or\n",
        "        word.endswith(\"పట్టి\") == True or\n",
        "        word.endswith(\"యొక్క\") == True):\n",
        "        return word[:len(word)-5]\n",
        "\n",
        "    if(word.endswith(\"గూర్చి\") == True):\n",
        "        return word[:len(word)-6]\n",
        "\n",
        "    if(word.endswith(\"గురించి\") == True):\n",
        "        return word[:len(word)-7]\n",
        "\n",
        "    if(word.startswith(\"ఓ\") == True):\n",
        "        return word[1:]\n",
        "\n",
        "    if(word.startswith(\"ఓయీ\") == True or\n",
        "      word.startswith(\"ఓరీ\") == True or\n",
        "      word.startswith(\"ఓసీ\") == True):\n",
        "        return word[3:]\n",
        "\n",
        "    return word\n",
        "df['stemmed_text'] = df['no_stopwords'].apply(\n",
        "    lambda tokens: [te_stemmer(word) for word in tokens if te_stemmer(word) not in telugu_stopwords]\n",
        ")\n",
        "print(df[['no_stopwords', 'stemmed_text']].head())\n"
      ],
      "metadata": {
        "colab": {
          "base_uri": "https://localhost:8080/"
        },
        "id": "vfq2uio2RAFG",
        "outputId": "00277e60-5ed1-43c1-b21f-b80130a14b0c"
      },
      "execution_count": null,
      "outputs": [
        {
          "output_type": "stream",
          "name": "stderr",
          "text": [
            "/usr/local/lib/python3.10/dist-packages/ipykernel/ipkernel.py:283: DeprecationWarning: `should_run_async` will not call `transform_cell` automatically in the future. Please pass the result to `transformed_cell` argument and any exception that happen during thetransform in `preprocessing_exc_tuple` in IPython 7.17 and above.\n",
            "  and should_run_async(code)\n"
          ]
        },
        {
          "output_type": "stream",
          "name": "stdout",
          "text": [
            "                                        no_stopwords  \\\n",
            "0  [భిన్న, భాషలు, మాట్లాడుతున్నాం..., మనందరినీ, స...   \n",
            "1  [వేధింపుల, బయటికొచ్చి, ఫిర్యాదు, చేస్తే, చిత్ర...   \n",
            "2  [కౌన్, బనేగా, కరోడ్పతి’లో, పవన్, కల్యాణ్కు, సం...   \n",
            "3  [పఠించు, సృష్టించిన, ప్రభువు, పేరుతో’, అన్న, ద...   \n",
            "4  [ముక్కు, మోకాళ్లు, పగలగొట్టుకున్నావురా.., కాళ్...   \n",
            "\n",
            "                                        stemmed_text  \n",
            "0  [భిన్న, భాష, మాట్లాడుతున్నాం..., మనందరినీ, సిన...  \n",
            "1  [వేధింపు, బయటికొచ్చి, ఫిర్యాదు, చేస్తే, చిత్ర,...  \n",
            "2  [కౌన్, బనేగా, కరోడ్పతి’, పవన్, కల్యాణ్, సంబంధి...  \n",
            "3  [పఠించు, సృష్టించిన, ప్రభు, పేరుతో’, అన్న, దైవ...  \n",
            "4  [ముక్, మోకాళ్, పగలగొట్టుకున్నావురా.., కాళ్లూ, ...  \n"
          ]
        }
      ]
    },
    {
      "cell_type": "markdown",
      "source": [
        "# Calculating Unique Words"
      ],
      "metadata": {
        "id": "TzcjMcRzvQLN"
      }
    },
    {
      "cell_type": "code",
      "source": [
        "import pandas as pd\n",
        "from nltk import FreqDist\n",
        "import matplotlib.pyplot as plt\n",
        "\n",
        "all_words = []\n",
        "for text in df['stemmed_text']:\n",
        "    all_words.extend(text)\n",
        "\n",
        "fdist = FreqDist(all_words)\n",
        "print(\"Total unique words in corpus: \", len(fdist))\n"
      ],
      "metadata": {
        "colab": {
          "base_uri": "https://localhost:8080/"
        },
        "id": "A399fOuJP1EK",
        "outputId": "93d3a496-56ac-4869-a1ad-0581adb7d9b5"
      },
      "execution_count": null,
      "outputs": [
        {
          "output_type": "stream",
          "name": "stderr",
          "text": [
            "/usr/local/lib/python3.10/dist-packages/ipykernel/ipkernel.py:283: DeprecationWarning: `should_run_async` will not call `transform_cell` automatically in the future. Please pass the result to `transformed_cell` argument and any exception that happen during thetransform in `preprocessing_exc_tuple` in IPython 7.17 and above.\n",
            "  and should_run_async(code)\n"
          ]
        },
        {
          "output_type": "stream",
          "name": "stdout",
          "text": [
            "Total unique words in corpus:  7516\n"
          ]
        }
      ]
    },
    {
      "cell_type": "markdown",
      "source": [],
      "metadata": {
        "id": "RWvDbigRvcUO"
      }
    },
    {
      "cell_type": "markdown",
      "source": [
        "# Showing top 10 words"
      ],
      "metadata": {
        "id": "xij0no8Rvfi5"
      }
    },
    {
      "cell_type": "code",
      "source": [
        "k = 1000\n",
        "top_k_words = fdist.most_common(k)\n",
        "print(top_k_words)"
      ],
      "metadata": {
        "colab": {
          "base_uri": "https://localhost:8080/"
        },
        "id": "U2rtkK1WS7H9",
        "outputId": "b0ad301b-a7d7-4f10-8b24-c564b1f76592"
      },
      "execution_count": null,
      "outputs": [
        {
          "output_type": "stream",
          "name": "stdout",
          "text": [
            "[('మార్కెట్', 61), ('రిజిస్ట్రేషన్', 45), ('రెం', 36), ('సంస్థ', 36), ('ప్రభుత్వం', 34), ('ఉంది.', 33), ('విషయం', 32), ('జరిగిన', 31), ('ఇండియా', 29), ('చేసిన', 28), ('చేశారు.', 28), ('వారి', 28), ('మంత్రి', 27), ('తెలిపారు.', 27), ('నెల', 26), ('పోలీసు', 26), ('రోజు', 25), ('శాతం', 24), ('వెల్లడించింది.', 23), ('నగరం', 23), ('ముఖ్యమంత్రి', 23), ('నివేదిక', 22), ('మాజీ', 21), ('వైకాపా', 21), ('ఆగస్టు', 21), ('ఏడాది', 21), ('సమయం', 20), ('కేసు', 20), ('రియల్', 20), ('ఎస్టేట్', 20), ('నిర్మాణ', 20), ('గృహా', 20), ('జరిగాయి.', 20), ('పోలిస్తే', 20), ('తగ్గాయ', 20), ('నైట్', 20), ('ఫ్రాంక్', 20), ('స్థిరాస్తు', 20), ('విలువ', 20), ('కోట్లుగా', 20), ('ఇంటి', 19), ('లేదు.', 19), ('వ్యక్తి', 19), ('రాష్ట్ర', 19), ('తిరుమ', 19), ('కొనుగోలుదారుల', 19), ('ఆకట్టుకునేందు', 19), ('పథకాల', 19), ('ముందుకొస్తున్నాయి.', 19), ('స్తబ్దుగా', 19), ('చెల్లింపు', 19), ('వెసులుబాట్', 19), ('కల్పిస్తున్నాయి.', 19), ('పాటు', 18), ('చేసింది.', 18), ('సీఎం', 18), ('శ్రీవారి', 18), ('అంటే', 17), ('నన్', 17), ('రేవంత్రెడ్డి', 17), ('నటు', 17), ('లడ్డూ', 17), ('పెద్ద', 16), ('భారత్', 16), ('చిన్న', 16), ('బుధవారం', 16), ('భారత', 16), ('సినిమా', 15), ('తాజాగా', 15), ('కంపెనీ', 15), ('రాష్ట్రం', 15), ('విజయవాడ', 15), ('తా', 15), ('తెలంగాణ', 15), ('నువ్', 14), ('చూసి', 14), ('వంటి', 14), ('వచ్చిన', 13), ('సినీ', 13), ('ఫోన్', 13), ('మనిషి', 13), ('కొన్', 13), ('కోట్', 13), ('ఏర్పాటు', 13), ('వయసు', 12), ('అడుగు', 12), ('రాత్రి', 12), ('అందు', 12), ('హైదరాబాద్', 12), ('ప్రమాదం', 12), ('ప్రశ్న', 11), ('దగ్గర', 11), ('భర్త', 11), ('వాటి', 11), ('ఇంట్', 11), ('అన్', 11), ('ఎన్టీఆర్', 11), ('ఇల్', 11), ('చంద్రబాబు', 11), ('నుంచీ', 11), ('వర', 11), ('విచారణ', 11), ('అయినా', 10), ('లేకుండా', 10), ('ప్రేమ', 10), ('కాదు.', 10), ('అతడి', 10), ('దీన్', 10), ('వేదికగా', 10), ('కేంద్ర', 10), ('డబ్బు', 10), ('చేసి', 10), ('ప్రత్యేక', 10), ('చేయడం', 10), ('సరైన', 10), ('ముంబయి', 10), ('జీవితం', 10), ('ఏళ్లు.', 10), ('నెయ్యి', 10), ('కల్తీ', 10), ('బతుకమ్మ', 10), ('అంటూ', 9), ('తిరిగి', 9), ('పరిస్థితి', 9), ('కొందరు', 9), ('బంగ్లాదేశ్', 9), ('జరిగింది.', 9), ('అన్నారు.', 9), ('పెళ్ళి', 9), ('ఉంటుంది.', 9), ('వ్యక్తం', 9), ('మండలం', 9), ('కలిసి', 9), ('కొనుగో', 9), ('ప్రభుత్వ', 9), ('ప్రజ', 9), ('అధ్యక్షు', 9), ('దసరా', 9), ('ఉంటాయి.', 9), ('ఫిర్యాదు', 8), ('మంది', 8), ('అన్న', 8), ('అస', 8), ('తల్లి', 8), ('తండ్రి', 8), ('నాన్న', 8), ('వచ్చి', 8), ('మంచి', 8), ('చదు', 8), ('ఎవరి', 8), ('వల్', 8), ('ఉద్యోగం', 8), ('టెస్టు', 8), ('చెందిన', 8), ('వుంది.', 8), ('భారాస', 8), ('ఖర్చు', 8), ('చేస్తున్నారు.', 8), ('జట్టు', 8), ('నేపథ్యం', 8), ('ప్రకృతి', 8), ('తీవ్ర', 8), ('చేయవచ్చా', 8), ('మున్ముందు', 8), ('ఉండబోతుంది', 8), ('కొనడాని', 8), ('వచ్చినవారు..', 8), ('రియల్టర్ల', 8), ('అడుగుతున్న', 8), ('ప్రశ్నలివీ.', 8), ('హెచ్చుతగ్గు', 8), ('సహజమని...', 8), ('స్థలా', 8), ('కొనాలనుకునే', 8), ('సమయమ', 8), ('చెబుతున్నారు.', 8), ('కృతజ్ఞత', 8), ('ఉన్నారు.', 8), ('మరోసారి', 8), ('ఎక్కువ.', 8), ('అమెరికా', 8), ('పోస్ట్', 8), ('కొండా', 8), ('సురేఖ', 8), ('దా', 7), ('వేసి', 7), ('అప్పటి', 7), ('అలాగే', 7), ('ఆవిడ', 7), ('అ...', 7), ('అడిగింది', 7), ('దృష్టి', 7), ('సరిగ్గా', 7), ('మూ', 7), ('వాళ్ళు', 7), ('మాట', 7), ('పిల్ల', 7), ('స్థాయి', 7), ('ముప్పై', 7), ('వచ్చింది.', 7), ('ద్వారా', 7), ('ఎమ్మెల్యే', 7), ('రైతు', 7), ('ఆంటీ', 7), ('అంది.', 7), ('ఒక్క', 7), ('అంతర్జాతీయ', 7), ('కేంద్రం', 7), ('సీజన్', 7), ('పండగ', 7), ('మంగళవారం', 7), ('రూ..', 7), ('లక్ష', 7), ('ఉమ్మడి', 7), ('విమర్శ', 7), ('తీవ్రమైన', 7), ('పోటీ', 7), ('బాలీవుడ్', 7), ('కాంగ్రెస్', 7), ('ఎన్నిక', 7), ('విద్య', 7), ('భక్తు', 7), ('మహిళ', 7), ('తరవాత', 7), ('జారీ', 7), ('కుటుంబ', 7), ('చిరా', 7), ('ఉద్యోగా', 7), ('మాస్టర్', 7), ('ఆరోగ్య', 7), ('మారింది.', 7), ('పెట్టారు.', 7), ('నాగార్జున', 7), ('తితిదే', 7), ('విద్యార్థు', 7), ('పరిస్థితుల్', 7), ('వ్యాఖ్య', 7), ('కుక్క', 7), ('ఆహారం', 7), ('పవన్కల్యాణ్', 7), ('మాట్లాడారు.', 7), ('ఇంటర్వ్యూ', 7), ('పరిశ్రమ', 6), ('అలాంటి', 6), ('కా', 6), ('అంతా', 6), ('మందు', 6), ('డాక్టర్', 6), ('నేనూ', 6), ('అరవింద్', 6), ('బాధ', 6), ('చీకటి', 6), ('వాడి', 6), ('వుంటే', 6), ('తలుపు', 6), ('బయట', 6), ('నిమిషా', 6), ('దాన్', 6), ('అంటారు.', 6), ('ఈసారి', 6), ('బేబీ', 6), ('నేనే', 6), ('వున్న', 6), ('ఇలాంటి', 6), ('వెల్లడించారు.', 6), ('అగ్ర', 6), ('ఆలోచన', 6), ('జీవితాని', 6), ('ఎం', 6), ('కన్నా', 6), ('ప్రకటన', 6), ('తెలియ', 6), ('అక్రమ', 6), ('హైడ్రా', 6), ('స్త్రీ', 6), ('అరెస్టు', 6), ('సందర్భంగా', 6), ('వాళ్ళ', 6), ('ఎక్కువ', 6), ('గతం', 6), ('శనివారం', 6), ('కోర్టు', 6), ('కారు', 6), ('షాక్', 6), ('తిరుపతి', 6), ('పార్టీ', 6), ('పెళ్లై', 6), ('పిల్లలు.', 6), ('కలవడం', 6), ('ఒక్కటే', 6), ('సందడి', 6), ('ఉన్నప్పటికీ', 6), ('అనేక', 6), ('రూపం', 6), ('విద్యుత్', 6), ('అధికారు', 6), ('హయాం', 6), ('ఇటీవ', 6), ('చేస్తూ', 6), ('విద్యుత్తు', 6), ('జానీ', 6), ('మొదటి', 6), ('విడుద', 6), ('నెలసరి', 6), ('కడుపునొప్పి', 6), ('విసుగు', 6), ('లక్షణాల', 6), ('బాధపడుతున్నా.', 6), ('పీఎంఎస్', 6), ('అంటార', 6), ('చెబుతున్నారు', 6), ('వైద్యులు.', 6), ('ఎంపిక', 6), ('కొవ్', 6), ('పాలకు', 6), ('ప్రాణస్నేహితు', 6), ('బంధువులకంటే', 6), ('కుటుంబా', 6), ('మధ్యా', 6), ('తరచూ', 6), ('రాకపోక', 6), ('సారెప్పుడో', 6), ('వాళ్', 6), ('కోడల్', 6), ('చేసుకుంటానన్నారు.', 6), ('అమ్మావాళ్లూ', 6), ('అలాగేన', 6), ('నవ్వేశారు.', 6), ('చదువుతోంది', 6), ('ఇంటరే.', 6), ('తెలిసి', 6), ('విద్యాసాగర్', 6), ('మన', 6), ('బాగా', 6), ('ప్రధాన', 6), ('ఉన్నా', 6), ('ఎక్స్', 6), ('బృందాని', 6), ('పడ్డారు.', 6), ('కల్యాణ్', 5), ('ఆవేదన', 5), ('అమ్మాయి', 5), ('పరిచయం', 5), ('సొంత', 5), ('హోటల్', 5), ('సంగతి', 5), ('ముఖం', 5), ('సంధ్య', 5), ('ప్రకాశం', 5), ('ప్రపంచం', 5), ('తల్లిదండ్రుల్', 5), ('అందుకే', 5), ('బావగారు', 5), ('తీసుకు', 5), ('దాని', 5), ('పెట్టి', 5), ('భారీగా', 5), ('చెన్నై', 5), ('తొలి', 5), ('ఫొగాట్', 5), ('కథానాయకు', 5), ('కారణం', 5), ('రోజుల్లోనే', 5), ('పదవి', 5), ('పెళ్లి', 5), ('లేవు.', 5), ('చేసుకున్న', 5), ('అవకాశం', 5), ('ముఠా', 5), ('బృందం', 5), ('మహిళా', 5), ('చేతి', 5), ('దీనికీ', 5), ('ప్రయోజనం', 5), ('ప్రాజెక్టు', 5), ('ఆర్థిక', 5), ('ఆంధ్రప్రదేశ్', 5), ('వైద్య', 5), ('తమ', 5), ('అమలు', 5), ('కీలక', 5), ('ఆదేశించారు.', 5), ('లేచి', 5), ('అర్ధరాత్రి', 5), ('అనంతరం', 5), ('స్థానం', 5), ('సైతం', 5), ('జీవన', 5), ('బాధ్యత', 5), ('బెట్టింగ్', 5), ('ప్రస్తుతం', 5), ('అధికారి', 5), ('పదార్థా', 5), ('ఉంటాడు.', 5), ('చేరింది.', 5), ('క్రమం', 5), ('రెడ్', 5), ('పథకం', 5), ('వారం', 5), ('వివరా', 5), ('మేనేజర్', 5), ('విధానం', 5), ('ప్రారంభమయ్యాయి.', 5), ('సరఫరా', 5), ('ఆరోపణ', 5), ('నమోదు', 5), ('దేశీయ', 5), ('విష్ణు', 5), ('ఇసుక', 5), ('పనుల్', 5), ('ప్రతి', 5), ('శరీరం', 5), ('చొప్పున', 5), ('ప్రకటించారు.', 5), ('జగన్', 5), ('పేర్కొన్నారు.', 5), ('ప్రకటించింది.', 5), ('తయారీ', 5), ('ఇంజినీరింగ్', 5), ('ప్రపంచ', 5), ('రాజకీయ', 5), ('వైపు', 5), ('ప్రసాదం', 5), ('తేడా', 5), ('తెలిసిందే.', 5), ('విషయాల్', 5), ('నేత', 5), ('క్రికెట్', 5), ('భావా', 5), ('కస్టడీ', 5), ('నిబంధన', 5), ('సాగు', 5), ('భూమి', 5), ('సూపర్', 5), ('మళ్లీ', 4), ('పవన్', 4), ('సంబంధించిన', 4), ('సృష్టించిన', 4), ('పెట్టిన', 4), ('ఎలాంటి', 4), ('వరకూ', 4), ('ఇరవై', 4), ('రోజుల్', 4), ('నీళ్ళు', 4), ('తెలియదు.', 4), ('జయంతి', 4), ('జరిగింద', 4), ('వెళ్ళి', 4), ('తెలుగు', 4), ('చెబితే', 4), ('కంటి', 4), ('చేప', 4), ('ఆఫీసు', 4), ('లైన్', 4), ('ఆరోగ్యం', 4), ('విద్యా', 4), ('చేసినా', 4), ('నేరుగా', 4), ('ఉద్దేశించి', 4), ('ప్రశ్నించాడు.', 4), ('స...', 4), ('తరువాత', 4), ('టెన్షన్', 4), ('నెమ్మదిగా', 4), ('కళ్ళు', 4), ('పాపం', 4), ('అన్నాడు.', 4), ('ఇంకా', 4), ('పోస్టు', 4), ('నీటి', 4), ('సంవత్సరం', 4), ('అర్ధం', 4), ('స్థితి', 4), ('మాత్రం', 4), ('రేపు', 4), ('ఒకటే', 4), ('కాలం', 4), ('పను', 4), ('జీవితాన్', 4), ('గ...', 4), ('గుర్తు', 4), ('శక్తి', 4), ('చూడగానే', 4), ('తప్పు', 4), ('వేగంగా', 4), ('ఉచిత', 4), ('చేయడాని', 4), ('ఆసక్తికర', 4), ('చెప్పాడు.', 4), ('క్రింద', 4), ('హృదయం', 4), ('వచ్చాడు.', 4), ('గెలిచిన', 4), ('వ్యక్తు', 4), ('అప్పుడే', 4), ('అమ్మమ్మంటే', 4), ('ఇష్టం.', 4), ('ఇటీవలే', 4), ('చనిపోయింది.', 4), ('తట్టుకోలేకపోతున్నా.', 4), ('దృష్టిపెట్టలేకపోతున్నా.', 4), ('మార్కులూ', 4), ('తగ్గుతున్నాయి.', 4), ('క్షణం', 4), ('కమిటీ', 4), ('బ్యాం', 4), ('అర్థం', 4), ('మరింత', 4), ('హిందూ', 4), ('క్రితం', 4), ('కీలకమైన', 4), ('శుక్రవారం', 4), ('హైకోర్టు', 4), ('గంట', 4), ('కనీసం', 4), ('అనేది', 4), ('అనారోగ్యాల', 4), ('జాతీయ', 4), ('కొండ', 4), ('నియంత్రణ', 4), ('నిమజ్జనం', 4), ('నుం', 4), ('సంబంధిత', 4), ('సమావేశం', 4), ('మద్యం', 4), ('తెదేపా', 4), ('రోడ్', 4), ('ముగ్గురు', 4), ('సమాధానం', 4), ('రహదారి', 4), ('ప్రజల', 4), ('దిల్లీ', 4), ('చేస్తోంది.', 4), ('అలవాటు', 4), ('సాయం', 4), ('దేని', 4), ('కలపడం', 4), ('బోర్', 4), ('పండుగ', 4), ('చరిత్ర', 4), ('ప్రక్రియ', 4), ('సాగుతోంది.', 4), ('ప్రధా', 4), ('ఆకాశం', 4), ('అభివృద్ధి', 4), ('ప్రస్తుత', 4), ('భవిష్యత్తు', 4), ('ఇబ్బందు', 4), ('సమాజం', 4), ('సర్వే', 4), ('మొదట', 4), ('ఎవరికీ', 4), ('వెల్లడించమన్నారు.', 4), ('ప్రశ్నించారు.', 4), ('భయమేసింది.', 4), ('రహస్యంగా', 4), ('ఉంచాల్సిన', 4), ('సరైనదేనా', 4), ('చేస్తుంది.', 4), ('లేద', 4), ('అమ', 4), ('అంశాలపై', 4), ('కాదంబరీ', 4), ('చర్య', 4), ('అత్యంత', 4), ('గడిచినా', 4), ('ధర', 4), ('విమానయాన', 4), ('ప్రాంతాల్', 4), ('సైబర్', 4), ('రాయితీ', 4), ('చదువు', 4), ('భాగంగా', 4), ('కార్యాలయం', 4), ('కూటమి', 4), ('రంగంలో', 4), ('మీడియా', 4), ('చోరీ', 4), ('బుక్', 4), ('మంచు', 4), ('అట్లీ', 4), ('పథకాన్', 4), ('రికార్', 4), ('కొరియోగ్రాఫర్', 4), ('ఇచ్చిన', 4), ('చేస్తామ', 4), ('పంపిణీ', 4), ('సచ్చిదానంద', 4), ('నే', 4), ('పాఠశా', 4), ('విభాగం', 4), ('ఆర్టీసీ', 4), ('ఫలితంగా', 4), ('వీడియో', 4), ('అభయ్', 4), ('కీలకమైంది.', 4), ('ఆత్మహత్య', 4), ('చోటుచేసుకుంది.', 4), ('పరిధి', 4), ('సింగరేణి', 4), ('జరుగుతోంది.', 4), ('లౌకిక', 4), ('కల్తీపై', 4), ('చిరంజీవి', 4), ('భారతీయ', 4), ('తిరుమల', 4), ('రంగారెడ్డి', 4), ('వ్యాపార', 4), ('వ్యాఖ్యల', 4), ('దర్శకు', 4), ('చిత్రా', 4), ('జెత్వానీ', 4), ('ఆదివారం', 4), ('అవకాశా', 4), ('వ్యాపారి', 4), ('పదేళ్లవుతోంది.', 4), ('చేస్తున్నాం.', 4), ('గొడవలేమీ', 4), ('ఎవరికివారే', 4), ('మౌనంగా', 4), ('ఉండిపోతున్నాం.', 4), ('కలిసే', 4), ('వాళ్లం', 4), ('బిజీ.', 4), ('మేడ్చల్', 4), ('అనంతపురం', 4), ('డిజిటల్', 4), ('ప్రశంస', 4), ('డిన', 4), ('చనిపోయారు.', 4), ('ఉద్యోగరీత్యా', 4), ('స్థిరపడటం', 4), ('పొలాన్నీ', 4), ('బావగారే', 4), ('దూరాన', 4), ('అనారోగ్యాని', 4), ('గురైన', 4), ('అత్తగారి', 4), ('బాగోగు', 4), ('చూస్తున్నా.', 4), ('ఎకరం', 4), ('పేరున', 4), ('చేయించారు.', 4), ('తెలిసినప్పటి', 4), ('డబ్బులూ', 4), ('మాకివ్వడం', 4), ('గురువారం', 4), ('దిశగా', 4), ('సభ్యు', 4), ('ప్రశాంతత', 4), ('రామాయణం', 4), ('ప్రవర్తన', 4), ('పాత్రల్', 4), ('మొన్నామధ్య', 4), ('పుట్టినరోజు', 4), ('స్నేహితుల', 4), ('పిలిచా.', 4), ('పొద్దు', 4), ('పోయింద', 4), ('నాతోనే', 4), ('ఉండిపోయారు.', 4), ('చిన్నప్పట్నుంచీ', 4), ('బొమ్మంటే', 4), ('ప్రాణం.', 4), ('నిద్రపోను.', 4), ('కొలెస్ట్రాల్', 4), ('సిట్', 4), ('చె', 4), ('సహవాసం', 4), ('తగ్గి', 4), ('ముఖంపై', 4), ('ముడత', 4), ('మొదలయ్యాయి.', 4), ('స్నేహితురా', 4), ('బొటాక్స్', 4), ('ప్రయత్నించమంది.', 4), ('బొటాక్స్కీ', 4), ('ఏంటీ', 4), ('ప్రారంభించారు.', 4), ('ఆసక్తి', 4), ('డీఎస్సీ', 4), ('తానెందు', 4), ('ఏళ్లపాటు', 4), ('నటించలేదో', 4), ('పాల్గొన్నారు.', 4), ('సూళ్లూరుపేట', 4), ('ఇంద్రకీలాద్రిపై', 4), ('కొలువైన', 4), ('శరన్నవరాత్రి', 4), ('మహోత్సవా', 4), ('ఉత్సవా', 4), ('అగ్రరాజ్యం', 4), ('దేవీ', 4), ('నాలుగేళ్లుగా', 4), ('పాఠశాల', 4), ('పనిచేస్తున్నా.', 4), ('ఉపాధ్యాయు', 4), ('రాశారు.', 4), ('అయ్యా.', 4), ('ఎదుర్కోవా', 4), ('తెలియజేయగలరు.', 4), ('పదవీ', 4), ('విరమణ', 4), ('పొలం', 4), ('బంగారం...', 4), ('పిల్లలిద్దరికీ', 4), ('సమానంగా', 4), ('పంచేశాం.', 4), ('పెన్షన్తోనే', 4), ('గడుపుతున్నాం.', 4), ('ఏడాదిగా', 4), ('మంచాన', 4), ('అప్పట్నుంచి', 4), ('వైద్యం...', 4), ('ఎక్కువయ్యాయి.', 4), ('అవసరాలకూ', 4), ('సరిపోవడం', 4), ('కేటీఆర్', 4), ('భాష', 3), ('చిత్ర', 3), ('అన్నారు', 3), ('వేధింపు', 3), ('చేస్తే', 3), ('స్థితిగతు', 3), ('కర్తవ్యాన్', 3), ('హీరో', 3), ('కాకుండా', 3), ('ఆ...', 3), ('తెలియక', 3), ('లోపలి', 3), ('గది', 3), ('అప్పటికే', 3), ('బుర్ర', 3), ('కొంచెం', 3), ('వ్యాధి', 3), ('ఇచ్', 3), ('నిజమే', 3), ('చెప్పు', 3), ('చెప్పు.', 3), ('గ్లాసెస్', 3), ('చేయటం', 3), ('తెలుసు', 3), ('భరత్', 3), ('అన...', 3), ('ప్రక్కనే', 3), ('చూపు', 3), ('....', 3), ('గొంతు', 3), ('గౌతమ్', 3), ('పెదవు', 3), ('మిమ్మల్', 3), ('కొద్ది', 3), ('మాట్లాడుతూ', 3), ('పిల్లల్', 3), ('సీత.', 3), ('అలజడి', 3), ('చూస్తూ', 3), ('అభ్యంతర', 3), ('దార్కా', 3), ('నరేంద్ర', 3), ('క్షణా', 3), ('నాకే', 3), ('అమ్మ', 3), ('వుంటారు', 3), ('నిజం', 3), ('ఉండేది.', 3), ('కూర్చు', 3), ('ఎందుకంటే', 3), ('పేర్', 3), ('గొప్ప', 3), ('అసలే', 3), ('సులువుగా', 3), ('పూర్తిగా', 3), ('జాగ్రత్తగా', 3), ('అధికంగా', 3), ('మధ్యాహ్నం', 3), ('మిస్టర్', 3), ('చెప్పా', 3), ('జీపు', 3), ('తెలుసా', 3), ('పుట్టే', 3), ('నిజాని', 3), ('ప్ర...', 3), ('ఉలిక్కిపడి', 3), ('గుడ్', 3), ('గ్రేట్', 3), ('టైమ్', 3), ('నేల', 3), ('దిగుమతి', 3), ('నిర్ణయం', 3), ('బరిలో', 3), ('వినేశ్', 3), ('ఒకరి', 3), ('తీసి', 3), ('వి', 3), ('పక్క', 3), ('కాలువ', 3), ('సత్యం', 3), ('ఆలోచనల', 3), ('మద్రాసు', 3), ('ఎక్కువగా', 3), ('ఆందోళన', 3), ('కొద్దీ', 3), ('హరీశ్రా', 3), ('లోకం', 3), ('చాలామంది', 3), ('దాం', 3), ('దేశవ్యాప్తంగా', 3), ('భూము', 3), ('అమృత', 3), ('చూసింది.', 3), ('వినియోగదారు', 3), ('లేకపోలేదు.', 3), ('మాఫియా', 3), ('అరుణ్', 3), ('కథ', 3), ('లోప', 3), ('పడ్డాడు.', 3), ('క్రిమినల్', 3), ('మెల్లగా', 3), ('వే', 3), ('చేశాడు.', 3), ('నిజంగానే', 3), ('ప్రయత్నం', 3), ('కలిగి', 3), ('జవాబు', 3), ('తెలుసు.', 3), ('అనుమానం', 3), ('చెప్పింది.', 3), ('పట్', 3), ('నేటి', 3), ('శరవేగంగా', 3), ('ఎంపీ', 3), ('వచ్చాయి.', 3), ('అధ్యయనం', 3), ('ఇవ్వకుండా', 3), ('వేరే', 3), ('దొంగ', 3), ('వెనక్', 3), ('పరీక్ష', 3), ('చేసుకుంది.', 3), ('సహాయం', 3), ('చేసుకోలేదు.', 3), ('అంటున్నారు.', 3), ('కూర్చుంది.', 3), ('శివార్లలో', 3), ('కాప్రా', 3), ('ఈసీఐఎల్', 3), ('ప్రాంతా', 3), ('పారిశ్రామిక', 3), ('హబ్గా', 3), ('పేరుగాంచాయి.', 3), ('సేకరించి', 3), ('రకరకా', 3), ('అందుకున్నారు', 3), ('గంభీర్', 3), ('వ్యాఖ్యానించాడు.', 3), ('విసుగ్గా', 3), ('చెరువు', 3), ('చేయాల', 3), ('నిర్ణయించింది.', 3), ('గ్రామీణ', 3), ('ఆటగా', 3), ('సతీమణి', 3), ('అయింది.', 3), ('గౌడ్', 3), ('గ్రీన్', 3), ('రాజధా', 3), ('వెళ్లి', 3), ('మృత్యువాత', 3), ('ధీరజ', 3), ('పక్కన', 3), ('నగరంలో', 3), ('గంజాయి', 3), ('చేసుకున్నారు.', 3), ('తీపి', 3), ('చూస్తే', 3), ('నిత్యం', 3), ('యాప్', 3), ('ప్రపంచంలో', 3), ('అప్పటివరకూ', 3), ('సంగతీ', 3), ('నిమజ్జన', 3), ('కేంద్రాల', 3), ('మరమ్మతు', 3), ('రోజులుగా', 3), ('ప్రధానమంత్రి', 3), ('సిటీ', 3), ('యూనివర్సిటీ', 3), ('పోరా', 3), ('ప్రైవేట్', 3), ('సాధారణ', 3), ('స్స్', 3), ('రూమ్', 3), ('ఎక్స్ప్రెస్', 3), ('ఏళ్', 3), ('కళ్', 3), ('వరద', 3), ('అగ్', 3), ('వేడుక', 3), ('నమ్మకాల', 3), ('మారిపోతున్నాయి.', 3), ('ఉత్పత్తి', 3), ('సామర్థ్యాన్', 3), ('తరచుగా', 3), ('అండ్', 3), ('గూ', 3), ('చివరి', 3), ('సచివాలయం', 3), ('బీమా', 3), ('వివిధ', 3), ('జత్వానీ', 3), ('మోహన్', 3), ('పడుతుంటాడు.', 3), ('నిర్వహించారు.', 3), ('దూ', 3), ('ప్రభుత్వంపై', 3), ('భారీ', 3), ('కలిశాయి.', 3), ('దాడి', 3), ('ఉయ్యా', 3), ('పెరిగాయి.', 3), ('వసతి', 3), ('కార్యకలాపా', 3), ('నారాయణ', 3), ('ప్రియాంక', 3), ('సెక్యూరిటీ', 3), ('ఉన్నత', 3), ('సిబ్బంది', 3), ('నవరాత్రుల్', 3), ('చదివినంత', 3), ('వేసింది.', 3), ('శాఖ', 3), ('స్టార్', 3), ('కుమార్', 3), ('పాయింట్', 3), ('చీఫ్', 3), ('ఇందు', 3), ('ఒక్కో', 3), ('సోషల్', 3), ('అభిమానుల', 3), ('వచ్', 3), ('స్టోరీ', 3), ('స్టాక్', 3), ('సూచీ', 3), ('ముగిశాయి.', 3), ('పట్టు', 3), ('డీఎస్పీ', 3), ('గ్యాస్', 3), ('సిలిండర్', 3), ('దీపావళి', 3), ('సాధన', 3), ('భర్తీ', 3), ('నోటిఫికేషన్', 3), ('ఎట్టకేల', 3), ('సెప్టెంబరు', 3), ('తేదీ', 3), ('పోలింగ్', 3), ('చేస్తున్న', 3), ('ఇది.', 3), ('కలెక్టర్', 3), ('బాలిక', 3), ('వైరల్గా', 3), ('మర్యాద', 3), ('మండిపడ్డారు.', 3), ('కార్', 3), ('ముగిసింది.', 3), ('చేసేందు', 3), ('వాడే', 3), ('నూనె', 3), ('ప్రాంగణ', 3), ('ద్వైపాక్షిక', 3), ('భౌగోళిక', 3), ('మారిన', 3), ('కూడిన', 3), ('శతాబ్దా', 3), ('వ్యవస్థ', 3), ('మారినా', 3), ('బహుమతులుగా', 3), ('స్వీకరించతగినవి', 3), ('ఆచరించతగినవి', 3), ('ఉండా', 3), ('పురాణశాస్త్రా', 3), ('చెబుతున్నాయి.', 3), ('సుఖపడుతూ', 3), ('ఇతరుల్', 3), ('పీడించేవారుగా', 3), ('ఉండకూడదు.', 3), ('ప్రాధాన్యం', 3), ('ఆగ్రహం', 3), ('ప్రకాశ్రాజ్', 3), ('దులీప్', 3), ('ట్రోఫీ', 3), ('నారా', 3), ('సంబంధించి', 3), ('సర్వసాధారణంగా', 3), ('ప్రకటనల్', 3), ('చూస్తుంటాం.', 3), ('చివర', 3), ('అక్షరాల్', 3)]\n"
          ]
        },
        {
          "output_type": "stream",
          "name": "stderr",
          "text": [
            "/usr/local/lib/python3.10/dist-packages/ipykernel/ipkernel.py:283: DeprecationWarning: `should_run_async` will not call `transform_cell` automatically in the future. Please pass the result to `transformed_cell` argument and any exception that happen during thetransform in `preprocessing_exc_tuple` in IPython 7.17 and above.\n",
            "  and should_run_async(code)\n"
          ]
        }
      ]
    },
    {
      "cell_type": "code",
      "source": [
        "top_k_words,_ = zip(*fdist.most_common(k))\n",
        "top_k_words = set(top_k_words)\n",
        "def keep_top_k_words(text):\n",
        "    return [word for word in text if word in top_k_words]\n",
        "\n",
        "\n",
        "\n",
        "texts_2 = []\n",
        "\n",
        "for text in df['stemmed_text']:\n",
        "    texts_2.append(keep_top_k_words(text))\n",
        "\n",
        "\n",
        "texts_3 = []\n",
        "\n",
        "new2oldindex_map = {}\n",
        "\n",
        "old_index = 0\n",
        "new_index = 0\n",
        "\n",
        "for text in texts_2:\n",
        "    if(len(text) >= 3):\n",
        "        new2oldindex_map[new_index] = old_index\n",
        "        texts_3.append(text)\n",
        "        new_index += 1\n",
        "\n",
        "    old_index += 1\n",
        "\n",
        "print(\"Total docs before processing: \", len(df['stemmed_text']))\n",
        "print(\"Total docs after processing: \", len(texts_3))"
      ],
      "metadata": {
        "colab": {
          "base_uri": "https://localhost:8080/"
        },
        "id": "bffIdAI87e3l",
        "outputId": "899a7c6a-7f64-4892-e29b-20bb9e752268"
      },
      "execution_count": null,
      "outputs": [
        {
          "output_type": "stream",
          "name": "stdout",
          "text": [
            "Total docs before processing:  1036\n",
            "Total docs after processing:  690\n"
          ]
        },
        {
          "output_type": "stream",
          "name": "stderr",
          "text": [
            "/usr/local/lib/python3.10/dist-packages/ipykernel/ipkernel.py:283: DeprecationWarning: `should_run_async` will not call `transform_cell` automatically in the future. Please pass the result to `transformed_cell` argument and any exception that happen during thetransform in `preprocessing_exc_tuple` in IPython 7.17 and above.\n",
            "  and should_run_async(code)\n"
          ]
        }
      ]
    },
    {
      "cell_type": "code",
      "source": [
        "\n",
        "id2word = corpora.Dictionary(texts_3)\n",
        "\n",
        "texts = texts_3\n",
        "corpus_bag = [id2word.doc2bow(text) for text in df['stemmed_text']]\n",
        "\n",
        "tfidf = models.TfidfModel(corpus_bag)\n",
        "corpus = tfidf[corpus_bag]\n"
      ],
      "metadata": {
        "colab": {
          "base_uri": "https://localhost:8080/"
        },
        "id": "XcXXEjRq_5i7",
        "outputId": "03c6fedf-0160-4c87-b7b1-d87f1725c612"
      },
      "execution_count": null,
      "outputs": [
        {
          "output_type": "stream",
          "name": "stderr",
          "text": [
            "/usr/local/lib/python3.10/dist-packages/ipykernel/ipkernel.py:283: DeprecationWarning: `should_run_async` will not call `transform_cell` automatically in the future. Please pass the result to `transformed_cell` argument and any exception that happen during thetransform in `preprocessing_exc_tuple` in IPython 7.17 and above.\n",
            "  and should_run_async(code)\n"
          ]
        }
      ]
    },
    {
      "cell_type": "code",
      "source": [
        "def compute_coherence_values(dictionary, corpus, texts, limit, start=2, step=3):\n",
        "    coherence_values = []\n",
        "    model_list = []\n",
        "    for num_topics in range(start, limit, step):\n",
        "\n",
        "        model = gensim.models.ldamodel.LdaModel(corpus=corpus,\n",
        "                                                   id2word=id2word,\n",
        "                                                   num_topics=num_topics,\n",
        "                                                   passes=50,\n",
        "                                                   alpha=\"auto\",\n",
        "                                                   random_state=12)\n",
        "\n",
        "        model_list.append(model)\n",
        "        coherencemodel = CoherenceModel(model=model, texts=df['stemmed_text'], dictionary=dictionary, coherence='c_v')\n",
        "        coherence_values.append(coherencemodel.get_coherence())\n",
        "\n",
        "    return model_list, coherence_values"
      ],
      "metadata": {
        "colab": {
          "base_uri": "https://localhost:8080/"
        },
        "id": "Mmoj_syvAK5o",
        "outputId": "2bd1f53e-0600-4a1f-e6f7-893f11cd75a9"
      },
      "execution_count": null,
      "outputs": [
        {
          "output_type": "stream",
          "name": "stderr",
          "text": [
            "/usr/local/lib/python3.10/dist-packages/ipykernel/ipkernel.py:283: DeprecationWarning: `should_run_async` will not call `transform_cell` automatically in the future. Please pass the result to `transformed_cell` argument and any exception that happen during thetransform in `preprocessing_exc_tuple` in IPython 7.17 and above.\n",
            "  and should_run_async(code)\n"
          ]
        }
      ]
    },
    {
      "cell_type": "code",
      "source": [
        "import matplotlib.pyplot as plt\n",
        "\n",
        "%matplotlib inline\n",
        "\n",
        "limit = 16\n",
        "start = 10\n",
        "step = 5\n",
        "model_list, coherence_values = compute_coherence_values(dictionary=id2word, corpus=corpus, texts=df['stemmed_text'],\n",
        "                                                       start=start, limit=limit, step=step)\n",
        "\n",
        "x = range(start, limit, step)\n",
        "plt.plot(x, coherence_values)\n",
        "plt.xlabel(\"Num Topics\")\n",
        "plt.ylabel(\"Coherence score\")\n",
        "plt.legend([\"coherence_values\"], loc='best')\n",
        "plt.legend()\n"
      ],
      "metadata": {
        "colab": {
          "base_uri": "https://localhost:8080/",
          "height": 543
        },
        "id": "CRHwUv6KAmfk",
        "outputId": "1160a451-11b0-4a21-b0a2-2ccd7ab44745"
      },
      "execution_count": null,
      "outputs": [
        {
          "output_type": "stream",
          "name": "stderr",
          "text": [
            "/usr/local/lib/python3.10/dist-packages/ipykernel/ipkernel.py:283: DeprecationWarning: `should_run_async` will not call `transform_cell` automatically in the future. Please pass the result to `transformed_cell` argument and any exception that happen during thetransform in `preprocessing_exc_tuple` in IPython 7.17 and above.\n",
            "  and should_run_async(code)\n",
            "WARNING:matplotlib.legend:No artists with labels found to put in legend.  Note that artists whose label start with an underscore are ignored when legend() is called with no argument.\n"
          ]
        },
        {
          "output_type": "execute_result",
          "data": {
            "text/plain": [
              "<matplotlib.legend.Legend at 0x79852fb664d0>"
            ]
          },
          "metadata": {},
          "execution_count": 565
        },
        {
          "output_type": "display_data",
          "data": {
            "text/plain": [
              "<Figure size 640x480 with 1 Axes>"
            ],
            "image/png": "[encoded data removed]"
          },
          "metadata": {}
        }
      ]
    },
    {
      "cell_type": "code",
      "source": [
        "for m, cv in zip(x, coherence_values):\n",
        "    print(\"Num Topics =\", m, \" has Coherence Value of\", round(cv, 4))"
      ],
      "metadata": {
        "colab": {
          "base_uri": "https://localhost:8080/"
        },
        "id": "9SDd3VUNDDgu",
        "outputId": "0fa38db6-9427-4bb5-8d1f-499eb06dbaad"
      },
      "execution_count": null,
      "outputs": [
        {
          "output_type": "stream",
          "name": "stdout",
          "text": [
            "Num Topics = 10  has Coherence Value of 0.6727\n",
            "Num Topics = 15  has Coherence Value of 0.6608\n"
          ]
        },
        {
          "output_type": "stream",
          "name": "stderr",
          "text": [
            "/usr/local/lib/python3.10/dist-packages/ipykernel/ipkernel.py:283: DeprecationWarning: `should_run_async` will not call `transform_cell` automatically in the future. Please pass the result to `transformed_cell` argument and any exception that happen during thetransform in `preprocessing_exc_tuple` in IPython 7.17 and above.\n",
            "  and should_run_async(code)\n"
          ]
        }
      ]
    },
    {
      "cell_type": "code",
      "source": [
        "from pprint import pprint\n",
        "optimal_model = model_list[0]\n",
        "pprint(optimal_model.print_topics())"
      ],
      "metadata": {
        "colab": {
          "base_uri": "https://localhost:8080/"
        },
        "id": "TRnkIYzzDIsc",
        "outputId": "f899c734-d8e4-4777-fe09-52b2fadf1d46"
      },
      "execution_count": null,
      "outputs": [
        {
          "output_type": "stream",
          "name": "stdout",
          "text": [
            "[(0,\n",
            "  '0.016*\"సరిగ్గా\" + 0.013*\"వుంటే\" + 0.012*\"సమయం\" + 0.012*\"అడిగింది\" + '\n",
            "  '0.010*\"పెట్టి\" + 0.008*\"చెప్పింది.\" + 0.008*\"భారత్\" + 0.008*\"విద్యా\" + '\n",
            "  '0.008*\"విజయవాడ\" + 0.008*\"ఫొగాట్\"'),\n",
            " (1,\n",
            "  '0.019*\"వాళ్ళు\" + 0.014*\"వుంది.\" + 0.012*\"పెద్ద\" + 0.010*\"ప్రశ్న\" + '\n",
            "  '0.010*\"కొండ\" + 0.009*\"నాకే\" + 0.009*\"వాటి\" + 0.009*\"మిస్టర్\" + 0.009*\"అగ్ర\" '\n",
            "  '+ 0.008*\"వేసి\"'),\n",
            " (2,\n",
            "  '0.016*\"తలుపు\" + 0.015*\"డాక్టర్\" + 0.011*\"ముఖ్యమంత్రి\" + 0.011*\"తల్లి\" + '\n",
            "  '0.010*\"చంద్రబాబు\" + 0.009*\"రోజు\" + 0.009*\"చీకటి\" + 0.008*\"కోట్\" + '\n",
            "  '0.008*\"అప్పటి\" + 0.008*\"కల్తీ\"'),\n",
            " (3,\n",
            "  '0.020*\"ఫోన్\" + 0.013*\"దగ్గర\" + 0.010*\"బాధ\" + 0.009*\"చెప్పు\" + 0.009*\"....\" '\n",
            "  '+ 0.009*\"బేబీ\" + 0.008*\"అప్పుడే\" + 0.008*\"సత్యం\" + 0.008*\"ఆలోచనల\" + '\n",
            "  '0.008*\"అంటూ\"'),\n",
            " (4,\n",
            "  '0.020*\"నువ్\" + 0.016*\"మంత్రి\" + 0.014*\"మాజీ\" + 0.013*\"అంది.\" + '\n",
            "  '0.012*\"రాష్ట్ర\" + 0.010*\"ప్రభుత్వం\" + 0.009*\"కాదు.\" + 0.009*\"రేవంత్రెడ్డి\" '\n",
            "  '+ 0.009*\"అంతా\" + 0.009*\"సీఎం\"'),\n",
            " (5,\n",
            "  '0.020*\"కేసు\" + 0.019*\"పోలీసు\" + 0.012*\"అస\" + 0.010*\"భర్త\" + 0.009*\"మాస్టర్\" '\n",
            "  '+ 0.009*\"వ్యక్తం\" + 0.009*\"ప్రభుత్వం\" + 0.009*\"తెలంగాణ\" + 0.009*\"వైకాపా\" + '\n",
            "  '0.008*\"జానీ\"'),\n",
            " (6,\n",
            "  '0.038*\"మార్కెట్\" + 0.017*\"విషయం\" + 0.017*\"రియల్\" + 0.017*\"ఎస్టేట్\" + '\n",
            "  '0.016*\"వెసులుబాట్\" + 0.016*\"చెల్లింపు\" + 0.016*\"ముందుకొస్తున్నాయి.\" + '\n",
            "  '0.016*\"కొనుగోలుదారుల\" + 0.016*\"కల్పిస్తున్నాయి.\" + 0.016*\"పథకాల\"'),\n",
            " (7,\n",
            "  '0.020*\"రిజిస్ట్రేషన్\" + 0.012*\"వెల్లడించింది.\" + 0.011*\"జరిగిన\" + '\n",
            "  '0.011*\"నెల\" + 0.011*\"శాతం\" + 0.011*\"ఆగస్టు\" + 0.011*\"నగరం\" + 0.011*\"ఇండియా\" '\n",
            "  '+ 0.011*\"ఏడాది\" + 0.011*\"నివేదిక\"'),\n",
            " (8,\n",
            "  '0.013*\"కొందరు\" + 0.013*\"అంటే\" + 0.011*\"ఇంట్\" + 0.011*\"పెళ్ళి\" + '\n",
            "  '0.010*\"రేపు\" + 0.010*\"అన్నాడు.\" + 0.010*\"పాపం\" + 0.008*\"అలాగే\" + '\n",
            "  '0.007*\"టైమ్\" + 0.007*\"దేశీయ\"'),\n",
            " (9,\n",
            "  '0.016*\"భారత\" + 0.016*\"నటు\" + 0.013*\"అతడి\" + 0.013*\"ముఖం\" + 0.012*\"రెం\" + '\n",
            "  '0.011*\"సినీ\" + 0.010*\"తెలిపారు.\" + 0.010*\"సినిమా\" + 0.009*\"చేశారు.\" + '\n",
            "  '0.009*\"తాజాగా\"')]\n"
          ]
        },
        {
          "output_type": "stream",
          "name": "stderr",
          "text": [
            "/usr/local/lib/python3.10/dist-packages/ipykernel/ipkernel.py:283: DeprecationWarning: `should_run_async` will not call `transform_cell` automatically in the future. Please pass the result to `transformed_cell` argument and any exception that happen during thetransform in `preprocessing_exc_tuple` in IPython 7.17 and above.\n",
            "  and should_run_async(code)\n"
          ]
        }
      ]
    },
    {
      "cell_type": "code",
      "source": [
        "pyLDAvis.enable_notebook()\n",
        "vis = pyLDAvis.gensim.prepare(optimal_model, corpus, id2word)\n",
        "vis\n"
      ],
      "metadata": {
        "colab": {
          "base_uri": "https://localhost:8080/",
          "height": 919
        },
        "id": "vOtnHfDwDqdM",
        "outputId": "b269f399-8e67-4f92-b21f-ad29c649ff6c"
      },
      "execution_count": null,
      "outputs": [
        {
          "output_type": "stream",
          "name": "stderr",
          "text": [
            "/usr/local/lib/python3.10/dist-packages/ipykernel/ipkernel.py:283: DeprecationWarning: `should_run_async` will not call `transform_cell` automatically in the future. Please pass the result to `transformed_cell` argument and any exception that happen during thetransform in `preprocessing_exc_tuple` in IPython 7.17 and above.\n",
            "  and should_run_async(code)\n"
          ]
        },
        {
          "output_type": "execute_result",
          "data": {
            "text/plain": [
              "PreparedData(topic_coordinates=              x         y  topics  cluster       Freq\n",
              "topic                                                \n",
              "7      0.213953 -0.082970       1        1  15.374445\n",
              "4     -0.054037  0.056707       2        1  11.929403\n",
              "5     -0.037431  0.072321       3        1  11.030045\n",
              "9      0.034082  0.046199       4        1  10.032218\n",
              "6     -0.110617 -0.202188       5        1   9.756512\n",
              "2      0.005933  0.029504       6        1   8.970315\n",
              "8     -0.035465  0.017689       7        1   8.857135\n",
              "1     -0.024106  0.009121       8        1   8.404227\n",
              "0      0.015210  0.028971       9        1   8.121476\n",
              "3     -0.007523  0.024645      10        1   7.524225, topic_info=              Term      Freq     Total Category  logprob  loglift\n",
              "546       మార్కెట్  9.000000  9.000000  Default  30.0000  30.0000\n",
              "807  రిజిస్ట్రేషన్  7.000000  7.000000  Default  29.0000  29.0000\n",
              "562           కేసు  5.000000  5.000000  Default  28.0000  28.0000\n",
              "67            నువ్  6.000000  6.000000  Default  27.0000  27.0000\n",
              "64            ఫోన్  4.000000  4.000000  Default  26.0000  26.0000\n",
              "..             ...       ...       ...      ...      ...      ...\n",
              "814            వరద  0.995016  1.942315  Topic10  -5.0703   1.9182\n",
              "0             అంటూ  1.230755  2.681372  Topic10  -4.8577   1.8083\n",
              "621            నేల  0.923464  1.941607  Topic10  -5.1449   1.8439\n",
              "737       శ్రీవారి  0.915678  4.330518  Topic10  -5.1534   1.0333\n",
              "850           బాగా  0.820067  1.781194  Topic10  -5.2636   1.8114\n",
              "\n",
              "[450 rows x 6 columns], token_table=      Topic      Freq         Term\n",
              "term                              \n",
              "171      10  0.498000         ....\n",
              "51        2  0.306317         అ...\n",
              "51        4  0.306317         అ...\n",
              "0         4  0.372943         అంటూ\n",
              "0        10  0.372943         అంటూ\n",
              "...     ...       ...          ...\n",
              "235       2  0.628601      హరీశ్రా\n",
              "554       5  0.525507  హెచ్చుతగ్గు\n",
              "304       2  0.835597       హైడ్రా\n",
              "337       1  0.305310    హైదరాబాద్\n",
              "337       6  0.305310    హైదరాబాద్\n",
              "\n",
              "[545 rows x 3 columns], R=30, lambda_step=0.01, plot_opts={'xlab': 'PC1', 'ylab': 'PC2'}, topic_order=[8, 5, 6, 10, 7, 3, 9, 2, 1, 4])"
            ],
            "text/html": [
              "\n",
              "<link rel=\"stylesheet\" type=\"text/css\" href=\"https://cdn.jsdelivr.net/gh/bmabey/pyLDAvis@3.4.0/pyLDAvis/js/ldavis.v1.0.0.css\">\n",
              "\n",
              "\n",
              "<div id=\"ldavis_el6831336129508196006666203398\" style=\"background-color:white;\"></div>\n",
              "<script type=\"text/javascript\">\n",
              "\n",
              "var ldavis_el6831336129508196006666203398_data = {\"mdsDat\": {\"x\": [0.21395291944975792, -0.054037193656619825, -0.037430751418283, 0.03408237245179227, -0.1106168270470589, 0.005933245032948501, -0.03546455876340754, -0.024105914971371385, 0.01521011461089861, -0.007523405688656248], \"y\": [-0.08297006774334045, 0.056707238700339765, 0.0723214063953111, 0.04619940176934731, -0.2021875487856403, 0.029503671358043403, 0.017688586500597347, 0.009120980590640041, 0.028971092060919117, 0.02464523915378266], \"topics\": [1, 2, 3, 4, 5, 6, 7, 8, 9, 10], \"cluster\": [1, 1, 1, 1, 1, 1, 1, 1, 1, 1], \"Freq\": [15.374444879354105, 11.929403199144547, 11.030045087276495, 10.032218084090161, 9.756512348211755, 8.970315045471567, 8.857134766851345, 8.404226539478318, 8.121475512559256, 7.524224537562459]}, \"tinfo\": {\"Term\": [\"\\u0c2e\\u0c3e\\u0c30\\u0c4d\\u0c15\\u0c46\\u0c1f\\u0c4d\", \"\\u0c30\\u0c3f\\u0c1c\\u0c3f\\u0c38\\u0c4d\\u0c1f\\u0c4d\\u0c30\\u0c47\\u0c37\\u0c28\\u0c4d\", \"\\u0c15\\u0c47\\u0c38\\u0c41\", \"\\u0c28\\u0c41\\u0c35\\u0c4d\", \"\\u0c2b\\u0c4b\\u0c28\\u0c4d\", \"\\u0c35\\u0c3e\\u0c33\\u0c4d\\u0c33\\u0c41\", \"\\u0c30\\u0c3f\\u0c2f\\u0c32\\u0c4d\", \"\\u0c0e\\u0c38\\u0c4d\\u0c1f\\u0c47\\u0c1f\\u0c4d\", \"\\u0c35\\u0c3f\\u0c37\\u0c2f\\u0c02\", \"\\u0c15\\u0c4a\\u0c28\\u0c41\\u0c17\\u0c4b\\u0c32\\u0c41\\u0c26\\u0c3e\\u0c30\\u0c41\\u0c32\", \"\\u0c15\\u0c32\\u0c4d\\u0c2a\\u0c3f\\u0c38\\u0c4d\\u0c24\\u0c41\\u0c28\\u0c4d\\u0c28\\u0c3e\\u0c2f\\u0c3f.\", \"\\u0c38\\u0c4d\\u0c24\\u0c2c\\u0c4d\\u0c26\\u0c41\\u0c17\\u0c3e\", \"\\u0c2e\\u0c41\\u0c02\\u0c26\\u0c41\\u0c15\\u0c4a\\u0c38\\u0c4d\\u0c24\\u0c41\\u0c28\\u0c4d\\u0c28\\u0c3e\\u0c2f\\u0c3f.\", \"\\u0c2a\\u0c25\\u0c15\\u0c3e\\u0c32\", \"\\u0c06\\u0c15\\u0c1f\\u0c4d\\u0c1f\\u0c41\\u0c15\\u0c41\\u0c28\\u0c47\\u0c02\\u0c26\\u0c41\", \"\\u0c1a\\u0c46\\u0c32\\u0c4d\\u0c32\\u0c3f\\u0c02\\u0c2a\\u0c41\", \"\\u0c35\\u0c46\\u0c38\\u0c41\\u0c32\\u0c41\\u0c2c\\u0c3e\\u0c1f\\u0c4d\", \"\\u0c2d\\u0c3e\\u0c30\\u0c24\", \"\\u0c2a\\u0c4b\\u0c32\\u0c40\\u0c38\\u0c41\", \"\\u0c28\\u0c3f\\u0c30\\u0c4d\\u0c2e\\u0c3e\\u0c23\", \"\\u0c24\\u0c32\\u0c41\\u0c2a\\u0c41\", \"\\u0c28\\u0c1f\\u0c41\", \"\\u0c38\\u0c30\\u0c3f\\u0c17\\u0c4d\\u0c17\\u0c3e\", \"\\u0c21\\u0c3e\\u0c15\\u0c4d\\u0c1f\\u0c30\\u0c4d\", \"\\u0c2e\\u0c02\\u0c24\\u0c4d\\u0c30\\u0c3f\", \"\\u0c2e\\u0c3e\\u0c1c\\u0c40\", \"\\u0c35\\u0c41\\u0c02\\u0c26\\u0c3f.\", \"\\u0c05\\u0c02\\u0c26\\u0c3f.\", \"\\u0c32\\u0c47\\u0c26\\u0c41.\", \"\\u0c35\\u0c46\\u0c32\\u0c4d\\u0c32\\u0c21\\u0c3f\\u0c02\\u0c1a\\u0c3f\\u0c02\\u0c26\\u0c3f.\", \"\\u0c30\\u0c3f\\u0c1c\\u0c3f\\u0c38\\u0c4d\\u0c1f\\u0c4d\\u0c30\\u0c47\\u0c37\\u0c28\\u0c4d\", \"\\u0c35\\u0c46\\u0c32\\u0c4d\\u0c32\\u0c21\\u0c3f\\u0c02\\u0c1a\\u0c3f\\u0c02\\u0c26\\u0c3f.\", \"\\u0c06\\u0c17\\u0c38\\u0c4d\\u0c1f\\u0c41\", \"\\u0c0f\\u0c21\\u0c3e\\u0c26\\u0c3f\", \"\\u0c15\\u0c4b\\u0c1f\\u0c4d\\u0c32\\u0c41\\u0c17\\u0c3e\", \"\\u0c17\\u0c43\\u0c39\\u0c3e\", \"\\u0c1c\\u0c30\\u0c3f\\u0c17\\u0c3e\\u0c2f\\u0c3f.\", \"\\u0c28\\u0c48\\u0c1f\\u0c4d\", \"\\u0c2a\\u0c4b\\u0c32\\u0c3f\\u0c38\\u0c4d\\u0c24\\u0c47\", \"\\u0c35\\u0c3f\\u0c32\\u0c41\\u0c35\", \"\\u0c38\\u0c4d\\u0c25\\u0c3f\\u0c30\\u0c3e\\u0c38\\u0c4d\\u0c24\\u0c41\", \"\\u0c24\\u0c17\\u0c4d\\u0c17\\u0c3e\\u0c2f\", \"\\u0c2b\\u0c4d\\u0c30\\u0c3e\\u0c02\\u0c15\\u0c4d\", \"\\u0c28\\u0c3f\\u0c35\\u0c47\\u0c26\\u0c3f\\u0c15\", \"\\u0c36\\u0c3e\\u0c24\\u0c02\", \"\\u0c28\\u0c46\\u0c2f\\u0c4d\\u0c2f\\u0c3f\", \"\\u0c28\\u0c17\\u0c30\\u0c02\", \"\\u0c2e\\u0c41\\u0c2a\\u0c4d\\u0c2a\\u0c48\", \"\\u0c2a\\u0c4d\\u0c30\\u0c47\\u0c2e\", \"\\u0c35\\u0c3f\\u0c1a\\u0c3e\\u0c30\\u0c23\", \"\\u0c28\\u0c46\\u0c32\", \"\\u0c2a\\u0c46\\u0c26\\u0c35\\u0c41\", \"\\u0c24\\u0c46\\u0c26\\u0c47\\u0c2a\\u0c3e\", \"\\u0c37\\u0c3e\\u0c15\\u0c4d\", \"\\u0c24\\u0c3f\\u0c30\\u0c41\\u0c2e\\u0c32\", \"\\u0c24\\u0c46\\u0c32\\u0c3f\\u0c38\\u0c3f\", \"\\u0c38\\u0c48\\u0c2c\\u0c30\\u0c4d\", \"\\u0c07\\u0c38\\u0c41\\u0c15\", \"\\u0c2c\\u0c3e\\u0c27\\u0c4d\\u0c2f\\u0c24\", \"\\u0c32\\u0c15\\u0c4d\\u0c37\\u0c23\\u0c3e\\u0c32\", \"\\u0c07\\u0c02\\u0c21\\u0c3f\\u0c2f\\u0c3e\", \"\\u0c1c\\u0c30\\u0c3f\\u0c17\\u0c3f\\u0c28\", \"\\u0c09\\u0c02\\u0c26\\u0c3f.\", \"\\u0c05\\u0c21\\u0c41\\u0c17\\u0c41\", \"\\u0c1a\\u0c47\\u0c38\\u0c3f\", \"\\u0c28\\u0c28\\u0c4d\", \"\\u0c26\\u0c40\\u0c28\\u0c4d\", \"\\u0c28\\u0c3f\\u0c2e\\u0c3f\\u0c37\\u0c3e\", \"\\u0c24\\u0c46\\u0c32\\u0c3f\\u0c2a\\u0c3e\\u0c30\\u0c41.\", \"\\u0c28\\u0c41\\u0c35\\u0c4d\", \"\\u0c05\\u0c02\\u0c26\\u0c3f.\", \"\\u0c15\\u0c4d\\u0c37\\u0c23\\u0c02\", \"\\u0c05\\u0c02\\u0c24\\u0c3e\", \"\\u0c15\\u0c4a\\u0c26\\u0c4d\\u0c26\\u0c40\", \"\\u0c05\\u0c15\\u0c4d\\u0c30\\u0c2e\", \"\\u0c2a\\u0c4b\\u0c38\\u0c4d\\u0c1f\\u0c41\", \"\\u0c2a\\u0c4d\\u0c30\\u0c3e\\u0c30\\u0c02\\u0c2d\\u0c3f\\u0c02\\u0c1a\\u0c3e\\u0c30\\u0c41.\", \"\\u0c30\\u0c15\\u0c30\\u0c15\\u0c3e\", \"\\u0c06\\u0c26\\u0c3f\\u0c35\\u0c3e\\u0c30\\u0c02\", \"\\u0c30\\u0c3e\\u0c37\\u0c4d\\u0c1f\\u0c4d\\u0c30\", \"\\u0c2e\\u0c47\\u0c21\\u0c4d\\u0c1a\\u0c32\\u0c4d\", \"\\u0c15\\u0c3e\\u0c26\\u0c41.\", \"\\u0c28\\u0c3f\\u0c30\\u0c4d\\u0c35\\u0c39\\u0c3f\\u0c02\\u0c1a\\u0c3e\\u0c30\\u0c41.\", \"\\u0c2a\\u0c4d\\u0c30\\u0c15\\u0c3e\\u0c36\\u0c02\", \"\\u0c39\\u0c48\\u0c21\\u0c4d\\u0c30\\u0c3e\", \"\\u0c26\\u0c3e\\u0c30\\u0c4d\\u0c15\\u0c3e\", \"\\u0c28\\u0c3e\\u0c30\\u0c3e\", \"\\u0c2a\\u0c30\\u0c3f\\u0c36\\u0c4d\\u0c30\\u0c2e\", \"\\u0c36\\u0c3e\\u0c16\", \"\\u0c32\\u0c47\\u0c1a\\u0c3f\", \"\\u0c28\\u0c46\\u0c2e\\u0c4d\\u0c2e\\u0c26\\u0c3f\\u0c17\\u0c3e\", \"\\u0c2e\\u0c42\", \"\\u0c2e\\u0c3e\\u0c1c\\u0c40\", \"\\u0c39\\u0c30\\u0c40\\u0c36\\u0c4d\\u0c30\\u0c3e\", \"\\u0c2e\\u0c02\\u0c24\\u0c4d\\u0c30\\u0c3f\", \"\\u0c05\\u0c28\\u0c4d\\u0c28\\u0c3e\\u0c30\\u0c41.\", \"\\u0c15\\u0c4a\\u0c32\\u0c46\\u0c38\\u0c4d\\u0c1f\\u0c4d\\u0c30\\u0c3e\\u0c32\\u0c4d\", \"\\u0c2d\\u0c30\\u0c4d\\u0c24\\u0c40\", \"\\u0c2a\\u0c1f\\u0c4d\\u0c1f\\u0c41\", \"\\u0c35\\u0c3e\\u0c33\\u0c4d\\u0c33\", \"\\u0c30\\u0c47\\u0c35\\u0c02\\u0c24\\u0c4d\\u0c30\\u0c46\\u0c21\\u0c4d\\u0c21\\u0c3f\", \"\\u0c38\\u0c02\\u0c35\\u0c24\\u0c4d\\u0c38\\u0c30\\u0c02\", \"\\u0c09\\u0c26\\u0c4d\\u0c2f\\u0c4b\\u0c17\\u0c02\", \"\\u0c38\\u0c40\\u0c0e\\u0c02\", \"\\u0c35\\u0c1a\\u0c4d\\u0c1a\\u0c3f\\u0c28\", \"\\u0c2a\\u0c3e\\u0c1f\\u0c41\", \"\\u0c2a\\u0c4d\\u0c30\\u0c2d\\u0c41\\u0c24\\u0c4d\\u0c35\\u0c02\", \"\\u0c0f\\u0c30\\u0c4d\\u0c2a\\u0c3e\\u0c1f\\u0c41\", \"\\u0c15\\u0c4a\\u0c28\\u0c4d\", \"\\u0c35\\u0c48\\u0c15\\u0c3e\\u0c2a\\u0c3e\", \"\\u0c05...\", \"\\u0c2e\\u0c41\\u0c16\\u0c4d\\u0c2f\\u0c2e\\u0c02\\u0c24\\u0c4d\\u0c30\\u0c3f\", \"\\u0c15\\u0c47\\u0c38\\u0c41\", \"\\u0c05\\u0c38\", \"\\u0c2e\\u0c3e\\u0c38\\u0c4d\\u0c1f\\u0c30\\u0c4d\", \"\\u0c1c\\u0c3e\\u0c28\\u0c40\", \"\\u0c2c\\u0c24\\u0c41\\u0c15\\u0c2e\\u0c4d\\u0c2e\", \"\\u0c2a\\u0c4d\\u0c30\\u0c3e\\u0c30\\u0c02\\u0c2d\\u0c2e\\u0c2f\\u0c4d\\u0c2f\\u0c3e\\u0c2f\\u0c3f.\", \"\\u0c35\\u0c4d\\u0c2f\\u0c15\\u0c4d\\u0c24\\u0c41\", \"\\u0c35\\u0c3f\\u0c26\\u0c4d\\u0c2f\\u0c3e\\u0c38\\u0c3e\\u0c17\\u0c30\\u0c4d\", \"\\u0c35\\u0c4d\\u0c2f\\u0c15\\u0c4d\\u0c24\\u0c02\", \"\\u0c05\\u0c30\\u0c46\\u0c38\\u0c4d\\u0c1f\\u0c41\", \"\\u0c05\\u0c2f\\u0c3f\\u0c02\\u0c26\\u0c3f.\", \"\\u0c15\\u0c38\\u0c4d\\u0c1f\\u0c21\\u0c40\", \"\\u0c15\\u0c4a\\u0c02\\u0c1a\\u0c46\\u0c02\", \"\\u0c15\\u0c4a\\u0c30\\u0c3f\\u0c2f\\u0c4b\\u0c17\\u0c4d\\u0c30\\u0c3e\\u0c2b\\u0c30\\u0c4d\", \"\\u0c2a\\u0c4b\\u0c32\\u0c40\\u0c38\\u0c41\", \"\\u0c38\\u0c02\\u0c17\\u0c24\\u0c3f\", \"\\u0c2a\\u0c4d\\u0c30\\u0c2d\\u0c41\\u0c24\\u0c4d\\u0c35\", \"\\u0c35\\u0c3f\\u0c38\\u0c41\\u0c17\\u0c4d\\u0c17\\u0c3e\", \"\\u0c1c\\u0c46\\u0c24\\u0c4d\\u0c35\\u0c3e\\u0c28\\u0c40\", \"\\u0c35\\u0c3f\\u0c2d\\u0c3e\\u0c17\\u0c02\", \"\\u0c15\\u0c3e\\u0c26\\u0c02\\u0c2c\\u0c30\\u0c40\", \"\\u0c15\\u0c41\\u0c15\\u0c4d\\u0c15\", \"\\u0c35\\u0c47\\u0c21\\u0c41\\u0c15\", \"\\u0c1a\\u0c47\\u0c38\\u0c4d\\u0c24\\u0c41\\u0c02\\u0c26\\u0c3f.\", \"\\u0c1c\\u0c24\\u0c4d\\u0c35\\u0c3e\\u0c28\\u0c40\", \"\\u0c38\\u0c3e\\u0c27\\u0c28\", \"\\u0c06\\u0c17\\u0c4d\\u0c30\\u0c39\\u0c02\", \"\\u0c17\\u0c4c\\u0c21\\u0c4d\", \"\\u0c35\\u0c4d\\u0c2f\\u0c3e\\u0c2a\\u0c3e\\u0c30\", \"\\u0c2e\\u0c41\\u0c02\\u0c2c\\u0c2f\\u0c3f\", \"\\u0c2d\\u0c30\\u0c4d\\u0c24\", \"\\u0c24\\u0c46\\u0c32\\u0c02\\u0c17\\u0c3e\\u0c23\", \"\\u0c38\\u0c4d\\u0c24\\u0c4d\\u0c30\\u0c40\", \"\\u0c05\\u0c02\\u0c26\\u0c41\", \"\\u0c24\\u0c2e\", \"\\u0c15\\u0c3e\\u0c30\\u0c23\\u0c02\", \"\\u0c15\\u0c4b\\u0c30\\u0c4d\\u0c1f\\u0c41\", \"\\u0c05\\u0c27\\u0c4d\\u0c2f\\u0c15\\u0c4d\\u0c37\\u0c41\", \"\\u0c35\\u0c48\\u0c15\\u0c3e\\u0c2a\\u0c3e\", \"\\u0c35\\u0c4d\\u0c2f\\u0c15\\u0c4d\\u0c24\\u0c3f\", \"\\u0c2a\\u0c4d\\u0c30\\u0c2d\\u0c41\\u0c24\\u0c4d\\u0c35\\u0c02\", \"\\u0c1a\\u0c3f\\u0c28\\u0c4d\\u0c28\", \"\\u0c1a\\u0c47\\u0c36\\u0c3e\\u0c30\\u0c41.\", \"\\u0c1a\\u0c47\\u0c38\\u0c3f\\u0c28\", \"\\u0c35\\u0c3e\\u0c30\\u0c3f\", \"\\u0c2e\\u0c41\\u0c16\\u0c02\", \"\\u0c2d\\u0c3e\\u0c30\\u0c24\", \"\\u0c28\\u0c1f\\u0c41\", \"\\u0c05\\u0c02\\u0c26\\u0c41\\u0c15\\u0c41\\u0c28\\u0c4d\\u0c28\\u0c3e\\u0c30\\u0c41\", \"\\u0c38\\u0c39\\u0c3e\\u0c2f\\u0c02\", \"\\u0c09\\u0c26\\u0c4d\\u0c26\\u0c47\\u0c36\\u0c3f\\u0c02\\u0c1a\\u0c3f\", \"\\u0c1a\\u0c42\\u0c38\\u0c4d\\u0c24\\u0c42\", \"\\u0c2c\\u0c46\\u0c1f\\u0c4d\\u0c1f\\u0c3f\\u0c02\\u0c17\\u0c4d\", \"\\u0c1c\\u0c1f\\u0c4d\\u0c1f\\u0c41\", \"\\u0c05\\u0c24\\u0c21\\u0c3f\", \"\\u0c35\\u0c3e\\u0c21\\u0c3f\", \"\\u0c15\\u0c4d\\u0c30\\u0c3f\\u0c15\\u0c46\\u0c1f\\u0c4d\", \"\\u0c35\\u0c40\\u0c21\\u0c3f\\u0c2f\\u0c4b\", \"\\u0c05\\u0c2d\\u0c3f\\u0c2e\\u0c3e\\u0c28\\u0c41\\u0c32\", \"\\u0c1c\\u0c3e\\u0c24\\u0c40\\u0c2f\", \"\\u0c38\\u0c4d\\u0c25\\u0c3f\\u0c24\\u0c3f\\u0c17\\u0c24\\u0c41\", \"\\u0c0f\\u0c33\\u0c4d\\u0c32\\u0c2a\\u0c3e\\u0c1f\\u0c41\", \"\\u0c24\\u0c3e\\u0c28\\u0c46\\u0c02\\u0c26\\u0c41\", \"\\u0c28\\u0c1f\\u0c3f\\u0c02\\u0c1a\\u0c32\\u0c47\\u0c26\\u0c4b\", \"\\u0c38\\u0c3f\\u0c28\\u0c40\", \"\\u0c38\\u0c43\\u0c37\\u0c4d\\u0c1f\\u0c3f\\u0c02\\u0c1a\\u0c3f\\u0c28\", \"\\u0c2c\\u0c30\\u0c3f\\u0c32\\u0c4b\", \"\\u0c36\\u0c41\\u0c15\\u0c4d\\u0c30\\u0c35\\u0c3e\\u0c30\\u0c02\", \"\\u0c35\\u0c48\\u0c30\\u0c32\\u0c4d\\u0c17\\u0c3e\", \"\\u0c06\\u0c1f\\u0c17\\u0c3e\", \"\\u0c1a\\u0c3f\\u0c35\\u0c30\\u0c3f\", \"\\u0c17\\u0c4a\\u0c02\\u0c24\\u0c41\", \"\\u0c2a\\u0c41\\u0c1f\\u0c4d\\u0c1f\\u0c47\", \"\\u0c07\\u0c02\\u0c1f\\u0c30\\u0c4d\\u0c35\\u0c4d\\u0c2f\\u0c42\", \"\\u0c1a\\u0c46\\u0c28\\u0c4d\\u0c28\\u0c48\", \"\\u0c38\\u0c40\\u0c1c\\u0c28\\u0c4d\", \"\\u0c24\\u0c3e\\u0c1c\\u0c3e\\u0c17\\u0c3e\", \"\\u0c38\\u0c3f\\u0c28\\u0c3f\\u0c2e\\u0c3e\", \"\\u0c12\\u0c15\\u0c4d\\u0c15\", \"\\u0c35\\u0c2f\\u0c38\\u0c41\", \"\\u0c2a\\u0c3f\\u0c32\\u0c4d\\u0c32\", \"\\u0c30\\u0c46\\u0c02\", \"\\u0c24\\u0c46\\u0c32\\u0c3f\\u0c2a\\u0c3e\\u0c30\\u0c41.\", \"\\u0c1a\\u0c47\\u0c36\\u0c3e\\u0c30\\u0c41.\", \"\\u0c0e\\u0c35\\u0c30\\u0c3f\", \"\\u0c15\\u0c41\\u0c1f\\u0c41\\u0c02\\u0c2c\", \"\\u0c0e\\u0c28\\u0c4d\\u0c1f\\u0c40\\u0c06\\u0c30\\u0c4d\", \"\\u0c0e\\u0c02\", \"\\u0c2e\\u0c3e\\u0c1c\\u0c40\", \"\\u0c35\\u0c47\\u0c26\\u0c3f\\u0c15\\u0c17\\u0c3e\", \"\\u0c30\\u0c3f\\u0c2f\\u0c32\\u0c4d\", \"\\u0c0e\\u0c38\\u0c4d\\u0c1f\\u0c47\\u0c1f\\u0c4d\", \"\\u0c06\\u0c15\\u0c1f\\u0c4d\\u0c1f\\u0c41\\u0c15\\u0c41\\u0c28\\u0c47\\u0c02\\u0c26\\u0c41\", \"\\u0c15\\u0c32\\u0c4d\\u0c2a\\u0c3f\\u0c38\\u0c4d\\u0c24\\u0c41\\u0c28\\u0c4d\\u0c28\\u0c3e\\u0c2f\\u0c3f.\", \"\\u0c15\\u0c4a\\u0c28\\u0c41\\u0c17\\u0c4b\\u0c32\\u0c41\\u0c26\\u0c3e\\u0c30\\u0c41\\u0c32\", \"\\u0c1a\\u0c46\\u0c32\\u0c4d\\u0c32\\u0c3f\\u0c02\\u0c2a\\u0c41\", \"\\u0c2a\\u0c25\\u0c15\\u0c3e\\u0c32\", \"\\u0c2e\\u0c41\\u0c02\\u0c26\\u0c41\\u0c15\\u0c4a\\u0c38\\u0c4d\\u0c24\\u0c41\\u0c28\\u0c4d\\u0c28\\u0c3e\\u0c2f\\u0c3f.\", \"\\u0c35\\u0c46\\u0c38\\u0c41\\u0c32\\u0c41\\u0c2c\\u0c3e\\u0c1f\\u0c4d\", \"\\u0c38\\u0c4d\\u0c24\\u0c2c\\u0c4d\\u0c26\\u0c41\\u0c17\\u0c3e\", \"\\u0c2e\\u0c3e\\u0c30\\u0c4d\\u0c15\\u0c46\\u0c1f\\u0c4d\", \"\\u0c28\\u0c3f\\u0c30\\u0c4d\\u0c2e\\u0c3e\\u0c23\", \"\\u0c1a\\u0c47\\u0c38\\u0c3f\\u0c28\\u0c3e\", \"\\u0c05\\u0c21\\u0c41\\u0c17\\u0c41\\u0c24\\u0c41\\u0c28\\u0c4d\\u0c28\", \"\\u0c09\\u0c02\\u0c21\\u0c2c\\u0c4b\\u0c24\\u0c41\\u0c02\\u0c26\\u0c3f\", \"\\u0c15\\u0c4a\\u0c28\\u0c21\\u0c3e\\u0c28\\u0c3f\", \"\\u0c15\\u0c4a\\u0c28\\u0c3e\\u0c32\\u0c28\\u0c41\\u0c15\\u0c41\\u0c28\\u0c47\", \"\\u0c1a\\u0c46\\u0c2c\\u0c41\\u0c24\\u0c41\\u0c28\\u0c4d\\u0c28\\u0c3e\\u0c30\\u0c41.\", \"\\u0c1a\\u0c47\\u0c2f\\u0c35\\u0c1a\\u0c4d\\u0c1a\\u0c3e\", \"\\u0c2a\\u0c4d\\u0c30\\u0c36\\u0c4d\\u0c28\\u0c32\\u0c3f\\u0c35\\u0c40.\", \"\\u0c2e\\u0c41\\u0c28\\u0c4d\\u0c2e\\u0c41\\u0c02\\u0c26\\u0c41\", \"\\u0c30\\u0c3f\\u0c2f\\u0c32\\u0c4d\\u0c1f\\u0c30\\u0c4d\\u0c32\", \"\\u0c35\\u0c1a\\u0c4d\\u0c1a\\u0c3f\\u0c28\\u0c35\\u0c3e\\u0c30\\u0c41..\", \"\\u0c38\\u0c2e\\u0c2f\\u0c2e\", \"\\u0c38\\u0c39\\u0c1c\\u0c2e\\u0c28\\u0c3f...\", \"\\u0c38\\u0c4d\\u0c25\\u0c32\\u0c3e\", \"\\u0c39\\u0c46\\u0c1a\\u0c4d\\u0c1a\\u0c41\\u0c24\\u0c17\\u0c4d\\u0c17\\u0c41\", \"\\u0c2e\\u0c43\\u0c24\\u0c4d\\u0c2f\\u0c41\\u0c35\\u0c3e\\u0c24\", \"\\u0c2a\\u0c21\\u0c4d\\u0c21\\u0c3e\\u0c21\\u0c41.\", \"\\u0c35\\u0c46\\u0c28\\u0c15\\u0c4d\", \"\\u0c32\\u0c47\\u0c26\\u0c41.\", \"\\u0c05\\u0c2f\\u0c3f\\u0c28\\u0c3e\", \"\\u0c35\\u0c3f\\u0c37\\u0c2f\\u0c02\", \"\\u0c38\\u0c02\\u0c38\\u0c4d\\u0c25\", \"\\u0c07\\u0c32\\u0c4d\", \"\\u0c1a\\u0c42\\u0c21\\u0c17\\u0c3e\\u0c28\\u0c47\", \"\\u0c35\\u0c1a\\u0c4d\\u0c1a\\u0c3f\\u0c02\\u0c26\\u0c3f.\", \"\\u0c35\\u0c3e\\u0c30\\u0c3f\", \"\\u0c30\\u0c3e\\u0c24\\u0c4d\\u0c30\\u0c3f\", \"\\u0c2a\\u0c4d\\u0c30\\u0c2a\\u0c02\\u0c1a\\u0c02\", \"\\u0c24\\u0c32\\u0c41\\u0c2a\\u0c41\", \"\\u0c21\\u0c3e\\u0c15\\u0c4d\\u0c1f\\u0c30\\u0c4d\", \"\\u0c1a\\u0c42\\u0c38\\u0c3f\\u0c02\\u0c26\\u0c3f.\", \"\\u0c2a\\u0c3e\\u0c32\\u0c4d\\u0c17\\u0c4a\\u0c28\\u0c4d\\u0c28\\u0c3e\\u0c30\\u0c41.\", \"\\u0c05\\u0c2a\\u0c4d\\u0c2a\\u0c1f\\u0c3f\", \"\\u0c17\\u0c41\\u0c30\\u0c4d\\u0c24\\u0c41\", \"\\u0c15\\u0c4b\\u0c1f\\u0c4d\", \"\\u0c2a\\u0c21\\u0c4d\\u0c21\\u0c3e\\u0c30\\u0c41.\", \"\\u0c1a\\u0c47\\u0c38\\u0c41\\u0c15\\u0c4b\\u0c32\\u0c47\\u0c26\\u0c41.\", \"\\u0c2a\\u0c25\\u0c15\\u0c3e\\u0c28\\u0c4d\", \"\\u0c21\\u0c2c\\u0c4d\\u0c2c\\u0c41\", \"\\u0c2a\\u0c4d\\u0c30\\u0c3e\\u0c02\\u0c17\\u0c23\", \"\\u0c07\\u0c1a\\u0c4d\\u0c1a\\u0c3f\\u0c28\", \"\\u0c1c\\u0c2f\\u0c02\\u0c24\\u0c3f\", \"\\u0c1a\\u0c02\\u0c26\\u0c4d\\u0c30\\u0c2c\\u0c3e\\u0c2c\\u0c41\", \"\\u0c24\\u0c32\\u0c4d\\u0c32\\u0c3f\", \"\\u0c1a\\u0c40\\u0c15\\u0c1f\\u0c3f\", \"\\u0c2a\\u0c02\\u0c2a\\u0c3f\\u0c23\\u0c40\", \"\\u0c1a\\u0c47\\u0c38\\u0c4d\\u0c24\\u0c3e\\u0c2e\", \"\\u0c38\\u0c3f\\u0c1f\\u0c40\", \"\\u0c2a\\u0c35\\u0c28\\u0c4d\\u0c15\\u0c32\\u0c4d\\u0c2f\\u0c3e\\u0c23\\u0c4d\", \"\\u0c06...\", \"\\u0c15\\u0c32\\u0c4d\\u0c24\\u0c40\", \"\\u0c24\\u0c46\\u0c32\\u0c3f\\u0c2f\\u0c26\\u0c41.\", \"\\u0c27\\u0c30\", \"\\u0c06\\u0c02\\u0c26\\u0c4b\\u0c33\\u0c28\", \"\\u0c05\\u0c28...\", \"\\u0c30\\u0c42..\", \"\\u0c06\\u0c38\\u0c15\\u0c4d\\u0c24\\u0c3f\\u0c15\\u0c30\", \"\\u0c05\\u0c2e\\u0c32\\u0c41\", \"\\u0c2e\\u0c41\\u0c16\\u0c4d\\u0c2f\\u0c2e\\u0c02\\u0c24\\u0c4d\\u0c30\\u0c3f\", \"\\u0c39\\u0c48\\u0c26\\u0c30\\u0c3e\\u0c2c\\u0c3e\\u0c26\\u0c4d\", \"\\u0c32\\u0c47\\u0c15\\u0c41\\u0c02\\u0c21\\u0c3e\", \"\\u0c32\\u0c21\\u0c4d\\u0c21\\u0c42\", \"\\u0c30\\u0c4b\\u0c1c\\u0c41\", \"\\u0c24\\u0c3f\\u0c30\\u0c41\\u0c2e\", \"\\u0c1a\\u0c47\\u0c2f\\u0c21\\u0c3e\\u0c28\\u0c3f\", \"\\u0c07\\u0c02\\u0c1f\\u0c3f\", \"\\u0c38\\u0c40\\u0c0e\\u0c02\", \"\\u0c2a\\u0c46\\u0c26\\u0c4d\\u0c26\", \"\\u0c24\\u0c46\\u0c32\\u0c3f\\u0c2f\", \"\\u0c28\\u0c47\\u0c28\\u0c42\", \"\\u0c30\\u0c47\\u0c2a\\u0c41\", \"\\u0c05\\u0c28\\u0c4d\\u0c28\\u0c3e\\u0c21\\u0c41.\", \"\\u0c2a\\u0c3e\\u0c2a\\u0c02\", \"\\u0c05\\u0c32\\u0c3e\\u0c17\\u0c47\", \"\\u0c32\\u0c47\\u0c35\\u0c41.\", \"\\u0c26\\u0c47\\u0c36\\u0c40\\u0c2f\", \"\\u0c05\\u0c17\\u0c4d\", \"\\u0c2a\\u0c42\\u0c30\\u0c4d\\u0c24\\u0c3f\\u0c17\\u0c3e\", \"\\u0c15\\u0c02\\u0c1f\\u0c3f\", \"\\u0c15\\u0c3e\\u0c32\\u0c41\\u0c35\", \"\\u0c15\\u0c4a\\u0c02\\u0c26\\u0c30\\u0c41\", \"\\u0c2e\\u0c26\\u0c4d\\u0c2f\\u0c02\", \"\\u0c32\\u0c4c\\u0c15\\u0c3f\\u0c15\", \"\\u0c2a\\u0c26\\u0c35\\u0c3f\", \"\\u0c2a\\u0c3e\\u0c32\\u0c15\\u0c41\", \"\\u0c35\\u0c1a\\u0c4d\\u0c1a\\u0c3e\\u0c2f\\u0c3f.\", \"\\u0c1f\\u0c48\\u0c2e\\u0c4d\", \"\\u0c07\\u0c02\\u0c1f\\u0c4d\", \"\\u0c2e\\u0c30\\u0c2e\\u0c4d\\u0c2e\\u0c24\\u0c41\", \"\\u0c2e\\u0c41\\u0c17\\u0c3f\\u0c36\\u0c3e\\u0c2f\\u0c3f.\", \"\\u0c38\\u0c42\\u0c1a\\u0c40\", \"\\u0c38\\u0c4d\\u0c1f\\u0c3e\\u0c15\\u0c4d\", \"\\u0c09\\u0c02\\u0c21\\u0c3f\\u0c2a\\u0c4b\\u0c24\\u0c41\\u0c28\\u0c4d\\u0c28\\u0c3e\\u0c02.\", \"\\u0c0e\\u0c35\\u0c30\\u0c3f\\u0c15\\u0c3f\\u0c35\\u0c3e\\u0c30\\u0c47\", \"\\u0c15\\u0c32\\u0c3f\\u0c38\\u0c47\", \"\\u0c17\\u0c4a\\u0c21\\u0c35\\u0c32\\u0c47\\u0c2e\\u0c40\", \"\\u0c1a\\u0c47\\u0c38\\u0c4d\\u0c24\\u0c41\\u0c28\\u0c4d\\u0c28\\u0c3e\\u0c02.\", \"\\u0c2a\\u0c26\\u0c47\\u0c33\\u0c4d\\u0c32\\u0c35\\u0c41\\u0c24\\u0c4b\\u0c02\\u0c26\\u0c3f.\", \"\\u0c2c\\u0c3f\\u0c1c\\u0c40.\", \"\\u0c2e\\u0c4c\\u0c28\\u0c02\\u0c17\\u0c3e\", \"\\u0c05\\u0c02\\u0c1f\\u0c47\", \"\\u0c30\\u0c02\\u0c17\\u0c3e\\u0c30\\u0c46\\u0c21\\u0c4d\\u0c21\\u0c3f\", \"\\u0c2a\\u0c46\\u0c33\\u0c4d\\u0c33\\u0c3f\", \"\\u0c35\\u0c3f\\u0c2e\\u0c30\\u0c4d\\u0c36\", \"\\u0c1a\\u0c46\\u0c2a\\u0c4d\\u0c2a\\u0c3e\", \"\\u0c28\\u0c40\\u0c33\\u0c4d\\u0c33\\u0c41\", \"\\u0c35\\u0c4d\\u0c2f\\u0c3e\\u0c27\\u0c3f\", \"\\u0c35\\u0c3f\\u0c26\\u0c4d\\u0c2f\", \"\\u0c36\\u0c15\\u0c4d\\u0c24\\u0c3f\", \"\\u0c30\\u0c46\\u0c02\", \"\\u0c2d\\u0c3e\\u0c30\\u0c24\\u0c4d\", \"\\u0c05\\u0c21\\u0c41\\u0c17\\u0c41\", \"\\u0c35\\u0c3e\\u0c33\\u0c4d\\u0c33\\u0c41\", \"\\u0c28\\u0c3e\\u0c15\\u0c47\", \"\\u0c2e\\u0c3f\\u0c38\\u0c4d\\u0c1f\\u0c30\\u0c4d\", \"\\u0c05\\u0c17\\u0c4d\\u0c30\", \"\\u0c1c\\u0c35\\u0c3e\\u0c2c\\u0c41\", \"\\u0c35\\u0c41\\u0c02\\u0c26\\u0c3f.\", \"\\u0c26\\u0c30\\u0c4d\\u0c36\\u0c15\\u0c41\", \"\\u0c24\\u0c46\\u0c32\\u0c41\\u0c38\\u0c41\", \"\\u0c38\\u0c3e\\u0c27\\u0c3e\\u0c30\\u0c23\", \"\\u0c15\\u0c4a\\u0c02\\u0c21\", \"\\u0c1a\\u0c3f\\u0c30\\u0c02\\u0c1c\\u0c40\\u0c35\\u0c3f\", \"\\u0c38...\", \"\\u0c15\\u0c47\\u0c1f\\u0c40\\u0c06\\u0c30\\u0c4d\", \"\\u0c35\\u0c4d\\u0c2f\\u0c3e\\u0c16\\u0c4d\\u0c2f\", \"\\u0c2c\\u0c41\\u0c15\\u0c4d\", \"\\u0c2e\\u0c3e\\u0c24\\u0c4d\\u0c30\\u0c02\", \"\\u0c24\\u0c30\\u0c35\\u0c3e\\u0c24\", \"\\u0c05\\u0c17\\u0c4d\\u0c30\\u0c30\\u0c3e\\u0c1c\\u0c4d\\u0c2f\\u0c02\", \"\\u0c15\\u0c3e\\u0c30\\u0c41\", \"\\u0c1f\\u0c4d\\u0c30\\u0c4b\\u0c2b\\u0c40\", \"\\u0c26\\u0c41\\u0c32\\u0c40\\u0c2a\\u0c4d\", \"\\u0c35\\u0c3e\\u0c1f\\u0c3f\", \"\\u0c1a\\u0c46\\u0c2a\\u0c4d\\u0c2a\\u0c3e\\u0c21\\u0c41.\", \"\\u0c09\\u0c02\\u0c1a\\u0c3e\\u0c32\\u0c4d\\u0c38\\u0c3f\\u0c28\", \"\\u0c0e\\u0c35\\u0c30\\u0c3f\\u0c15\\u0c40\", \"\\u0c2a\\u0c4d\\u0c30\\u0c36\\u0c4d\\u0c28\\u0c3f\\u0c02\\u0c1a\\u0c3e\\u0c30\\u0c41.\", \"\\u0c2d\\u0c2f\\u0c2e\\u0c47\\u0c38\\u0c3f\\u0c02\\u0c26\\u0c3f.\", \"\\u0c2e\\u0c4a\\u0c26\\u0c1f\", \"\\u0c30\\u0c39\\u0c38\\u0c4d\\u0c2f\\u0c02\\u0c17\\u0c3e\", \"\\u0c35\\u0c46\\u0c32\\u0c4d\\u0c32\\u0c21\\u0c3f\\u0c02\\u0c1a\\u0c2e\\u0c28\\u0c4d\\u0c28\\u0c3e\\u0c30\\u0c41.\", \"\\u0c15\\u0c33\\u0c4d\\u0c33\\u0c41\", \"\\u0c2a\\u0c4d\\u0c30\\u0c36\\u0c4d\\u0c28\", \"\\u0c38\\u0c48\\u0c24\\u0c02\", \"\\u0c35\\u0c47\\u0c38\\u0c3f\", \"\\u0c38\\u0c47\\u0c15\\u0c30\\u0c3f\\u0c02\\u0c1a\\u0c3f\", \"\\u0c35\\u0c41\\u0c28\\u0c4d\\u0c28\", \"\\u0c2a\\u0c46\\u0c26\\u0c4d\\u0c26\", \"\\u0c15\\u0c25\\u0c3e\\u0c28\\u0c3e\\u0c2f\\u0c15\\u0c41\", \"\\u0c35\\u0c1a\\u0c4d\\u0c1a\\u0c3f\", \"\\u0c38\\u0c02\\u0c27\\u0c4d\\u0c2f\", \"\\u0c06\\u0c35\\u0c3f\\u0c21\", \"\\u0c2a\\u0c4d\\u0c30\\u0c2e\\u0c3e\\u0c26\\u0c02\", \"\\u0c1a\\u0c42\\u0c38\\u0c3f\", \"\\u0c38\\u0c30\\u0c3f\\u0c17\\u0c4d\\u0c17\\u0c3e\", \"\\u0c1a\\u0c46\\u0c2a\\u0c4d\\u0c2a\\u0c3f\\u0c02\\u0c26\\u0c3f.\", \"\\u0c35\\u0c41\\u0c02\\u0c1f\\u0c47\", \"\\u0c2b\\u0c4a\\u0c17\\u0c3e\\u0c1f\\u0c4d\", \"\\u0c28\\u0c2e\\u0c4d\\u0c2e\\u0c15\\u0c3e\\u0c32\", \"\\u0c05\\u0c21\\u0c3f\\u0c17\\u0c3f\\u0c02\\u0c26\\u0c3f\", \"\\u0c05\\u0c2a\\u0c4d\\u0c2a\\u0c1f\\u0c3f\\u0c35\\u0c30\\u0c15\\u0c42\", \"\\u0c24\\u0c40\\u0c38\\u0c3f\", \"\\u0c2a\\u0c46\\u0c1f\\u0c4d\\u0c1f\\u0c3f\", \"\\u0c1a\\u0c46\", \"\\u0c35\\u0c3f\\u0c26\\u0c4d\\u0c2f\\u0c3e\", \"\\u0c28\\u0c3e\\u0c30\\u0c3e\\u0c2f\\u0c23\", \"\\u0c05\\u0c1f\\u0c4d\\u0c32\\u0c40\", \"\\u0c15\\u0c32\\u0c3f\\u0c17\\u0c3f\", \"\\u0c2a\\u0c3f\\u0c32\\u0c4d\\u0c32\\u0c32\\u0c4d\", \"\\u0c2e\\u0c41\\u0c17\\u0c3f\\u0c38\\u0c3f\\u0c02\\u0c26\\u0c3f.\", \"\\u0c21\\u0c40\\u0c0e\\u0c38\\u0c4d\\u0c38\\u0c40\", \"\\u0c05\\u0c32\\u0c3e\\u0c02\\u0c1f\\u0c3f\", \"\\u0c35\\u0c3f\\u0c28\\u0c47\\u0c36\\u0c4d\", \"\\u0c17\\u0c02\\u0c1c\\u0c3e\\u0c2f\\u0c3f\", \"\\u0c15\\u0c32\\u0c35\\u0c21\\u0c02\", \"\\u0c35\\u0c1a\\u0c4d\\u0c1a\\u0c3e\\u0c21\\u0c41.\", \"\\u0c05\\u0c2a\\u0c4d\\u0c2a\\u0c1f\\u0c3f\\u0c15\\u0c47\", \"\\u0c24\\u0c4a\\u0c32\\u0c3f\", \"\\u0c38\\u0c3e\\u0c2e\\u0c30\\u0c4d\\u0c25\\u0c4d\\u0c2f\\u0c3e\\u0c28\\u0c4d\", \"\\u0c21\\u0c3f\\u0c28\", \"\\u0c05\\u0c28\\u0c4d\\u0c28\", \"\\u0c2a\\u0c4d\\u0c30\\u0c2a\\u0c02\\u0c1a\\u0c02\\u0c32\\u0c4b\", \"\\u0c15\\u0c3e\\u0c15\\u0c41\\u0c02\\u0c21\\u0c3e\", \"\\u0c15\\u0c32\\u0c3f\\u0c36\\u0c3e\\u0c2f\\u0c3f.\", \"\\u0c2a\\u0c4d\\u0c30\\u0c3e\\u0c02\\u0c24\\u0c3e\\u0c32\\u0c4d\", \"\\u0c32\\u0c48\\u0c28\\u0c4d\", \"\\u0c38\\u0c2e\\u0c2f\\u0c02\", \"\\u0c1f\\u0c46\\u0c38\\u0c4d\\u0c1f\\u0c41\", \"\\u0c30\\u0c4b\\u0c1c\\u0c41\\u0c32\\u0c4d\\u0c32\\u0c4b\\u0c28\\u0c47\", \"\\u0c2d\\u0c3e\\u0c30\\u0c24\\u0c4d\", \"\\u0c2c\\u0c02\\u0c17\\u0c4d\\u0c32\\u0c3e\\u0c26\\u0c47\\u0c36\\u0c4d\", \"\\u0c35\\u0c3f\\u0c1c\\u0c2f\\u0c35\\u0c3e\\u0c21\", \"\\u0c24\\u0c3f\\u0c30\\u0c41\\u0c2a\\u0c24\\u0c3f\", \"\\u0c35\\u0c4d\\u0c2f\\u0c15\\u0c4d\\u0c24\\u0c3f\", \"\\u0c2e\\u0c30\\u0c4b\\u0c38\\u0c3e\\u0c30\\u0c3f\", \"\\u0c2c\\u0c2f\\u0c1f\", \"\\u0c15\\u0c3e\", \"\\u0c2c\\u0c3e\\u0c27\", \"\\u0c1a\\u0c46\\u0c2a\\u0c4d\\u0c2a\\u0c41\", \"....\", \"\\u0c2b\\u0c4b\\u0c28\\u0c4d\", \"\\u0c38\\u0c24\\u0c4d\\u0c2f\\u0c02\", \"\\u0c06\\u0c32\\u0c4b\\u0c1a\\u0c28\\u0c32\", \"\\u0c26\\u0c40\\u0c28\\u0c3f\\u0c15\\u0c40\", \"\\u0c1c\\u0c3e\\u0c17\\u0c4d\\u0c30\\u0c24\\u0c4d\\u0c24\\u0c17\\u0c3e\", \"\\u0c05\\u0c2a\\u0c4d\\u0c2a\\u0c41\\u0c21\\u0c47\", \"\\u0c05\\u0c27\\u0c3f\\u0c15\\u0c02\\u0c17\\u0c3e\", \"\\u0c06\\u0c15\\u0c3e\\u0c36\\u0c02\", \"\\u0c1a\\u0c46\\u0c2a\\u0c4d\\u0c2a\\u0c41.\", \"\\u0c26\\u0c17\\u0c4d\\u0c17\\u0c30\", \"\\u0c05\\u0c2e\\u0c4d\\u0c2e\\u0c2e\\u0c4d\\u0c2e\\u0c02\\u0c1f\\u0c47\", \"\\u0c07\\u0c1f\\u0c40\\u0c35\\u0c32\\u0c47\", \"\\u0c07\\u0c37\\u0c4d\\u0c1f\\u0c02.\", \"\\u0c1a\\u0c28\\u0c3f\\u0c2a\\u0c4b\\u0c2f\\u0c3f\\u0c02\\u0c26\\u0c3f.\", \"\\u0c24\\u0c17\\u0c4d\\u0c17\\u0c41\\u0c24\\u0c41\\u0c28\\u0c4d\\u0c28\\u0c3e\\u0c2f\\u0c3f.\", \"\\u0c24\\u0c1f\\u0c4d\\u0c1f\\u0c41\\u0c15\\u0c4b\\u0c32\\u0c47\\u0c15\\u0c2a\\u0c4b\\u0c24\\u0c41\\u0c28\\u0c4d\\u0c28\\u0c3e.\", \"\\u0c26\\u0c43\\u0c37\\u0c4d\\u0c1f\\u0c3f\\u0c2a\\u0c46\\u0c1f\\u0c4d\\u0c1f\\u0c32\\u0c47\\u0c15\\u0c2a\\u0c4b\\u0c24\\u0c41\\u0c28\\u0c4d\\u0c28\\u0c3e.\", \"\\u0c2e\\u0c3e\\u0c30\\u0c4d\\u0c15\\u0c41\\u0c32\\u0c42\", \"\\u0c24\\u0c40\\u0c38\\u0c41\\u0c15\\u0c41\", \"\\u0c0f\\u0c02\\u0c1f\\u0c40\", \"\\u0c2a\\u0c4d\\u0c30\\u0c2f\\u0c24\\u0c4d\\u0c28\\u0c3f\\u0c02\\u0c1a\\u0c2e\\u0c02\\u0c26\\u0c3f.\", \"\\u0c2c\\u0c4a\\u0c1f\\u0c3e\\u0c15\\u0c4d\\u0c38\\u0c4d\", \"\\u0c2c\\u0c4a\\u0c1f\\u0c3e\\u0c15\\u0c4d\\u0c38\\u0c4d\\u0c15\\u0c40\", \"\\u0c2e\\u0c41\\u0c16\\u0c02\\u0c2a\\u0c48\", \"\\u0c2e\\u0c41\\u0c21\\u0c24\", \"\\u0c2e\\u0c4a\\u0c26\\u0c32\\u0c2f\\u0c4d\\u0c2f\\u0c3e\\u0c2f\\u0c3f.\", \"\\u0c38\\u0c4d\\u0c28\\u0c47\\u0c39\\u0c3f\\u0c24\\u0c41\\u0c30\\u0c3e\", \"\\u0c2c\\u0c47\\u0c2c\\u0c40\", \"\\u0c2a\\u0c4d\\u0c30\\u0c27\\u0c3e\\u0c28\", \"\\u0c35\\u0c47\\u0c17\\u0c02\\u0c17\\u0c3e\", \"\\u0c35\\u0c30\\u0c26\", \"\\u0c05\\u0c02\\u0c1f\\u0c42\", \"\\u0c28\\u0c47\\u0c32\", \"\\u0c36\\u0c4d\\u0c30\\u0c40\\u0c35\\u0c3e\\u0c30\\u0c3f\", \"\\u0c2c\\u0c3e\\u0c17\\u0c3e\"], \"Freq\": [9.0, 7.0, 5.0, 6.0, 4.0, 3.0, 4.0, 4.0, 6.0, 3.0, 3.0, 3.0, 3.0, 3.0, 3.0, 3.0, 3.0, 4.0, 6.0, 4.0, 3.0, 4.0, 3.0, 3.0, 6.0, 5.0, 3.0, 3.0, 5.0, 4.0, 6.491289317330682, 3.901817530092761, 3.5760719492589876, 3.521227900642374, 3.331201253914567, 3.331201253914567, 3.331201253914567, 3.331201253914567, 3.331201253914567, 3.331201253914567, 3.331201253914567, 3.331201253914567, 3.331201253914567, 3.4082497333074344, 3.5839966979709486, 2.2043359640645637, 3.5652047388781263, 1.9677243606688666, 2.863670926600003, 2.665932377260465, 3.584090458788472, 1.476195484812513, 1.432721518099684, 1.3616820217758434, 1.339114757739495, 1.3344098338865371, 1.3257942397940143, 1.26535092177723, 1.265146969387987, 1.248372827503152, 3.5507393440691564, 3.5970273412346003, 3.2467453684556236, 2.677805933650629, 1.980251378705275, 2.2019544091512966, 1.600973194773302, 1.5610407339236474, 1.696278503191133, 4.956195451091006, 3.259047195934808, 1.991756097805058, 2.221336925150984, 1.5521901533492075, 1.9200811123319892, 1.352163423731022, 1.3316665098960039, 1.3099838203196712, 1.297632126138371, 2.9268129041513666, 1.2618015342470466, 2.325232541726274, 1.1787695120107224, 1.6994578159954161, 1.555992869950274, 1.1099663308162584, 1.109390870503843, 1.3602732034508656, 1.0720406891046121, 1.6661998358056314, 1.3126747990610819, 1.981067975173246, 3.463087410341656, 0.9895144169477359, 3.965607894231398, 1.8817917142033487, 0.959954821936523, 0.9411179707466493, 0.940280044389303, 1.992030260197802, 2.2989244144436856, 1.2656182864654892, 1.5610127085047947, 2.1801823896619927, 2.1688914372638823, 1.8981577119176585, 2.561738776612467, 1.590610199682923, 1.5090502797823833, 1.58044466987141, 1.4208669520421167, 1.349998078860342, 4.532827120556108, 2.7446039770369888, 2.150838792759879, 1.9104393484739715, 1.8367844100601112, 1.662477174405868, 1.6545769222137219, 1.5453010950247854, 2.13745296327766, 1.507534813885533, 1.4801666238050146, 1.4676088651632277, 1.4061036520516021, 1.3931945283633789, 4.3744349154739615, 1.751409733239871, 1.7826764639664316, 1.1899689436333507, 1.1532297212340206, 1.1524369058583892, 1.0681015082305945, 1.501151303699011, 0.9956746712225003, 0.937890099248949, 0.9254464342125762, 0.9212438962918239, 0.905295178366091, 0.9000991609134552, 0.8836537843309786, 1.4523087504587946, 2.229850831493924, 2.0244723923534886, 1.1660567624137044, 1.7680593968561176, 1.1006846953161185, 1.4663416150511492, 1.3162508823280552, 1.23092011262042, 1.9913861119481673, 1.8745622627783016, 2.06600765571292, 1.5403381854076665, 1.5314787899108586, 1.4007185420216521, 1.3214096436223353, 2.649715944944445, 3.4405255399470103, 3.3358495977259817, 1.247206177339629, 1.2344889200789224, 1.2211817843141362, 1.2063421644583776, 1.1929189612207194, 1.8051828479645207, 2.7222667713688398, 1.852735101426629, 1.099362282900838, 1.086260330821146, 1.072135312821672, 1.0554394986603464, 1.0352037249386867, 1.0343702031038406, 1.0343702031038406, 1.0343702031038406, 2.371319061932321, 0.990276071797465, 0.9750517571227211, 1.4514765688019866, 0.9398071804492522, 0.8514376361818369, 1.0757919300284688, 1.2660437314622404, 0.7983755220753188, 1.3227080684429295, 1.0697854383073377, 1.4151082032492261, 1.9719415109040626, 2.0293657947452686, 1.3751603365055434, 1.840864743268828, 1.4018971674174876, 2.5094631583182845, 2.046597683251639, 2.0045328638374875, 1.4227881321872837, 1.3006822982201458, 1.3246725596024225, 1.1423041002710301, 1.3726267212799166, 1.1687660086518916, 3.5073474635304374, 3.5073474635304374, 3.349522241974944, 3.349522241974944, 3.349522241974944, 3.349522241974944, 3.349522241974944, 3.349522241974944, 3.349522241974944, 3.349522241974944, 7.737512463157054, 3.3074234504294178, 1.5311201307099365, 1.2979255103388458, 1.2979255103388458, 1.2979255103388458, 1.2979255103388458, 1.2979255103388458, 1.2979255103388458, 1.2979255103388458, 1.2979255103388458, 1.2979255103388458, 1.2979255103388458, 1.2979255103388458, 1.2979255103388458, 1.2979255103388458, 1.2979255103388458, 1.255003668152868, 1.243001898562719, 1.3295213186069377, 3.1426786343681457, 2.4403137727644957, 3.5396274254689746, 3.1940567383644374, 1.6789896345289097, 1.516764382719016, 1.497600427220928, 1.7209501030588508, 1.534609199638323, 1.4197391096252554, 2.9510016001158927, 2.872146418295946, 1.4713168098132638, 1.1321868631140692, 1.4977367574621208, 1.4226214149002334, 1.6019062588016488, 0.8979077717530901, 0.898275493589738, 0.8824687316552999, 1.396561185575196, 0.8197586580758389, 0.8189464334498059, 1.337372745590861, 1.8032756969690253, 1.9922208688048444, 1.7482987757954744, 0.7639792748028917, 0.7635042531239309, 0.7544116468961913, 1.21604424045168, 1.1301127219818832, 1.495460593594039, 1.3348962300500014, 0.8930393492355554, 1.0061528201360124, 0.8479060452352445, 0.9076314241845964, 0.8757292461497601, 0.7721586890119955, 2.0513122991776456, 1.4366006494384245, 1.2880267794207905, 1.4854124031148812, 1.7873713977189107, 1.4578432917449902, 0.9681318246179336, 1.204254010647364, 1.1003611142292082, 1.0052520291647258, 0.9068203429175389, 0.8988273841721265, 1.9080473254191976, 1.8260827960876662, 1.7990174093628817, 1.5291678634457062, 1.3449364213606017, 1.3629777256974904, 1.2170754689245202, 1.2170754689245202, 1.1253070250360766, 1.0217080582022657, 2.466105820168957, 0.9656061677624596, 0.9636146431375101, 0.9308073295736004, 0.9284462096578567, 0.870718655720948, 1.3649940000070913, 2.034001510045136, 0.8210426518266333, 0.8020690225268764, 0.8020690225268764, 0.8020690225268764, 0.7213160988102795, 0.7213160988102795, 0.7213160988102795, 0.7213160988102795, 0.7213160988102795, 0.7213160988102795, 0.7213160988102795, 0.7213160988102795, 2.39993436855698, 0.9522958741979347, 2.0102022132843484, 1.2275769772246068, 0.9008239984489149, 1.077647642815358, 0.9565072284336179, 0.9341165795139896, 0.865263130495789, 1.0968540928328356, 0.9669632320503453, 0.9138774163390578, 3.2951586113914035, 1.6768021123121601, 1.5758359162935451, 1.541701057173674, 1.2536581896050256, 2.511272092698591, 1.1707057093127085, 1.131309255202686, 1.0459927075024154, 1.7388880103114956, 1.0119905130227258, 1.4146066838719258, 0.9686097524861864, 1.3696393036790553, 1.330646117115025, 1.4336073915610141, 1.3582398678703735, 0.8225627109271669, 1.2016448338113648, 0.7876892146429566, 0.7876892146429566, 1.5907058920495314, 1.133724575657964, 0.733351096431011, 0.733351096431011, 0.733351096431011, 0.733351096431011, 0.733351096431011, 0.733351096431011, 0.733351096431011, 1.2034370424597782, 1.8122121689417519, 1.0303359727498749, 1.4726734200765477, 0.9403099127235618, 1.469656082316198, 2.0639636765842013, 0.985258752826966, 1.4011577853734354, 1.1014654791897014, 1.0075432811623337, 1.1409219207891974, 1.0424279839006214, 2.677571231193385, 1.4012737876380876, 2.2422719758044876, 1.287860880786909, 1.2696519190263915, 1.9709525132773755, 1.1957060559049884, 1.1396449884423114, 1.7458944439768265, 1.07616695916403, 1.3292983224996908, 0.9828119791639085, 0.934163573598021, 0.9307792189779467, 0.9202541325120817, 0.8947740876631719, 0.8945155351373759, 1.23482337290446, 0.8395260233690743, 0.8313192301696167, 0.8297310471924066, 1.2649276619266223, 1.0586017908039007, 1.1002196698506688, 0.7500969488753652, 0.7379355044159345, 1.1685673571871746, 0.6345736976093702, 0.8052677738870414, 0.6164629969565929, 0.892834187252503, 0.9107184255143459, 2.069095771390737, 1.2593691409485763, 1.0475402496517752, 1.395700455828567, 1.2303947750372994, 1.3112894662203332, 1.0021992779360456, 1.148818546722055, 0.9627805684788783, 0.9631474152563166, 0.950118263105602, 1.6069534627402182, 1.4859614370150136, 1.3977629677046237, 3.114165009817427, 1.2858496558995511, 1.2487116489325314, 1.1242721700106024, 1.1567788259635812, 1.292837367842239, 0.9790033044345139, 0.9780737734961918, 0.9200418291154066, 2.0376042611972576, 0.866044270323829, 0.866044270323829, 0.866044270323829, 0.866044270323829, 0.866044270323829, 0.866044270323829, 0.866044270323829, 0.866044270323829, 1.1724862758306964, 0.8008651182949076, 0.8008651182949076, 0.8008651182949076, 0.8008651182949076, 0.8008651182949076, 0.8008651182949076, 0.8008651182949076, 0.8008651182949076, 1.3703654121590652, 1.1790177061183424, 0.9946445067791995, 0.9950159502930448, 1.2307553243730505, 0.9234635357805854, 0.9156776075876879, 0.8200673831732236], \"Total\": [9.0, 7.0, 5.0, 6.0, 4.0, 3.0, 4.0, 4.0, 6.0, 3.0, 3.0, 3.0, 3.0, 3.0, 3.0, 3.0, 3.0, 4.0, 6.0, 4.0, 3.0, 4.0, 3.0, 3.0, 6.0, 5.0, 3.0, 3.0, 5.0, 4.0, 7.437819851816325, 4.499007869402697, 4.173241648117575, 4.118393571571183, 3.9283669756095727, 3.9283669756095727, 3.9283669756095727, 3.9283669756095727, 3.9283669756095727, 3.9283669756095727, 3.9283669756095727, 3.92836698291979, 3.92836698291979, 4.138346451562832, 4.448089661192428, 2.801669269746678, 4.5407471803807695, 2.5648874962078954, 3.759150653945774, 3.555768022349651, 4.796499550047387, 2.0733844075148893, 2.0299751830942325, 1.9588448067841742, 1.9362912451809302, 1.9321935052904828, 1.9230453370902947, 1.8625370746946517, 1.8649180280134348, 1.8455360011215918, 5.321559194448712, 5.455491394811604, 5.9696598962956555, 4.788725580372152, 3.565463875951715, 4.390952549729761, 2.6554915026081, 3.080888989869245, 5.403927529633941, 6.055279003637696, 3.999339101050059, 2.59307286761909, 3.0207020501196946, 2.1536230934951357, 2.7583808355169412, 1.9535028595443715, 1.932997580471033, 1.9112992987362556, 1.8992284112986413, 4.285717715561031, 1.8631175148737498, 3.476280597094903, 1.7801295364544671, 2.6082497827710904, 2.393498452079159, 1.7112982726356751, 1.710711019992968, 2.106662485140488, 1.67337073484528, 2.6111564607159656, 2.0710002508916188, 3.1359353967184966, 5.541264052578546, 1.5908330453434103, 6.418755276128872, 3.05953884843848, 1.561271080915485, 1.5425088656950967, 1.5419014331765168, 3.272001011277618, 3.851156703088239, 2.1271740014614946, 2.7939675905260777, 4.349623174651203, 4.521436350411896, 3.8891153283866093, 6.579688926993482, 3.226080181059938, 3.6129593604882304, 4.962780791931799, 3.264595597228539, 4.517311588607502, 5.135781374215605, 3.347424920235716, 2.7536319218261243, 2.5132339131862302, 2.4395652739223745, 2.2652619222568275, 2.2573573296784994, 2.148085461456755, 2.9833208692321893, 2.1104163136714966, 2.0829914812540924, 2.0703932098906415, 2.008893336200639, 1.9959858760903266, 6.2831160080557815, 2.623950185411112, 2.6708456466079236, 1.792750820376178, 1.7560121574682344, 1.7554153526008056, 1.6708872402841937, 2.3867906271966692, 1.5984959149468516, 1.5406699723699318, 1.5282311537176267, 1.5240709915829302, 1.5088090714983071, 1.505729548097901, 1.4864436567249217, 2.490446652597957, 3.9814446501132426, 3.675159706080744, 2.004033077261615, 3.3014447339240482, 1.8913157145271964, 2.7693220189986683, 2.4623662959739416, 2.2393924368330347, 4.962780791931799, 4.624098721497028, 6.579688926993482, 3.849426581465311, 5.779017614965796, 4.893107859853392, 5.522446746141044, 3.2545842379516783, 4.470438326994458, 4.732904066300095, 1.85207475793929, 1.8412794316614027, 1.8261368944771954, 1.8111955518302645, 1.7977755107078652, 2.735402430879134, 4.1443971015024115, 2.8285951702637377, 1.7042191516895246, 1.6911327390161806, 1.676991581416535, 1.6603575433582833, 1.6400582221275826, 1.6392245281275022, 1.6392245281275022, 1.6392245281275022, 3.792069646620279, 1.5951298418056328, 1.5799057051802594, 2.3585646875284376, 1.5446612028459428, 1.456291542579158, 1.8457768956636422, 2.1792877503965915, 1.4032293159982543, 2.337197264261974, 1.9198752650080921, 2.569297190296052, 3.852681331059735, 4.104902958385264, 2.592983144994388, 3.928563276527713, 2.729542343024732, 7.351561361181349, 5.403927529633941, 5.779017614965796, 3.2851770712830337, 2.8237656846476216, 3.6376534154646505, 2.246085396509719, 5.541264052578546, 2.8165121157457604, 4.112358437583176, 4.1123584448933945, 3.954523949410051, 3.954523949410051, 3.954523949410051, 3.954523949410051, 3.954523949410051, 3.954523949410051, 3.954523949410051, 3.954523949410051, 9.276780660198362, 4.180953042426787, 2.1361370158361916, 1.9029256955004987, 1.9029256955004987, 1.9029256955004987, 1.9029256955004987, 1.9029256955004987, 1.9029256955004987, 1.9029256955004987, 1.9029256955004987, 1.9029256955004987, 1.9029256955004987, 1.9029256955004987, 1.9029256955004987, 1.9029256955004987, 1.9029256955004987, 1.86239305642647, 1.848017878934898, 2.014073582886612, 5.162380413208157, 3.9421998216306537, 6.072652986664929, 5.81446908496238, 2.633431422688349, 2.468520998308076, 3.185798235479379, 5.522446746141044, 3.8684250412415153, 2.7720031995124144, 3.557537903170342, 3.478698817628111, 2.0803319884753275, 1.738718407855382, 2.3316354602953617, 2.287735544992847, 2.646025238171079, 1.5045011704386384, 1.5067386468148076, 1.4890011346084169, 2.3916477617518765, 1.426298551921387, 1.4254789232185086, 2.3346756196978875, 3.1534263031027883, 3.508693879031742, 3.087863176810682, 1.3705218954662406, 1.370191393319523, 1.3610771110535236, 2.2758234660951353, 2.118030294193617, 2.8236763289164117, 2.538504797909147, 1.7129311447447788, 1.9368782894574645, 1.6487419376332961, 1.7844533227669772, 1.739172340118612, 1.5370776283123204, 4.517311588607502, 3.275357888423493, 3.0532929863943528, 4.079626419005301, 5.683463927411013, 4.384289586935328, 2.143115978313161, 4.79285216426917, 4.349623174651203, 4.500574362263711, 2.1549291821828507, 2.730333282868222, 2.5156549374317074, 2.4337185353504833, 2.4066237170037326, 2.1367739112734223, 1.95258510277607, 1.9806128183650495, 1.824681319705008, 1.824681319705008, 1.7329128428350555, 1.6294153810357892, 3.959780512009097, 1.5732396903811887, 1.5712204389488165, 1.5386215513115145, 1.536052212647568, 1.478366444748256, 2.3287211586971197, 3.510077111687691, 1.4286889027403082, 1.465150802826539, 1.465150802826539, 1.465150802826539, 1.328922088265454, 1.328922088265454, 1.328922088265454, 1.328922088265454, 1.328922088265454, 1.328922088265454, 1.328922088265454, 1.328922088265454, 4.907685221488349, 1.807832440625221, 4.163671009938976, 2.4416296186514717, 1.713663374291561, 2.1635313751908716, 1.9846719557694044, 2.360060208523642, 2.059015366293396, 7.351561361181349, 3.81051328065443, 4.788725580372152, 3.903509708604015, 2.2851323764154907, 2.184166112093891, 2.1500497211265035, 1.8619979465406014, 3.798778429020414, 1.779043809651026, 1.7396501717681983, 1.6543216119053128, 2.7687952163078737, 1.6203239570706183, 2.279450150756715, 1.5769440478151264, 2.2333759205971453, 2.1971236935930163, 2.3821029643701346, 2.3511184834198904, 1.4308916153300644, 2.1193117781075546, 1.3960933846216153, 1.3960933846216153, 2.846442295670055, 2.05994760281492, 1.3416806773780883, 1.3416806773780883, 1.3416806773780883, 1.3416806773780883, 1.3416806773780883, 1.3416806773780883, 1.3416806773780883, 2.2174545574923674, 3.5010281888842014, 1.9213819117963238, 2.8389398025016597, 1.7592180023298996, 2.9005318631969654, 4.500574362263711, 1.900290865943117, 3.2224482534704997, 2.34936553501762, 2.0991543861039714, 3.0379526549362557, 4.361742379434168, 3.287224806777583, 2.010940586692542, 3.23737997611913, 1.8974917989633897, 1.8793005477833962, 2.964489877648729, 1.8087711112204856, 1.7492955605373997, 2.7286529880679127, 1.6857979700179575, 2.1032386899634483, 1.5925042125794755, 1.543794459467861, 1.5404096703964913, 1.5298872634877476, 1.5044094438293831, 1.5041463619928184, 2.0845762240322463, 1.4491564684085656, 1.4409492020721189, 1.4393610190949087, 2.2571215681679155, 1.9066459404444953, 1.9870118967343466, 1.35972740029391, 1.3475662000299575, 2.2613320799938124, 1.2442036695118723, 1.5991543873313478, 1.226109874873417, 1.7922945795231369, 1.8417332649300255, 4.613692282103102, 2.6589290687039497, 2.318772508333477, 3.81051328065443, 3.0833618802622986, 4.136780599599957, 2.4471745378433583, 4.624098721497028, 2.6471750635581106, 2.732823226970922, 3.00353597595842, 2.2172266292388305, 2.099630197068999, 2.0080310660547696, 4.514210126590938, 1.8961177542496972, 1.8589999095132552, 1.7368134376096362, 1.7872016654804666, 2.0674159880668004, 1.589272274255281, 1.588341871846338, 1.5303680618008166, 3.450669886300755, 1.4763144057985629, 1.4763144057985629, 1.4763144057985629, 1.4763144057985629, 1.4763144057985629, 1.4763144057985629, 1.4763144057985629, 1.4763144057985629, 2.020456950449126, 1.4111339668730758, 1.4111339668730758, 1.4111339668730758, 1.4111339668730758, 1.4111339668730758, 1.4111339668730758, 1.4111339668730758, 1.4111339668730758, 2.4272772236597024, 2.1639818861414666, 1.807749956056969, 1.9423148755952453, 2.6813724730566673, 1.9416071735997176, 4.330517833016453, 1.781194034888196], \"Category\": [\"Default\", \"Default\", \"Default\", \"Default\", \"Default\", \"Default\", \"Default\", \"Default\", \"Default\", \"Default\", \"Default\", \"Default\", \"Default\", \"Default\", \"Default\", \"Default\", \"Default\", \"Default\", \"Default\", \"Default\", \"Default\", \"Default\", \"Default\", \"Default\", \"Default\", \"Default\", \"Default\", \"Default\", \"Default\", \"Default\", \"Topic1\", \"Topic1\", \"Topic1\", \"Topic1\", \"Topic1\", \"Topic1\", \"Topic1\", \"Topic1\", \"Topic1\", \"Topic1\", \"Topic1\", \"Topic1\", \"Topic1\", \"Topic1\", \"Topic1\", \"Topic1\", \"Topic1\", \"Topic1\", \"Topic1\", \"Topic1\", \"Topic1\", \"Topic1\", \"Topic1\", \"Topic1\", \"Topic1\", \"Topic1\", \"Topic1\", \"Topic1\", \"Topic1\", \"Topic1\", \"Topic1\", \"Topic1\", \"Topic1\", \"Topic1\", \"Topic1\", \"Topic1\", \"Topic1\", \"Topic1\", \"Topic1\", \"Topic2\", \"Topic2\", \"Topic2\", \"Topic2\", \"Topic2\", \"Topic2\", \"Topic2\", \"Topic2\", \"Topic2\", \"Topic2\", \"Topic2\", \"Topic2\", \"Topic2\", \"Topic2\", \"Topic2\", \"Topic2\", \"Topic2\", \"Topic2\", \"Topic2\", \"Topic2\", \"Topic2\", \"Topic2\", \"Topic2\", \"Topic2\", \"Topic2\", \"Topic2\", \"Topic2\", \"Topic2\", \"Topic2\", \"Topic2\", \"Topic2\", \"Topic2\", \"Topic2\", \"Topic2\", \"Topic2\", \"Topic2\", \"Topic2\", \"Topic2\", \"Topic2\", \"Topic2\", \"Topic2\", \"Topic2\", \"Topic2\", \"Topic3\", \"Topic3\", \"Topic3\", \"Topic3\", \"Topic3\", \"Topic3\", \"Topic3\", \"Topic3\", \"Topic3\", \"Topic3\", \"Topic3\", \"Topic3\", \"Topic3\", \"Topic3\", \"Topic3\", \"Topic3\", \"Topic3\", \"Topic3\", \"Topic3\", \"Topic3\", \"Topic3\", \"Topic3\", \"Topic3\", \"Topic3\", \"Topic3\", \"Topic3\", \"Topic3\", \"Topic3\", \"Topic3\", \"Topic3\", \"Topic3\", \"Topic3\", \"Topic3\", \"Topic3\", \"Topic3\", \"Topic3\", \"Topic3\", \"Topic3\", \"Topic3\", \"Topic3\", \"Topic3\", \"Topic3\", \"Topic3\", \"Topic3\", \"Topic3\", \"Topic4\", \"Topic4\", \"Topic4\", \"Topic4\", \"Topic4\", \"Topic4\", \"Topic4\", \"Topic4\", \"Topic4\", \"Topic4\", \"Topic4\", \"Topic4\", \"Topic4\", \"Topic4\", \"Topic4\", \"Topic4\", \"Topic4\", \"Topic4\", \"Topic4\", \"Topic4\", \"Topic4\", \"Topic4\", \"Topic4\", \"Topic4\", \"Topic4\", \"Topic4\", \"Topic4\", \"Topic4\", \"Topic4\", \"Topic4\", \"Topic4\", \"Topic4\", \"Topic4\", \"Topic4\", \"Topic4\", \"Topic4\", \"Topic4\", \"Topic4\", \"Topic4\", \"Topic4\", \"Topic4\", \"Topic4\", \"Topic4\", \"Topic4\", \"Topic4\", \"Topic5\", \"Topic5\", \"Topic5\", \"Topic5\", \"Topic5\", \"Topic5\", \"Topic5\", \"Topic5\", \"Topic5\", \"Topic5\", \"Topic5\", \"Topic5\", \"Topic5\", \"Topic5\", \"Topic5\", \"Topic5\", \"Topic5\", \"Topic5\", \"Topic5\", \"Topic5\", \"Topic5\", \"Topic5\", \"Topic5\", \"Topic5\", \"Topic5\", \"Topic5\", \"Topic5\", \"Topic5\", \"Topic5\", \"Topic5\", \"Topic5\", \"Topic5\", \"Topic5\", \"Topic5\", \"Topic5\", \"Topic5\", \"Topic5\", \"Topic5\", \"Topic5\", \"Topic5\", \"Topic6\", \"Topic6\", \"Topic6\", \"Topic6\", \"Topic6\", \"Topic6\", \"Topic6\", \"Topic6\", \"Topic6\", \"Topic6\", \"Topic6\", \"Topic6\", \"Topic6\", \"Topic6\", \"Topic6\", \"Topic6\", \"Topic6\", \"Topic6\", \"Topic6\", \"Topic6\", \"Topic6\", \"Topic6\", \"Topic6\", \"Topic6\", \"Topic6\", \"Topic6\", \"Topic6\", \"Topic6\", \"Topic6\", \"Topic6\", \"Topic6\", \"Topic6\", \"Topic6\", \"Topic6\", \"Topic6\", \"Topic6\", \"Topic6\", \"Topic6\", \"Topic6\", \"Topic6\", \"Topic6\", \"Topic6\", \"Topic7\", \"Topic7\", \"Topic7\", \"Topic7\", \"Topic7\", \"Topic7\", \"Topic7\", \"Topic7\", \"Topic7\", \"Topic7\", \"Topic7\", \"Topic7\", \"Topic7\", \"Topic7\", \"Topic7\", \"Topic7\", \"Topic7\", \"Topic7\", \"Topic7\", \"Topic7\", \"Topic7\", \"Topic7\", \"Topic7\", \"Topic7\", \"Topic7\", \"Topic7\", \"Topic7\", \"Topic7\", \"Topic7\", \"Topic7\", \"Topic7\", \"Topic7\", \"Topic7\", \"Topic7\", \"Topic7\", \"Topic7\", \"Topic7\", \"Topic7\", \"Topic7\", \"Topic7\", \"Topic7\", \"Topic7\", \"Topic8\", \"Topic8\", \"Topic8\", \"Topic8\", \"Topic8\", \"Topic8\", \"Topic8\", \"Topic8\", \"Topic8\", \"Topic8\", \"Topic8\", \"Topic8\", \"Topic8\", \"Topic8\", \"Topic8\", \"Topic8\", \"Topic8\", \"Topic8\", \"Topic8\", \"Topic8\", \"Topic8\", \"Topic8\", \"Topic8\", \"Topic8\", \"Topic8\", \"Topic8\", \"Topic8\", \"Topic8\", \"Topic8\", \"Topic8\", \"Topic8\", \"Topic8\", \"Topic8\", \"Topic8\", \"Topic8\", \"Topic8\", \"Topic8\", \"Topic8\", \"Topic8\", \"Topic8\", \"Topic8\", \"Topic8\", \"Topic8\", \"Topic9\", \"Topic9\", \"Topic9\", \"Topic9\", \"Topic9\", \"Topic9\", \"Topic9\", \"Topic9\", \"Topic9\", \"Topic9\", \"Topic9\", \"Topic9\", \"Topic9\", \"Topic9\", \"Topic9\", \"Topic9\", \"Topic9\", \"Topic9\", \"Topic9\", \"Topic9\", \"Topic9\", \"Topic9\", \"Topic9\", \"Topic9\", \"Topic9\", \"Topic9\", \"Topic9\", \"Topic9\", \"Topic9\", \"Topic9\", \"Topic9\", \"Topic9\", \"Topic9\", \"Topic9\", \"Topic9\", \"Topic9\", \"Topic9\", \"Topic9\", \"Topic9\", \"Topic9\", \"Topic9\", \"Topic9\", \"Topic9\", \"Topic10\", \"Topic10\", \"Topic10\", \"Topic10\", \"Topic10\", \"Topic10\", \"Topic10\", \"Topic10\", \"Topic10\", \"Topic10\", \"Topic10\", \"Topic10\", \"Topic10\", \"Topic10\", \"Topic10\", \"Topic10\", \"Topic10\", \"Topic10\", \"Topic10\", \"Topic10\", \"Topic10\", \"Topic10\", \"Topic10\", \"Topic10\", \"Topic10\", \"Topic10\", \"Topic10\", \"Topic10\", \"Topic10\", \"Topic10\", \"Topic10\", \"Topic10\", \"Topic10\", \"Topic10\", \"Topic10\", \"Topic10\", \"Topic10\", \"Topic10\"], \"logprob\": [30.0, 29.0, 28.0, 27.0, 26.0, 25.0, 24.0, 23.0, 22.0, 21.0, 20.0, 19.0, 18.0, 17.0, 16.0, 15.0, 14.0, 13.0, 12.0, 11.0, 10.0, 9.0, 8.0, 7.0, 6.0, 5.0, 4.0, 3.0, 2.0, 1.0, -3.9094, -4.4184, -4.5056, -4.521, -4.5765, -4.5765, -4.5765, -4.5765, -4.5765, -4.5765, -4.5765, -4.5765, -4.5765, -4.5537, -4.5034, -4.9894, -4.5086, -5.103, -4.7278, -4.7993, -4.5034, -5.3904, -5.4203, -5.4711, -5.4879, -5.4914, -5.4978, -5.5445, -5.5447, -5.558, -4.5127, -4.4998, -4.6022, -4.7949, -5.0966, -4.9905, -5.3092, -5.3345, -5.2514, -3.9255, -4.3447, -4.8371, -4.728, -5.0865, -4.8738, -5.2245, -5.2397, -5.2561, -5.2656, -4.4522, -5.2936, -4.6823, -5.3617, -4.9958, -5.084, -5.4218, -5.4223, -5.2185, -5.4566, -5.0156, -5.2541, -4.8425, -4.284, -5.5367, -4.1485, -4.8939, -5.567, -5.5868, -5.5877, -4.837, -4.6937, -5.2906, -5.0808, -4.7467, -4.7519, -4.8853, -4.5855, -5.062, -5.1147, -5.0685, -5.1749, -5.2261, -3.9364, -4.4381, -4.6819, -4.8004, -4.8398, -4.9395, -4.9442, -5.0126, -4.6882, -5.0373, -5.0556, -5.0641, -5.107, -5.1162, -3.972, -4.8874, -4.8697, -5.2738, -5.3052, -5.3059, -5.3819, -5.0415, -5.4521, -5.5119, -5.5253, -5.5298, -5.5473, -5.553, -5.5715, -5.0746, -4.6458, -4.7425, -5.2941, -4.8779, -5.3518, -5.065, -5.173, -5.24, -4.7589, -4.8194, -4.7222, -5.0158, -5.0215, -5.1108, -5.1691, -4.3785, -4.1173, -4.1482, -5.132, -5.1423, -5.1531, -5.1654, -5.1766, -4.7623, -4.3515, -4.7363, -5.2582, -5.2702, -5.2833, -5.299, -5.3184, -5.3192, -5.3192, -5.3192, -4.4895, -5.3627, -5.3782, -4.9804, -5.415, -5.5138, -5.2799, -5.1171, -5.5781, -5.0733, -5.2855, -5.0057, -4.6739, -4.6452, -5.0344, -4.7427, -5.0151, -4.4329, -4.6368, -4.6575, -5.0003, -5.0901, -5.0718, -5.2199, -5.0362, -5.197, -4.0702, -4.0702, -4.1163, -4.1163, -4.1163, -4.1163, -4.1163, -4.1163, -4.1163, -4.1163, -3.279, -4.1289, -4.8991, -5.0643, -5.0643, -5.0643, -5.0643, -5.0643, -5.0643, -5.0643, -5.0643, -5.0643, -5.0643, -5.0643, -5.0643, -5.0643, -5.0643, -5.0979, -5.1076, -5.0403, -4.18, -4.433, -4.0611, -4.1638, -4.8069, -4.9085, -4.9212, -4.7822, -4.8968, -4.9746, -4.1589, -4.186, -4.8549, -5.1169, -4.8371, -4.8886, -4.7699, -5.3488, -5.3484, -5.3661, -4.9071, -5.4398, -5.4408, -4.9504, -4.6515, -4.5518, -4.6824, -5.5103, -5.5109, -5.5229, -5.0455, -5.1188, -4.8386, -4.9522, -5.3542, -5.2349, -5.4061, -5.338, -5.3738, -5.4996, -4.5226, -4.8788, -4.988, -4.8454, -4.6603, -4.8641, -5.2735, -5.0552, -5.1454, -5.2358, -5.3389, -5.3477, -4.5823, -4.6262, -4.6411, -4.8037, -4.932, -4.9187, -5.0319, -5.0319, -5.1103, -5.2069, -4.3257, -5.2634, -5.2654, -5.3001, -5.3026, -5.3668, -4.9172, -4.5184, -5.4256, -5.4489, -5.4489, -5.4489, -5.5551, -5.5551, -5.5551, -5.5551, -5.5551, -5.5551, -5.5551, -5.5551, -4.3529, -5.2773, -4.5301, -5.0233, -5.3328, -5.1536, -5.2728, -5.2965, -5.3731, -5.1359, -5.262, -5.3184, -3.9834, -4.659, -4.7211, -4.743, -4.9498, -4.2551, -5.0183, -5.0525, -5.1309, -4.6226, -5.164, -4.829, -5.2078, -4.8613, -4.8902, -4.8157, -4.8697, -5.3712, -4.9922, -5.4145, -5.4145, -4.7117, -5.0504, -5.486, -5.486, -5.486, -5.486, -5.486, -5.486, -5.486, -4.9907, -4.5813, -5.146, -4.7888, -5.2374, -4.7909, -4.4513, -5.1907, -4.8386, -5.0792, -5.1684, -5.0441, -5.1343, -4.1568, -4.8043, -4.3342, -4.8887, -4.9029, -4.4631, -4.9629, -5.0109, -4.5844, -5.0683, -4.857, -5.159, -5.2098, -5.2134, -5.2248, -5.2528, -5.2531, -4.9307, -5.3166, -5.3264, -5.3283, -4.9066, -5.0847, -5.0462, -5.4292, -5.4456, -4.9859, -5.5965, -5.3582, -5.6254, -5.255, -5.2352, -4.4146, -4.9111, -5.0952, -4.8083, -4.9343, -4.8707, -5.1395, -5.0029, -5.1796, -5.1792, -5.1928, -4.5909, -4.6692, -4.7304, -3.9293, -4.8139, -4.8432, -4.9481, -4.9196, -4.8084, -5.0865, -5.0875, -5.1486, -4.3535, -5.2091, -5.2091, -5.2091, -5.2091, -5.2091, -5.2091, -5.2091, -5.2091, -4.9062, -5.2873, -5.2873, -5.2873, -5.2873, -5.2873, -5.2873, -5.2873, -5.2873, -4.7502, -4.9006, -5.0706, -5.0703, -4.8577, -5.1449, -5.1534, -5.2636], \"loglift\": [30.0, 29.0, 28.0, 27.0, 26.0, 25.0, 24.0, 23.0, 22.0, 21.0, 20.0, 19.0, 18.0, 17.0, 16.0, 15.0, 14.0, 13.0, 12.0, 11.0, 10.0, 9.0, 8.0, 7.0, 6.0, 5.0, 4.0, 3.0, 2.0, 1.0, 1.7363, 1.73, 1.718, 1.7158, 1.7076, 1.7076, 1.7076, 1.7076, 1.7076, 1.7076, 1.7076, 1.7076, 1.7076, 1.6784, 1.6565, 1.6327, 1.6306, 1.6074, 1.6004, 1.5844, 1.5811, 1.5327, 1.524, 1.5088, 1.5037, 1.5023, 1.5006, 1.4859, 1.4844, 1.4815, 1.4679, 1.4559, 1.2634, 1.2912, 1.2844, 1.1823, 1.3664, 1.1926, 0.7138, 1.9259, 1.9215, 1.8623, 1.8188, 1.7987, 1.7639, 1.7582, 1.7535, 1.7484, 1.7453, 1.7448, 1.7365, 1.724, 1.7139, 1.6978, 1.6955, 1.6932, 1.6931, 1.6887, 1.6809, 1.6769, 1.6702, 1.6669, 1.6561, 1.6514, 1.6446, 1.6401, 1.6398, 1.6321, 1.6316, 1.6299, 1.6102, 1.6069, 1.544, 1.4355, 1.3916, 1.4089, 1.1829, 1.419, 1.2531, 0.9819, 1.2943, 0.9184, 2.0797, 2.006, 1.9575, 1.9303, 1.9207, 1.8952, 1.8939, 1.8752, 1.8711, 1.8681, 1.8629, 1.8604, 1.8478, 1.845, 1.8425, 1.8003, 1.8003, 1.7947, 1.7841, 1.7837, 1.7571, 1.7408, 1.7311, 1.7082, 1.703, 1.7011, 1.6937, 1.69, 1.6845, 1.6652, 1.6248, 1.6083, 1.663, 1.5801, 1.6632, 1.5687, 1.5782, 1.6061, 1.2914, 1.3016, 1.0462, 1.2886, 0.8765, 0.9537, 0.7744, 2.0938, 2.0375, 1.9496, 1.904, 1.8996, 1.897, 1.893, 1.8892, 1.8838, 1.8791, 1.8763, 1.861, 1.8567, 1.852, 1.8463, 1.8392, 1.8389, 1.8389, 1.8389, 1.8299, 1.8226, 1.8167, 1.8139, 1.8025, 1.7626, 1.7595, 1.7563, 1.7354, 1.7301, 1.7146, 1.7029, 1.6296, 1.5949, 1.6651, 1.5413, 1.6331, 1.2245, 1.3284, 1.2405, 1.4626, 1.5242, 1.2892, 1.6232, 0.9039, 1.4198, 2.1681, 2.1681, 2.1612, 2.1612, 2.1612, 2.1612, 2.1612, 2.1612, 2.1612, 2.1612, 2.1458, 2.0929, 1.9942, 1.9446, 1.9446, 1.9446, 1.9446, 1.9446, 1.9446, 1.9446, 1.9446, 1.9446, 1.9446, 1.9446, 1.9446, 1.9446, 1.9446, 1.9325, 1.9307, 1.9119, 1.8309, 1.8476, 1.7875, 1.7282, 1.8771, 1.8402, 1.5724, 1.1613, 1.4027, 1.6581, 2.2243, 2.2197, 2.0649, 1.9823, 1.9686, 1.9362, 1.9094, 1.8951, 1.894, 1.8881, 1.8733, 1.8574, 1.857, 1.8541, 1.8524, 1.8453, 1.8424, 1.8268, 1.8265, 1.8212, 1.7845, 1.7831, 1.7756, 1.7685, 1.7599, 1.7563, 1.7463, 1.7352, 1.7251, 1.7228, 1.6218, 1.5871, 1.5481, 1.4009, 1.2544, 1.3102, 1.6166, 1.03, 1.0368, 0.9123, 1.5457, 1.3002, 2.1475, 2.1367, 2.133, 2.0894, 2.0511, 2.0502, 2.019, 2.019, 1.9922, 1.9572, 1.9504, 1.9358, 1.935, 1.9214, 1.9205, 1.8946, 1.8898, 1.8783, 1.87, 1.8214, 1.8214, 1.8214, 1.8129, 1.8129, 1.8129, 1.8129, 1.8129, 1.8129, 1.8129, 1.8129, 1.7086, 1.7829, 1.6958, 1.7363, 1.7809, 1.727, 1.694, 1.4971, 1.557, 0.5215, 1.0526, 0.7676, 2.307, 2.1669, 2.15, 2.1438, 2.0809, 2.0625, 2.058, 2.0461, 2.018, 2.0113, 2.0057, 1.9994, 1.9891, 1.9875, 1.975, 1.9686, 1.9277, 1.9228, 1.909, 1.9041, 1.9041, 1.8945, 1.8793, 1.8724, 1.8724, 1.8724, 1.8724, 1.8724, 1.8724, 1.8724, 1.8653, 1.8179, 1.8533, 1.8201, 1.85, 1.7966, 1.6969, 1.8196, 1.6436, 1.7189, 1.7424, 1.4971, 1.0451, 2.3055, 2.1494, 2.1434, 2.1231, 2.1185, 2.1025, 2.0967, 2.0822, 2.0641, 2.0618, 2.0518, 2.028, 2.0083, 2.0069, 2.0024, 1.9911, 1.991, 1.987, 1.9648, 1.9606, 1.9598, 1.9316, 1.9223, 1.9195, 1.9158, 1.9085, 1.8505, 1.8374, 1.8246, 1.8231, 1.8138, 1.8064, 1.7087, 1.7633, 1.7161, 1.5063, 1.592, 1.3618, 1.6179, 1.1181, 1.4992, 1.4678, 1.3597, 2.2651, 2.2413, 2.2248, 2.2158, 2.1987, 2.1891, 2.1521, 2.152, 2.1176, 2.1025, 2.1022, 2.0782, 2.0602, 2.0537, 2.0537, 2.0537, 2.0537, 2.0537, 2.0537, 2.0537, 2.0537, 2.0428, 2.0206, 2.0206, 2.0206, 2.0206, 2.0206, 2.0206, 2.0206, 2.0206, 2.0153, 1.9798, 1.9896, 1.9182, 1.8083, 1.8439, 1.0333, 1.8114]}, \"token.table\": {\"Topic\": [10, 2, 4, 4, 10, 3, 6, 7, 9, 2, 2, 3, 4, 4, 2, 7, 8, 8, 9, 9, 1, 7, 5, 4, 9, 10, 3, 6, 4, 9, 7, 2, 8, 6, 9, 9, 10, 4, 6, 10, 3, 5, 9, 3, 9, 7, 3, 6, 6, 5, 10, 1, 3, 4, 2, 10, 5, 8, 6, 4, 2, 5, 6, 9, 10, 7, 1, 4, 8, 6, 10, 5, 10, 1, 8, 5, 7, 1, 2, 9, 4, 2, 1, 4, 1, 4, 9, 4, 6, 7, 7, 8, 5, 10, 1, 2, 4, 4, 9, 7, 8, 9, 9, 9, 7, 1, 6, 5, 8, 3, 3, 4, 9, 9, 3, 2, 3, 8, 7, 3, 2, 4, 8, 3, 3, 8, 7, 2, 5, 5, 5, 2, 5, 7, 3, 2, 1, 6, 1, 2, 3, 4, 2, 9, 6, 1, 4, 7, 3, 2, 6, 10, 3, 4, 10, 8, 4, 6, 10, 5, 1, 2, 8, 6, 4, 9, 4, 7, 8, 9, 10, 10, 5, 5, 6, 5, 2, 3, 4, 8, 1, 2, 3, 6, 5, 6, 6, 3, 7, 4, 3, 6, 1, 1, 4, 8, 10, 4, 3, 3, 4, 9, 7, 8, 6, 6, 9, 9, 1, 10, 10, 3, 8, 6, 1, 6, 1, 4, 4, 1, 9, 1, 6, 10, 1, 9, 10, 1, 3, 1, 4, 8, 9, 3, 6, 2, 6, 1, 8, 9, 10, 8, 2, 10, 1, 3, 8, 10, 7, 6, 1, 4, 4, 8, 1, 8, 10, 9, 8, 2, 9, 1, 5, 5, 2, 1, 7, 2, 10, 2, 1, 1, 5, 6, 10, 1, 6, 2, 5, 6, 6, 5, 7, 7, 2, 6, 10, 2, 10, 7, 7, 6, 4, 9, 4, 7, 9, 1, 6, 8, 7, 9, 1, 3, 2, 2, 10, 5, 9, 3, 1, 2, 3, 7, 5, 8, 9, 10, 3, 8, 5, 8, 6, 9, 3, 2, 1, 9, 2, 10, 1, 4, 9, 3, 1, 9, 4, 10, 10, 1, 7, 8, 4, 2, 10, 10, 10, 8, 3, 10, 2, 4, 4, 7, 9, 2, 3, 8, 7, 7, 1, 3, 9, 2, 4, 8, 10, 5, 7, 3, 8, 5, 3, 5, 4, 10, 2, 6, 7, 9, 10, 5, 1, 2, 5, 2, 8, 10, 7, 7, 2, 8, 5, 6, 10, 2, 7, 1, 5, 5, 6, 1, 4, 6, 7, 8, 7, 2, 6, 2, 4, 5, 6, 8, 9, 9, 1, 1, 6, 6, 9, 10, 2, 5, 7, 9, 7, 9, 7, 2, 8, 3, 5, 2, 4, 6, 5, 1, 4, 10, 8, 4, 2, 3, 5, 10, 2, 8, 1, 1, 2, 3, 9, 2, 7, 9, 3, 9, 3, 7, 1, 3, 4, 5, 3, 4, 9, 8, 8, 5, 8, 1, 5, 10, 3, 2, 4, 2, 8, 1, 2, 3, 4, 3, 3, 6, 9, 3, 8, 7, 3, 7, 2, 1, 4, 1, 2, 6, 10, 1, 8, 3, 4, 8, 2, 2, 5, 7, 10, 4, 9, 5, 9, 5, 4, 3, 8, 9, 6, 4, 8, 9, 4, 9, 2, 6, 4, 5, 7, 4, 8, 8, 1, 7, 5, 3, 5, 4, 1, 10, 2, 5, 2, 1, 6], \"Freq\": [0.49800026349429233, 0.30631665399810765, 0.30631665399810765, 0.37294333780492506, 0.37294333780492506, 0.20376204969737868, 0.20376204969737868, 0.40752409939475737, 0.20376204969737868, 0.6620977398021597, 0.7501239390309078, 0.6057953899542731, 0.30289769497713653, 0.5399350084078947, 0.7250630421470373, 0.5480409040202525, 0.9302110459808873, 0.6988649519546801, 0.6477546242423331, 0.6746523289147779, 0.6264714796555241, 0.20882382655184134, 0.5255065935388427, 0.723868858732782, 0.24128961957759398, 0.6292188042282378, 0.4465496906894119, 0.6065230568681115, 0.4422172262300972, 0.4422172262300972, 0.8217877174165406, 0.653693284862441, 0.3268466424312205, 0.4288835098919469, 0.5244812257942713, 0.5528615499200672, 0.4836955918750924, 0.5963059153554675, 0.650585228475402, 0.6773624886895847, 0.4800787756452738, 0.5073309549216911, 0.25366547746084556, 0.9476803164587915, 0.4797138087211202, 0.9359904618116985, 0.8962112882247255, 0.472136778563275, 0.5162947023791093, 0.7586248151177716, 0.6295873814858063, 0.9584875109746595, 0.6627743820541591, 0.6866756901086954, 0.5265296127895575, 0.5379236410301018, 0.47638230261662606, 0.47638230261662606, 0.5749861453821188, 0.4278629002741769, 0.20864403193051195, 0.20864403193051195, 0.20864403193051195, 0.20864403193051195, 0.20864403193051195, 0.5697880520460629, 0.7516594016604528, 0.1879148504151132, 0.1879148504151132, 0.7015186150505518, 0.6773624886895847, 0.759465381467307, 0.6773624886895847, 0.5369020641717653, 0.745333831559831, 0.5255065935388427, 0.7524895619014262, 0.5025411919800633, 0.16751373066002112, 0.16751373066002112, 0.54760407230384, 0.7158279168239811, 0.4452190471270324, 0.4452190471270324, 0.2749024950394474, 0.2749024950394474, 0.2749024950394474, 0.30439759510723957, 0.30439759510723957, 0.30439759510723957, 0.7524895619014262, 0.745333831559831, 0.972677857147176, 0.7086499393221287, 0.9712524872832844, 0.6199473936642499, 0.6100445563380552, 0.38565618983310607, 0.38565618983310607, 0.5770630670403447, 0.5262352295229807, 0.6947527317564948, 0.6491779552011034, 0.8155875916938028, 0.7524895619014262, 0.35414823921541705, 0.35414823921541705, 0.7586248151177716, 0.4509675278896632, 0.4830000384578252, 0.33294090964930184, 0.33294090964930184, 0.33294090964930184, 0.6253304921163926, 0.598484431438901, 0.5753275502764025, 0.3610992124208004, 0.4718512916928876, 0.6137170494636662, 0.8379453049675488, 0.35413703248709544, 0.35413703248709544, 0.634137908307851, 0.9735616911387037, 0.49778650861138835, 0.7223358333690547, 0.505078499662914, 0.928667604856605, 0.5255065935388427, 0.5255065935388427, 0.7586248151177716, 0.5535628277118881, 0.27678141385594407, 0.27678141385594407, 0.5010055491769151, 0.640503761469551, 0.3779253446165901, 0.7558506892331802, 0.7636761073052458, 0.40611342091346697, 0.40611342091346697, 0.5867789943615072, 0.7712856915727022, 0.6939869903546749, 0.4371134601587557, 0.7636761073052458, 0.4588655168726653, 0.7524895619014262, 0.6641298905658329, 0.3171153862121522, 0.6342307724243044, 0.6773624886895847, 0.519557902371705, 0.2597789511858525, 0.2597789511858525, 0.6171605348648296, 0.5417772875743218, 0.6476970919630293, 0.32384854598151464, 0.8102017367366127, 0.2292661769101838, 0.2292661769101838, 0.2292661769101838, 0.48069250751313913, 0.5521214973112493, 0.5931908910706233, 0.5208671720637982, 0.5835451787101456, 0.4854492408610293, 0.497279733979974, 0.4762743464996649, 0.6534375781622617, 0.5255065935388427, 0.7586248151177716, 0.46661030486418026, 0.5255065935388427, 0.17303979095172192, 0.34607958190344384, 0.34607958190344384, 0.17303979095172192, 0.5609368288624571, 0.20436908987940483, 0.20436908987940483, 0.20436908987940483, 0.9362695300783874, 0.6636851069785492, 0.729825048438911, 0.6490682741494289, 0.7524895619014262, 0.7311538431868754, 0.6543512724284977, 0.4283250279237517, 0.7636761073052458, 0.7332061789711856, 0.1833015447427964, 0.5370575203146147, 0.5595339458970137, 0.6022799149497483, 0.7957874472036063, 0.5694721393283347, 0.37609126613047755, 0.37609126613047755, 0.4294202404891976, 0.7162844627840071, 0.4181217719399876, 0.8623914162380681, 0.7420785709657671, 0.6648289190921, 0.7636761058841367, 0.6773624886895847, 0.6773624886895847, 0.5287324545124855, 0.425329479161518, 0.8432798417485629, 0.28500633981667267, 0.5700126796333453, 0.2595594896308062, 0.5191189792616124, 0.6100445563380552, 0.40863452301251807, 0.40863452301251807, 0.2280871233916399, 0.2280871233916399, 0.2280871233916399, 0.5164512324728083, 0.5716586851068157, 0.49493754359760583, 0.49261685971733354, 0.5441940377967508, 0.3701011882621377, 0.3701011882621377, 0.18505059413106886, 0.18505059413106886, 0.4640523727035164, 0.4640523727035164, 0.39393268069599685, 0.39393268069599685, 0.5175465072529895, 0.5748282132973837, 0.5032682500006667, 0.5795976044941447, 0.5620997046700936, 0.5843516679648363, 0.5757670791494409, 0.7531562417110705, 0.37657812085553527, 0.7162844627840071, 0.6773624886895847, 0.5048942381507341, 0.5837946277455284, 0.8809122906650301, 0.6100445563380552, 0.6338603018305468, 0.21128676727684892, 0.4554820343305894, 0.2277410171652947, 0.2277410171652947, 0.5321128657039362, 0.8752228188798604, 0.5845522641247208, 0.6279418240157992, 0.6491632793575212, 0.3245816396787606, 0.7175397498027588, 0.5617568719137863, 0.7249272227720471, 0.4622073021297312, 0.8257257835677366, 0.16514515671354732, 0.4828584639569572, 0.7138601338839815, 0.8339414938463784, 0.36625565321076753, 0.36625565321076753, 0.5150372400746807, 0.7636761073052458, 0.7296490507069265, 0.6485498868367159, 0.5411203059227697, 0.6646721316331374, 0.6715911605151219, 0.7586248151177716, 0.6499324016016832, 0.7524895619014262, 0.4746844865058261, 0.43940139246204496, 0.43940139246204496, 0.5142557705609866, 0.2571278852804933, 0.8310397615835089, 0.6510195368140393, 0.5751362586846065, 0.3663617831595365, 0.6536429342644885, 0.7126418958034683, 0.5480409040202525, 0.7329623842774333, 0.4823032315549131, 0.222193862273396, 0.444387724546792, 0.48034534794556516, 0.24017267397278258, 0.7636761073052458, 0.6366267939142733, 0.5119009655472102, 0.7667977251301193, 0.46211107699384263, 0.36074994436366326, 0.8037269335432208, 0.7488265009024676, 0.15198286896170018, 0.4559486068851005, 0.30396573792340037, 0.15198286896170018, 0.3291690534989534, 0.3291690534989534, 0.3291690534989534, 0.7086499393221287, 0.2856303765776607, 0.5712607531553214, 0.5255065935388427, 0.745333831559831, 0.7011154843092884, 0.5579439961627641, 0.8829001098501875, 0.5173312217785186, 0.79805261245677, 0.5270115004166582, 0.22152269654208245, 0.6645680896262474, 0.7636761058841367, 0.32432132160722277, 0.32432132160722277, 0.8198181952247443, 0.36592194845636106, 0.36592194845636106, 0.632949166979497, 0.5614211480686713, 0.9020277736275412, 0.5362165977156804, 0.7524895619014262, 0.4551405107122907, 0.5562429758575669, 0.41198425554879975, 0.41198425554879975, 0.7086499393221287, 0.7086499393221287, 0.745333831559831, 0.502330228286136, 0.251165114143068, 0.6482944910331991, 0.671075134150647, 0.26243183695931294, 0.26243183695931294, 0.26243183695931294, 0.6231737818196406, 0.15579344545491014, 0.15579344545491014, 0.6356310523526804, 0.6999424423903217, 0.3777611891885548, 0.3777611891885548, 0.3777611891885548, 0.5413927168123298, 0.1804642389374433, 0.4197971351185551, 0.6773624886895847, 0.8623681310396465, 0.10779601637995581, 0.7263134858901771, 0.9156812702687084, 0.7586248151177716, 0.401534399043172, 0.401534399043172, 0.9217767249705896, 0.7086499393221287, 0.2213706051453179, 0.4427412102906358, 0.6825235996668878, 0.6647126579148297, 0.7086499393221287, 0.5255065935388427, 0.7797612967262448, 0.6377682404085361, 0.5369435826392008, 0.5367347963919297, 0.745333831559831, 0.7086499393221287, 0.7524895619014262, 0.5531486090902096, 0.5232042938859427, 0.745333831559831, 0.5170062696518294, 0.2585031348259147, 0.2585031348259147, 0.6999994397921466, 0.23333314659738222, 0.8066879972274124, 0.9726778588762294, 0.5255065935388427, 0.5603957174118726, 0.2720510517072815, 0.40807657756092225, 0.13602552585364075, 0.13602552585364075, 0.13602552585364075, 0.7950215946714251, 0.5193244924041137, 0.25966224620205686, 0.17594903614625912, 0.17594903614625912, 0.17594903614625912, 0.35189807229251824, 0.17594903614625912, 0.17594903614625912, 0.43126266005228303, 0.5418480048030858, 0.24512048342010226, 0.24512048342010226, 0.3275152448376415, 0.3275152448376415, 0.3275152448376415, 0.765944143941344, 0.5811272629820886, 0.5121415699516806, 0.5429667905998287, 0.636447932582282, 0.44304215337931074, 0.6764222791665737, 0.3103230591594524, 0.3103230591594524, 0.3138930735987197, 0.3138930735987197, 0.442337311641643, 0.2211686558208215, 0.2211686558208215, 0.5255065935388427, 0.5090919654901711, 0.5090919654901711, 0.5148495810667867, 0.702631493019323, 0.707064772303037, 0.18107915675217268, 0.18107915675217268, 0.36215831350434535, 0.18107915675217268, 0.6112467548471388, 0.7685391414263625, 0.8436995836465171, 0.24173387394456064, 0.24173387394456064, 0.24173387394456064, 0.24173387394456064, 0.4237180036290512, 0.4237180036290512, 0.47545721024054516, 0.9310616527536438, 0.6900566100347879, 0.5696657480626509, 0.4095625283872116, 0.7636761073052458, 0.16467267307977612, 0.16467267307977612, 0.6586906923191045, 0.5578020038446655, 0.5913196385647124, 0.6177835208573624, 0.7897275548059817, 0.34476435604392924, 0.4965061894942186, 0.745333831559831, 0.8890849085202985, 0.7586248151177716, 0.5531738483242349, 0.6255880860560403, 0.35504906739420095, 0.35504906739420095, 0.3522441719682837, 0.3522441719682837, 0.201499933590809, 0.402999867181618, 0.402999867181618, 0.6473911548743257, 0.6703938622984043, 0.4325167174096383, 0.21625835870481916, 0.21625835870481916, 0.8859917628924291, 0.4477526558684427, 0.5038616064952289, 0.6727466564076152, 0.4856690320870129, 0.5975962045807262, 0.8992624485289026, 0.42398667515365435, 0.23091926613853545, 0.23091926613853545, 0.23091926613853545, 0.23091926613853545, 0.5105049652410673, 0.4387022895271596, 0.7622095919045225, 0.4256468331959675, 0.4256468331959675, 0.4701072875622496, 0.17198474794306523, 0.5159542438291956, 0.17198474794306523, 0.5273934056884061, 0.21674614145357798, 0.43349228290715597, 0.5255065935388427, 0.91262392332116, 0.5255065935388427, 0.543100619495701, 0.6561374145448305, 0.6044773838433275, 0.7354415302536718, 0.7347122303937382, 0.48722223650001595, 0.24361111825000797, 0.24361111825000797, 0.527416473424353, 0.2637082367121765, 0.45980994667667513, 0.22990497333833756, 0.3892114947919953, 0.3892114947919953, 0.6825235996668878, 0.6269082138592768, 0.56843438316093, 0.5204587353823309, 0.5200085409910676, 0.6825235996668878, 0.7586248151177716, 0.49899375980681765, 0.5255065935388427, 0.6097344511969457, 0.7636761073052458, 0.7086499393221287, 0.628601475765882, 0.5255065935388427, 0.8355969473314934, 0.30531014749088187, 0.30531014749088187], \"Term\": [\"....\", \"\\u0c05...\", \"\\u0c05...\", \"\\u0c05\\u0c02\\u0c1f\\u0c42\", \"\\u0c05\\u0c02\\u0c1f\\u0c42\", \"\\u0c05\\u0c02\\u0c1f\\u0c47\", \"\\u0c05\\u0c02\\u0c1f\\u0c47\", \"\\u0c05\\u0c02\\u0c1f\\u0c47\", \"\\u0c05\\u0c02\\u0c1f\\u0c47\", \"\\u0c05\\u0c02\\u0c24\\u0c3e\", \"\\u0c05\\u0c02\\u0c26\\u0c3f.\", \"\\u0c05\\u0c02\\u0c26\\u0c41\", \"\\u0c05\\u0c02\\u0c26\\u0c41\", \"\\u0c05\\u0c02\\u0c26\\u0c41\\u0c15\\u0c41\\u0c28\\u0c4d\\u0c28\\u0c3e\\u0c30\\u0c41\", \"\\u0c05\\u0c15\\u0c4d\\u0c30\\u0c2e\", \"\\u0c05\\u0c17\\u0c4d\", \"\\u0c05\\u0c17\\u0c4d\\u0c30\", \"\\u0c05\\u0c17\\u0c4d\\u0c30\\u0c30\\u0c3e\\u0c1c\\u0c4d\\u0c2f\\u0c02\", \"\\u0c05\\u0c1f\\u0c4d\\u0c32\\u0c40\", \"\\u0c05\\u0c21\\u0c3f\\u0c17\\u0c3f\\u0c02\\u0c26\\u0c3f\", \"\\u0c05\\u0c21\\u0c41\\u0c17\\u0c41\", \"\\u0c05\\u0c21\\u0c41\\u0c17\\u0c41\", \"\\u0c05\\u0c21\\u0c41\\u0c17\\u0c41\\u0c24\\u0c41\\u0c28\\u0c4d\\u0c28\", \"\\u0c05\\u0c24\\u0c21\\u0c3f\", \"\\u0c05\\u0c24\\u0c21\\u0c3f\", \"\\u0c05\\u0c27\\u0c3f\\u0c15\\u0c02\\u0c17\\u0c3e\", \"\\u0c05\\u0c27\\u0c4d\\u0c2f\\u0c15\\u0c4d\\u0c37\\u0c41\", \"\\u0c05\\u0c28...\", \"\\u0c05\\u0c28\\u0c4d\\u0c28\", \"\\u0c05\\u0c28\\u0c4d\\u0c28\", \"\\u0c05\\u0c28\\u0c4d\\u0c28\\u0c3e\\u0c21\\u0c41.\", \"\\u0c05\\u0c28\\u0c4d\\u0c28\\u0c3e\\u0c30\\u0c41.\", \"\\u0c05\\u0c28\\u0c4d\\u0c28\\u0c3e\\u0c30\\u0c41.\", \"\\u0c05\\u0c2a\\u0c4d\\u0c2a\\u0c1f\\u0c3f\", \"\\u0c05\\u0c2a\\u0c4d\\u0c2a\\u0c1f\\u0c3f\\u0c15\\u0c47\", \"\\u0c05\\u0c2a\\u0c4d\\u0c2a\\u0c1f\\u0c3f\\u0c35\\u0c30\\u0c15\\u0c42\", \"\\u0c05\\u0c2a\\u0c4d\\u0c2a\\u0c41\\u0c21\\u0c47\", \"\\u0c05\\u0c2d\\u0c3f\\u0c2e\\u0c3e\\u0c28\\u0c41\\u0c32\", \"\\u0c05\\u0c2e\\u0c32\\u0c41\", \"\\u0c05\\u0c2e\\u0c4d\\u0c2e\\u0c2e\\u0c4d\\u0c2e\\u0c02\\u0c1f\\u0c47\", \"\\u0c05\\u0c2f\\u0c3f\\u0c02\\u0c26\\u0c3f.\", \"\\u0c05\\u0c2f\\u0c3f\\u0c28\\u0c3e\", \"\\u0c05\\u0c2f\\u0c3f\\u0c28\\u0c3e\", \"\\u0c05\\u0c30\\u0c46\\u0c38\\u0c4d\\u0c1f\\u0c41\", \"\\u0c05\\u0c32\\u0c3e\\u0c02\\u0c1f\\u0c3f\", \"\\u0c05\\u0c32\\u0c3e\\u0c17\\u0c47\", \"\\u0c05\\u0c38\", \"\\u0c06...\", \"\\u0c06\\u0c02\\u0c26\\u0c4b\\u0c33\\u0c28\", \"\\u0c06\\u0c15\\u0c1f\\u0c4d\\u0c1f\\u0c41\\u0c15\\u0c41\\u0c28\\u0c47\\u0c02\\u0c26\\u0c41\", \"\\u0c06\\u0c15\\u0c3e\\u0c36\\u0c02\", \"\\u0c06\\u0c17\\u0c38\\u0c4d\\u0c1f\\u0c41\", \"\\u0c06\\u0c17\\u0c4d\\u0c30\\u0c39\\u0c02\", \"\\u0c06\\u0c1f\\u0c17\\u0c3e\", \"\\u0c06\\u0c26\\u0c3f\\u0c35\\u0c3e\\u0c30\\u0c02\", \"\\u0c06\\u0c32\\u0c4b\\u0c1a\\u0c28\\u0c32\", \"\\u0c06\\u0c35\\u0c3f\\u0c21\", \"\\u0c06\\u0c35\\u0c3f\\u0c21\", \"\\u0c06\\u0c38\\u0c15\\u0c4d\\u0c24\\u0c3f\\u0c15\\u0c30\", \"\\u0c07\\u0c02\\u0c1f\\u0c30\\u0c4d\\u0c35\\u0c4d\\u0c2f\\u0c42\", \"\\u0c07\\u0c02\\u0c1f\\u0c3f\", \"\\u0c07\\u0c02\\u0c1f\\u0c3f\", \"\\u0c07\\u0c02\\u0c1f\\u0c3f\", \"\\u0c07\\u0c02\\u0c1f\\u0c3f\", \"\\u0c07\\u0c02\\u0c1f\\u0c3f\", \"\\u0c07\\u0c02\\u0c1f\\u0c4d\", \"\\u0c07\\u0c02\\u0c21\\u0c3f\\u0c2f\\u0c3e\", \"\\u0c07\\u0c02\\u0c21\\u0c3f\\u0c2f\\u0c3e\", \"\\u0c07\\u0c02\\u0c21\\u0c3f\\u0c2f\\u0c3e\", \"\\u0c07\\u0c1a\\u0c4d\\u0c1a\\u0c3f\\u0c28\", \"\\u0c07\\u0c1f\\u0c40\\u0c35\\u0c32\\u0c47\", \"\\u0c07\\u0c32\\u0c4d\", \"\\u0c07\\u0c37\\u0c4d\\u0c1f\\u0c02.\", \"\\u0c07\\u0c38\\u0c41\\u0c15\", \"\\u0c09\\u0c02\\u0c1a\\u0c3e\\u0c32\\u0c4d\\u0c38\\u0c3f\\u0c28\", \"\\u0c09\\u0c02\\u0c21\\u0c2c\\u0c4b\\u0c24\\u0c41\\u0c02\\u0c26\\u0c3f\", \"\\u0c09\\u0c02\\u0c21\\u0c3f\\u0c2a\\u0c4b\\u0c24\\u0c41\\u0c28\\u0c4d\\u0c28\\u0c3e\\u0c02.\", \"\\u0c09\\u0c02\\u0c26\\u0c3f.\", \"\\u0c09\\u0c02\\u0c26\\u0c3f.\", \"\\u0c09\\u0c02\\u0c26\\u0c3f.\", \"\\u0c09\\u0c26\\u0c4d\\u0c26\\u0c47\\u0c36\\u0c3f\\u0c02\\u0c1a\\u0c3f\", \"\\u0c09\\u0c26\\u0c4d\\u0c2f\\u0c4b\\u0c17\\u0c02\", \"\\u0c0e\\u0c02\", \"\\u0c0e\\u0c02\", \"\\u0c0e\\u0c28\\u0c4d\\u0c1f\\u0c40\\u0c06\\u0c30\\u0c4d\", \"\\u0c0e\\u0c28\\u0c4d\\u0c1f\\u0c40\\u0c06\\u0c30\\u0c4d\", \"\\u0c0e\\u0c28\\u0c4d\\u0c1f\\u0c40\\u0c06\\u0c30\\u0c4d\", \"\\u0c0e\\u0c35\\u0c30\\u0c3f\", \"\\u0c0e\\u0c35\\u0c30\\u0c3f\", \"\\u0c0e\\u0c35\\u0c30\\u0c3f\", \"\\u0c0e\\u0c35\\u0c30\\u0c3f\\u0c15\\u0c3f\\u0c35\\u0c3e\\u0c30\\u0c47\", \"\\u0c0e\\u0c35\\u0c30\\u0c3f\\u0c15\\u0c40\", \"\\u0c0e\\u0c38\\u0c4d\\u0c1f\\u0c47\\u0c1f\\u0c4d\", \"\\u0c0f\\u0c02\\u0c1f\\u0c40\", \"\\u0c0f\\u0c21\\u0c3e\\u0c26\\u0c3f\", \"\\u0c0f\\u0c30\\u0c4d\\u0c2a\\u0c3e\\u0c1f\\u0c41\", \"\\u0c0f\\u0c33\\u0c4d\\u0c32\\u0c2a\\u0c3e\\u0c1f\\u0c41\", \"\\u0c12\\u0c15\\u0c4d\\u0c15\", \"\\u0c12\\u0c15\\u0c4d\\u0c15\", \"\\u0c15\\u0c02\\u0c1f\\u0c3f\", \"\\u0c15\\u0c25\\u0c3e\\u0c28\\u0c3e\\u0c2f\\u0c15\\u0c41\", \"\\u0c15\\u0c32\\u0c35\\u0c21\\u0c02\", \"\\u0c15\\u0c32\\u0c3f\\u0c17\\u0c3f\", \"\\u0c15\\u0c32\\u0c3f\\u0c36\\u0c3e\\u0c2f\\u0c3f.\", \"\\u0c15\\u0c32\\u0c3f\\u0c38\\u0c47\", \"\\u0c15\\u0c32\\u0c4d\\u0c24\\u0c40\", \"\\u0c15\\u0c32\\u0c4d\\u0c24\\u0c40\", \"\\u0c15\\u0c32\\u0c4d\\u0c2a\\u0c3f\\u0c38\\u0c4d\\u0c24\\u0c41\\u0c28\\u0c4d\\u0c28\\u0c3e\\u0c2f\\u0c3f.\", \"\\u0c15\\u0c33\\u0c4d\\u0c33\\u0c41\", \"\\u0c15\\u0c38\\u0c4d\\u0c1f\\u0c21\\u0c40\", \"\\u0c15\\u0c3e\", \"\\u0c15\\u0c3e\", \"\\u0c15\\u0c3e\", \"\\u0c15\\u0c3e\\u0c15\\u0c41\\u0c02\\u0c21\\u0c3e\", \"\\u0c15\\u0c3e\\u0c26\\u0c02\\u0c2c\\u0c30\\u0c40\", \"\\u0c15\\u0c3e\\u0c26\\u0c41.\", \"\\u0c15\\u0c3e\\u0c30\\u0c23\\u0c02\", \"\\u0c15\\u0c3e\\u0c30\\u0c41\", \"\\u0c15\\u0c3e\\u0c32\\u0c41\\u0c35\", \"\\u0c15\\u0c41\\u0c15\\u0c4d\\u0c15\", \"\\u0c15\\u0c41\\u0c1f\\u0c41\\u0c02\\u0c2c\", \"\\u0c15\\u0c41\\u0c1f\\u0c41\\u0c02\\u0c2c\", \"\\u0c15\\u0c47\\u0c1f\\u0c40\\u0c06\\u0c30\\u0c4d\", \"\\u0c15\\u0c47\\u0c38\\u0c41\", \"\\u0c15\\u0c4a\\u0c02\\u0c1a\\u0c46\\u0c02\", \"\\u0c15\\u0c4a\\u0c02\\u0c21\", \"\\u0c15\\u0c4a\\u0c02\\u0c26\\u0c30\\u0c41\", \"\\u0c15\\u0c4a\\u0c26\\u0c4d\\u0c26\\u0c40\", \"\\u0c15\\u0c4a\\u0c28\\u0c21\\u0c3e\\u0c28\\u0c3f\", \"\\u0c15\\u0c4a\\u0c28\\u0c3e\\u0c32\\u0c28\\u0c41\\u0c15\\u0c41\\u0c28\\u0c47\", \"\\u0c15\\u0c4a\\u0c28\\u0c41\\u0c17\\u0c4b\\u0c32\\u0c41\\u0c26\\u0c3e\\u0c30\\u0c41\\u0c32\", \"\\u0c15\\u0c4a\\u0c28\\u0c4d\", \"\\u0c15\\u0c4a\\u0c28\\u0c4d\", \"\\u0c15\\u0c4a\\u0c28\\u0c4d\", \"\\u0c15\\u0c4a\\u0c30\\u0c3f\\u0c2f\\u0c4b\\u0c17\\u0c4d\\u0c30\\u0c3e\\u0c2b\\u0c30\\u0c4d\", \"\\u0c15\\u0c4a\\u0c32\\u0c46\\u0c38\\u0c4d\\u0c1f\\u0c4d\\u0c30\\u0c3e\\u0c32\\u0c4d\", \"\\u0c15\\u0c4b\\u0c1f\\u0c4d\", \"\\u0c15\\u0c4b\\u0c1f\\u0c4d\", \"\\u0c15\\u0c4b\\u0c1f\\u0c4d\\u0c32\\u0c41\\u0c17\\u0c3e\", \"\\u0c15\\u0c4b\\u0c30\\u0c4d\\u0c1f\\u0c41\", \"\\u0c15\\u0c4b\\u0c30\\u0c4d\\u0c1f\\u0c41\", \"\\u0c15\\u0c4d\\u0c30\\u0c3f\\u0c15\\u0c46\\u0c1f\\u0c4d\", \"\\u0c15\\u0c4d\\u0c37\\u0c23\\u0c02\", \"\\u0c17\\u0c02\\u0c1c\\u0c3e\\u0c2f\\u0c3f\", \"\\u0c17\\u0c41\\u0c30\\u0c4d\\u0c24\\u0c41\", \"\\u0c17\\u0c43\\u0c39\\u0c3e\", \"\\u0c17\\u0c4a\\u0c02\\u0c24\\u0c41\", \"\\u0c17\\u0c4a\\u0c21\\u0c35\\u0c32\\u0c47\\u0c2e\\u0c40\", \"\\u0c17\\u0c4c\\u0c21\\u0c4d\", \"\\u0c1a\\u0c02\\u0c26\\u0c4d\\u0c30\\u0c2c\\u0c3e\\u0c2c\\u0c41\", \"\\u0c1a\\u0c02\\u0c26\\u0c4d\\u0c30\\u0c2c\\u0c3e\\u0c2c\\u0c41\", \"\\u0c1a\\u0c28\\u0c3f\\u0c2a\\u0c4b\\u0c2f\\u0c3f\\u0c02\\u0c26\\u0c3f.\", \"\\u0c1a\\u0c3f\\u0c28\\u0c4d\\u0c28\", \"\\u0c1a\\u0c3f\\u0c28\\u0c4d\\u0c28\", \"\\u0c1a\\u0c3f\\u0c28\\u0c4d\\u0c28\", \"\\u0c1a\\u0c3f\\u0c30\\u0c02\\u0c1c\\u0c40\\u0c35\\u0c3f\", \"\\u0c1a\\u0c3f\\u0c35\\u0c30\\u0c3f\", \"\\u0c1a\\u0c40\\u0c15\\u0c1f\\u0c3f\", \"\\u0c1a\\u0c40\\u0c15\\u0c1f\\u0c3f\", \"\\u0c1a\\u0c42\\u0c21\\u0c17\\u0c3e\\u0c28\\u0c47\", \"\\u0c1a\\u0c42\\u0c38\\u0c3f\", \"\\u0c1a\\u0c42\\u0c38\\u0c3f\", \"\\u0c1a\\u0c42\\u0c38\\u0c3f\", \"\\u0c1a\\u0c42\\u0c38\\u0c3f\\u0c02\\u0c26\\u0c3f.\", \"\\u0c1a\\u0c42\\u0c38\\u0c4d\\u0c24\\u0c42\", \"\\u0c1a\\u0c46\", \"\\u0c1a\\u0c46\\u0c28\\u0c4d\\u0c28\\u0c48\", \"\\u0c1a\\u0c46\\u0c2a\\u0c4d\\u0c2a\\u0c3e\", \"\\u0c1a\\u0c46\\u0c2a\\u0c4d\\u0c2a\\u0c3e\\u0c21\\u0c41.\", \"\\u0c1a\\u0c46\\u0c2a\\u0c4d\\u0c2a\\u0c3f\\u0c02\\u0c26\\u0c3f.\", \"\\u0c1a\\u0c46\\u0c2a\\u0c4d\\u0c2a\\u0c41\", \"\\u0c1a\\u0c46\\u0c2a\\u0c4d\\u0c2a\\u0c41.\", \"\\u0c1a\\u0c46\\u0c2c\\u0c41\\u0c24\\u0c41\\u0c28\\u0c4d\\u0c28\\u0c3e\\u0c30\\u0c41.\", \"\\u0c1a\\u0c46\\u0c32\\u0c4d\\u0c32\\u0c3f\\u0c02\\u0c2a\\u0c41\", \"\\u0c1a\\u0c47\\u0c2f\\u0c21\\u0c3e\\u0c28\\u0c3f\", \"\\u0c1a\\u0c47\\u0c2f\\u0c35\\u0c1a\\u0c4d\\u0c1a\\u0c3e\", \"\\u0c1a\\u0c47\\u0c36\\u0c3e\\u0c30\\u0c41.\", \"\\u0c1a\\u0c47\\u0c36\\u0c3e\\u0c30\\u0c41.\", \"\\u0c1a\\u0c47\\u0c36\\u0c3e\\u0c30\\u0c41.\", \"\\u0c1a\\u0c47\\u0c36\\u0c3e\\u0c30\\u0c41.\", \"\\u0c1a\\u0c47\\u0c38\\u0c3f\", \"\\u0c1a\\u0c47\\u0c38\\u0c3f\\u0c28\", \"\\u0c1a\\u0c47\\u0c38\\u0c3f\\u0c28\", \"\\u0c1a\\u0c47\\u0c38\\u0c3f\\u0c28\", \"\\u0c1a\\u0c47\\u0c38\\u0c3f\\u0c28\\u0c3e\", \"\\u0c1a\\u0c47\\u0c38\\u0c41\\u0c15\\u0c4b\\u0c32\\u0c47\\u0c26\\u0c41.\", \"\\u0c1a\\u0c47\\u0c38\\u0c4d\\u0c24\\u0c3e\\u0c2e\", \"\\u0c1a\\u0c47\\u0c38\\u0c4d\\u0c24\\u0c41\\u0c02\\u0c26\\u0c3f.\", \"\\u0c1a\\u0c47\\u0c38\\u0c4d\\u0c24\\u0c41\\u0c28\\u0c4d\\u0c28\\u0c3e\\u0c02.\", \"\\u0c1c\\u0c1f\\u0c4d\\u0c1f\\u0c41\", \"\\u0c1c\\u0c24\\u0c4d\\u0c35\\u0c3e\\u0c28\\u0c40\", \"\\u0c1c\\u0c2f\\u0c02\\u0c24\\u0c3f\", \"\\u0c1c\\u0c30\\u0c3f\\u0c17\\u0c3e\\u0c2f\\u0c3f.\", \"\\u0c1c\\u0c30\\u0c3f\\u0c17\\u0c3f\\u0c28\", \"\\u0c1c\\u0c30\\u0c3f\\u0c17\\u0c3f\\u0c28\", \"\\u0c1c\\u0c35\\u0c3e\\u0c2c\\u0c41\", \"\\u0c1c\\u0c3e\\u0c17\\u0c4d\\u0c30\\u0c24\\u0c4d\\u0c24\\u0c17\\u0c3e\", \"\\u0c1c\\u0c3e\\u0c24\\u0c40\\u0c2f\", \"\\u0c1c\\u0c3e\\u0c28\\u0c40\", \"\\u0c1c\\u0c46\\u0c24\\u0c4d\\u0c35\\u0c3e\\u0c28\\u0c40\", \"\\u0c1f\\u0c46\\u0c38\\u0c4d\\u0c1f\\u0c41\", \"\\u0c1f\\u0c46\\u0c38\\u0c4d\\u0c1f\\u0c41\", \"\\u0c1f\\u0c48\\u0c2e\\u0c4d\", \"\\u0c1f\\u0c4d\\u0c30\\u0c4b\\u0c2b\\u0c40\", \"\\u0c21\\u0c2c\\u0c4d\\u0c2c\\u0c41\", \"\\u0c21\\u0c3e\\u0c15\\u0c4d\\u0c1f\\u0c30\\u0c4d\", \"\\u0c21\\u0c3f\\u0c28\", \"\\u0c21\\u0c40\\u0c0e\\u0c38\\u0c4d\\u0c38\\u0c40\", \"\\u0c24\\u0c17\\u0c4d\\u0c17\\u0c3e\\u0c2f\", \"\\u0c24\\u0c17\\u0c4d\\u0c17\\u0c41\\u0c24\\u0c41\\u0c28\\u0c4d\\u0c28\\u0c3e\\u0c2f\\u0c3f.\", \"\\u0c24\\u0c1f\\u0c4d\\u0c1f\\u0c41\\u0c15\\u0c4b\\u0c32\\u0c47\\u0c15\\u0c2a\\u0c4b\\u0c24\\u0c41\\u0c28\\u0c4d\\u0c28\\u0c3e.\", \"\\u0c24\\u0c2e\", \"\\u0c24\\u0c30\\u0c35\\u0c3e\\u0c24\", \"\\u0c24\\u0c32\\u0c41\\u0c2a\\u0c41\", \"\\u0c24\\u0c32\\u0c4d\\u0c32\\u0c3f\", \"\\u0c24\\u0c32\\u0c4d\\u0c32\\u0c3f\", \"\\u0c24\\u0c3e\\u0c1c\\u0c3e\\u0c17\\u0c3e\", \"\\u0c24\\u0c3e\\u0c1c\\u0c3e\\u0c17\\u0c3e\", \"\\u0c24\\u0c3e\\u0c28\\u0c46\\u0c02\\u0c26\\u0c41\", \"\\u0c24\\u0c3f\\u0c30\\u0c41\\u0c2a\\u0c24\\u0c3f\", \"\\u0c24\\u0c3f\\u0c30\\u0c41\\u0c2a\\u0c24\\u0c3f\", \"\\u0c24\\u0c3f\\u0c30\\u0c41\\u0c2e\", \"\\u0c24\\u0c3f\\u0c30\\u0c41\\u0c2e\", \"\\u0c24\\u0c3f\\u0c30\\u0c41\\u0c2e\", \"\\u0c24\\u0c3f\\u0c30\\u0c41\\u0c2e\\u0c32\", \"\\u0c24\\u0c40\\u0c38\\u0c3f\", \"\\u0c24\\u0c40\\u0c38\\u0c41\\u0c15\\u0c41\", \"\\u0c24\\u0c46\\u0c26\\u0c47\\u0c2a\\u0c3e\", \"\\u0c24\\u0c46\\u0c32\\u0c02\\u0c17\\u0c3e\\u0c23\", \"\\u0c24\\u0c46\\u0c32\\u0c3f\\u0c2a\\u0c3e\\u0c30\\u0c41.\", \"\\u0c24\\u0c46\\u0c32\\u0c3f\\u0c2a\\u0c3e\\u0c30\\u0c41.\", \"\\u0c24\\u0c46\\u0c32\\u0c3f\\u0c2a\\u0c3e\\u0c30\\u0c41.\", \"\\u0c24\\u0c46\\u0c32\\u0c3f\\u0c2a\\u0c3e\\u0c30\\u0c41.\", \"\\u0c24\\u0c46\\u0c32\\u0c3f\\u0c2f\", \"\\u0c24\\u0c46\\u0c32\\u0c3f\\u0c2f\", \"\\u0c24\\u0c46\\u0c32\\u0c3f\\u0c2f\\u0c26\\u0c41.\", \"\\u0c24\\u0c46\\u0c32\\u0c3f\\u0c2f\\u0c26\\u0c41.\", \"\\u0c24\\u0c46\\u0c32\\u0c3f\\u0c38\\u0c3f\", \"\\u0c24\\u0c46\\u0c32\\u0c41\\u0c38\\u0c41\", \"\\u0c24\\u0c4a\\u0c32\\u0c3f\", \"\\u0c26\\u0c17\\u0c4d\\u0c17\\u0c30\", \"\\u0c26\\u0c30\\u0c4d\\u0c36\\u0c15\\u0c41\", \"\\u0c26\\u0c3e\\u0c30\\u0c4d\\u0c15\\u0c3e\", \"\\u0c26\\u0c40\\u0c28\\u0c3f\\u0c15\\u0c40\", \"\\u0c26\\u0c40\\u0c28\\u0c4d\", \"\\u0c26\\u0c40\\u0c28\\u0c4d\", \"\\u0c26\\u0c41\\u0c32\\u0c40\\u0c2a\\u0c4d\", \"\\u0c26\\u0c43\\u0c37\\u0c4d\\u0c1f\\u0c3f\\u0c2a\\u0c46\\u0c1f\\u0c4d\\u0c1f\\u0c32\\u0c47\\u0c15\\u0c2a\\u0c4b\\u0c24\\u0c41\\u0c28\\u0c4d\\u0c28\\u0c3e.\", \"\\u0c26\\u0c47\\u0c36\\u0c40\\u0c2f\", \"\\u0c27\\u0c30\", \"\\u0c28\\u0c17\\u0c30\\u0c02\", \"\\u0c28\\u0c1f\\u0c3f\\u0c02\\u0c1a\\u0c32\\u0c47\\u0c26\\u0c4b\", \"\\u0c28\\u0c1f\\u0c41\", \"\\u0c28\\u0c1f\\u0c41\", \"\\u0c28\\u0c28\\u0c4d\", \"\\u0c28\\u0c28\\u0c4d\", \"\\u0c28\\u0c28\\u0c4d\", \"\\u0c28\\u0c2e\\u0c4d\\u0c2e\\u0c15\\u0c3e\\u0c32\", \"\\u0c28\\u0c3e\\u0c15\\u0c47\", \"\\u0c28\\u0c3e\\u0c30\\u0c3e\", \"\\u0c28\\u0c3e\\u0c30\\u0c3e\\u0c2f\\u0c23\", \"\\u0c28\\u0c3f\\u0c2e\\u0c3f\\u0c37\\u0c3e\", \"\\u0c28\\u0c3f\\u0c2e\\u0c3f\\u0c37\\u0c3e\", \"\\u0c28\\u0c3f\\u0c30\\u0c4d\\u0c2e\\u0c3e\\u0c23\", \"\\u0c28\\u0c3f\\u0c30\\u0c4d\\u0c35\\u0c39\\u0c3f\\u0c02\\u0c1a\\u0c3e\\u0c30\\u0c41.\", \"\\u0c28\\u0c3f\\u0c35\\u0c47\\u0c26\\u0c3f\\u0c15\", \"\\u0c28\\u0c40\\u0c33\\u0c4d\\u0c33\\u0c41\", \"\\u0c28\\u0c41\\u0c35\\u0c4d\", \"\\u0c28\\u0c41\\u0c35\\u0c4d\", \"\\u0c28\\u0c46\\u0c2e\\u0c4d\\u0c2e\\u0c26\\u0c3f\\u0c17\\u0c3e\", \"\\u0c28\\u0c46\\u0c2f\\u0c4d\\u0c2f\\u0c3f\", \"\\u0c28\\u0c46\\u0c32\", \"\\u0c28\\u0c47\\u0c28\\u0c42\", \"\\u0c28\\u0c47\\u0c28\\u0c42\", \"\\u0c28\\u0c47\\u0c32\", \"\\u0c28\\u0c48\\u0c1f\\u0c4d\", \"\\u0c2a\\u0c02\\u0c2a\\u0c3f\\u0c23\\u0c40\", \"\\u0c2a\\u0c1f\\u0c4d\\u0c1f\\u0c41\", \"\\u0c2a\\u0c21\\u0c4d\\u0c21\\u0c3e\\u0c21\\u0c41.\", \"\\u0c2a\\u0c21\\u0c4d\\u0c21\\u0c3e\\u0c30\\u0c41.\", \"\\u0c2a\\u0c25\\u0c15\\u0c3e\\u0c28\\u0c4d\", \"\\u0c2a\\u0c25\\u0c15\\u0c3e\\u0c32\", \"\\u0c2a\\u0c26\\u0c35\\u0c3f\", \"\\u0c2a\\u0c26\\u0c47\\u0c33\\u0c4d\\u0c32\\u0c35\\u0c41\\u0c24\\u0c4b\\u0c02\\u0c26\\u0c3f.\", \"\\u0c2a\\u0c30\\u0c3f\\u0c36\\u0c4d\\u0c30\\u0c2e\", \"\\u0c2a\\u0c35\\u0c28\\u0c4d\\u0c15\\u0c32\\u0c4d\\u0c2f\\u0c3e\\u0c23\\u0c4d\", \"\\u0c2a\\u0c35\\u0c28\\u0c4d\\u0c15\\u0c32\\u0c4d\\u0c2f\\u0c3e\\u0c23\\u0c4d\", \"\\u0c2a\\u0c3e\\u0c1f\\u0c41\", \"\\u0c2a\\u0c3e\\u0c1f\\u0c41\", \"\\u0c2a\\u0c3e\\u0c2a\\u0c02\", \"\\u0c2a\\u0c3e\\u0c32\\u0c15\\u0c41\", \"\\u0c2a\\u0c3e\\u0c32\\u0c4d\\u0c17\\u0c4a\\u0c28\\u0c4d\\u0c28\\u0c3e\\u0c30\\u0c41.\", \"\\u0c2a\\u0c3f\\u0c32\\u0c4d\\u0c32\", \"\\u0c2a\\u0c3f\\u0c32\\u0c4d\\u0c32\\u0c32\\u0c4d\", \"\\u0c2a\\u0c41\\u0c1f\\u0c4d\\u0c1f\\u0c47\", \"\\u0c2a\\u0c42\\u0c30\\u0c4d\\u0c24\\u0c3f\\u0c17\\u0c3e\", \"\\u0c2a\\u0c46\\u0c1f\\u0c4d\\u0c1f\\u0c3f\", \"\\u0c2a\\u0c46\\u0c26\\u0c35\\u0c41\", \"\\u0c2a\\u0c46\\u0c26\\u0c4d\\u0c26\", \"\\u0c2a\\u0c46\\u0c26\\u0c4d\\u0c26\", \"\\u0c2a\\u0c46\\u0c33\\u0c4d\\u0c33\\u0c3f\", \"\\u0c2a\\u0c46\\u0c33\\u0c4d\\u0c33\\u0c3f\", \"\\u0c2a\\u0c4b\\u0c32\\u0c3f\\u0c38\\u0c4d\\u0c24\\u0c47\", \"\\u0c2a\\u0c4b\\u0c32\\u0c40\\u0c38\\u0c41\", \"\\u0c2a\\u0c4b\\u0c38\\u0c4d\\u0c1f\\u0c41\", \"\\u0c2a\\u0c4d\\u0c30\\u0c15\\u0c3e\\u0c36\\u0c02\", \"\\u0c2a\\u0c4d\\u0c30\\u0c27\\u0c3e\\u0c28\", \"\\u0c2a\\u0c4d\\u0c30\\u0c2a\\u0c02\\u0c1a\\u0c02\", \"\\u0c2a\\u0c4d\\u0c30\\u0c2a\\u0c02\\u0c1a\\u0c02\\u0c32\\u0c4b\", \"\\u0c2a\\u0c4d\\u0c30\\u0c2d\\u0c41\\u0c24\\u0c4d\\u0c35\", \"\\u0c2a\\u0c4d\\u0c30\\u0c2d\\u0c41\\u0c24\\u0c4d\\u0c35\\u0c02\", \"\\u0c2a\\u0c4d\\u0c30\\u0c2d\\u0c41\\u0c24\\u0c4d\\u0c35\\u0c02\", \"\\u0c2a\\u0c4d\\u0c30\\u0c2d\\u0c41\\u0c24\\u0c4d\\u0c35\\u0c02\", \"\\u0c2a\\u0c4d\\u0c30\\u0c2d\\u0c41\\u0c24\\u0c4d\\u0c35\\u0c02\", \"\\u0c2a\\u0c4d\\u0c30\\u0c2e\\u0c3e\\u0c26\\u0c02\", \"\\u0c2a\\u0c4d\\u0c30\\u0c2e\\u0c3e\\u0c26\\u0c02\", \"\\u0c2a\\u0c4d\\u0c30\\u0c2e\\u0c3e\\u0c26\\u0c02\", \"\\u0c2a\\u0c4d\\u0c30\\u0c2f\\u0c24\\u0c4d\\u0c28\\u0c3f\\u0c02\\u0c1a\\u0c2e\\u0c02\\u0c26\\u0c3f.\", \"\\u0c2a\\u0c4d\\u0c30\\u0c36\\u0c4d\\u0c28\", \"\\u0c2a\\u0c4d\\u0c30\\u0c36\\u0c4d\\u0c28\", \"\\u0c2a\\u0c4d\\u0c30\\u0c36\\u0c4d\\u0c28\\u0c32\\u0c3f\\u0c35\\u0c40.\", \"\\u0c2a\\u0c4d\\u0c30\\u0c36\\u0c4d\\u0c28\\u0c3f\\u0c02\\u0c1a\\u0c3e\\u0c30\\u0c41.\", \"\\u0c2a\\u0c4d\\u0c30\\u0c3e\\u0c02\\u0c17\\u0c23\", \"\\u0c2a\\u0c4d\\u0c30\\u0c3e\\u0c02\\u0c24\\u0c3e\\u0c32\\u0c4d\", \"\\u0c2a\\u0c4d\\u0c30\\u0c3e\\u0c30\\u0c02\\u0c2d\\u0c2e\\u0c2f\\u0c4d\\u0c2f\\u0c3e\\u0c2f\\u0c3f.\", \"\\u0c2a\\u0c4d\\u0c30\\u0c3e\\u0c30\\u0c02\\u0c2d\\u0c3f\\u0c02\\u0c1a\\u0c3e\\u0c30\\u0c41.\", \"\\u0c2a\\u0c4d\\u0c30\\u0c47\\u0c2e\", \"\\u0c2b\\u0c4a\\u0c17\\u0c3e\\u0c1f\\u0c4d\", \"\\u0c2b\\u0c4b\\u0c28\\u0c4d\", \"\\u0c2b\\u0c4b\\u0c28\\u0c4d\", \"\\u0c2b\\u0c4d\\u0c30\\u0c3e\\u0c02\\u0c15\\u0c4d\", \"\\u0c2c\\u0c02\\u0c17\\u0c4d\\u0c32\\u0c3e\\u0c26\\u0c47\\u0c36\\u0c4d\", \"\\u0c2c\\u0c02\\u0c17\\u0c4d\\u0c32\\u0c3e\\u0c26\\u0c47\\u0c36\\u0c4d\", \"\\u0c2c\\u0c24\\u0c41\\u0c15\\u0c2e\\u0c4d\\u0c2e\", \"\\u0c2c\\u0c2f\\u0c1f\", \"\\u0c2c\\u0c2f\\u0c1f\", \"\\u0c2c\\u0c30\\u0c3f\\u0c32\\u0c4b\", \"\\u0c2c\\u0c3e\\u0c17\\u0c3e\", \"\\u0c2c\\u0c3e\\u0c27\", \"\\u0c2c\\u0c3e\\u0c27\\u0c4d\\u0c2f\\u0c24\", \"\\u0c2c\\u0c3f\\u0c1c\\u0c40.\", \"\\u0c2c\\u0c41\\u0c15\\u0c4d\", \"\\u0c2c\\u0c46\\u0c1f\\u0c4d\\u0c1f\\u0c3f\\u0c02\\u0c17\\u0c4d\", \"\\u0c2c\\u0c47\\u0c2c\\u0c40\", \"\\u0c2c\\u0c47\\u0c2c\\u0c40\", \"\\u0c2c\\u0c4a\\u0c1f\\u0c3e\\u0c15\\u0c4d\\u0c38\\u0c4d\", \"\\u0c2c\\u0c4a\\u0c1f\\u0c3e\\u0c15\\u0c4d\\u0c38\\u0c4d\\u0c15\\u0c40\", \"\\u0c2d\\u0c2f\\u0c2e\\u0c47\\u0c38\\u0c3f\\u0c02\\u0c26\\u0c3f.\", \"\\u0c2d\\u0c30\\u0c4d\\u0c24\", \"\\u0c2d\\u0c30\\u0c4d\\u0c24\", \"\\u0c2d\\u0c30\\u0c4d\\u0c24\\u0c40\", \"\\u0c2d\\u0c3e\\u0c30\\u0c24\", \"\\u0c2d\\u0c3e\\u0c30\\u0c24\\u0c4d\", \"\\u0c2d\\u0c3e\\u0c30\\u0c24\\u0c4d\", \"\\u0c2d\\u0c3e\\u0c30\\u0c24\\u0c4d\", \"\\u0c2e\\u0c02\\u0c24\\u0c4d\\u0c30\\u0c3f\", \"\\u0c2e\\u0c02\\u0c24\\u0c4d\\u0c30\\u0c3f\", \"\\u0c2e\\u0c02\\u0c24\\u0c4d\\u0c30\\u0c3f\", \"\\u0c2e\\u0c26\\u0c4d\\u0c2f\\u0c02\", \"\\u0c2e\\u0c30\\u0c2e\\u0c4d\\u0c2e\\u0c24\\u0c41\", \"\\u0c2e\\u0c30\\u0c4b\\u0c38\\u0c3e\\u0c30\\u0c3f\", \"\\u0c2e\\u0c30\\u0c4b\\u0c38\\u0c3e\\u0c30\\u0c3f\", \"\\u0c2e\\u0c30\\u0c4b\\u0c38\\u0c3e\\u0c30\\u0c3f\", \"\\u0c2e\\u0c3e\\u0c1c\\u0c40\", \"\\u0c2e\\u0c3e\\u0c1c\\u0c40\", \"\\u0c2e\\u0c3e\\u0c24\\u0c4d\\u0c30\\u0c02\", \"\\u0c2e\\u0c3e\\u0c30\\u0c4d\\u0c15\\u0c41\\u0c32\\u0c42\", \"\\u0c2e\\u0c3e\\u0c30\\u0c4d\\u0c15\\u0c46\\u0c1f\\u0c4d\", \"\\u0c2e\\u0c3e\\u0c30\\u0c4d\\u0c15\\u0c46\\u0c1f\\u0c4d\", \"\\u0c2e\\u0c3e\\u0c38\\u0c4d\\u0c1f\\u0c30\\u0c4d\", \"\\u0c2e\\u0c3f\\u0c38\\u0c4d\\u0c1f\\u0c30\\u0c4d\", \"\\u0c2e\\u0c41\\u0c02\\u0c26\\u0c41\\u0c15\\u0c4a\\u0c38\\u0c4d\\u0c24\\u0c41\\u0c28\\u0c4d\\u0c28\\u0c3e\\u0c2f\\u0c3f.\", \"\\u0c2e\\u0c41\\u0c02\\u0c2c\\u0c2f\\u0c3f\", \"\\u0c2e\\u0c41\\u0c02\\u0c2c\\u0c2f\\u0c3f\", \"\\u0c2e\\u0c41\\u0c16\\u0c02\", \"\\u0c2e\\u0c41\\u0c16\\u0c02\\u0c2a\\u0c48\", \"\\u0c2e\\u0c41\\u0c16\\u0c4d\\u0c2f\\u0c2e\\u0c02\\u0c24\\u0c4d\\u0c30\\u0c3f\", \"\\u0c2e\\u0c41\\u0c16\\u0c4d\\u0c2f\\u0c2e\\u0c02\\u0c24\\u0c4d\\u0c30\\u0c3f\", \"\\u0c2e\\u0c41\\u0c17\\u0c3f\\u0c36\\u0c3e\\u0c2f\\u0c3f.\", \"\\u0c2e\\u0c41\\u0c17\\u0c3f\\u0c38\\u0c3f\\u0c02\\u0c26\\u0c3f.\", \"\\u0c2e\\u0c41\\u0c21\\u0c24\", \"\\u0c2e\\u0c41\\u0c28\\u0c4d\\u0c2e\\u0c41\\u0c02\\u0c26\\u0c41\", \"\\u0c2e\\u0c41\\u0c2a\\u0c4d\\u0c2a\\u0c48\", \"\\u0c2e\\u0c42\", \"\\u0c2e\\u0c43\\u0c24\\u0c4d\\u0c2f\\u0c41\\u0c35\\u0c3e\\u0c24\", \"\\u0c2e\\u0c47\\u0c21\\u0c4d\\u0c1a\\u0c32\\u0c4d\", \"\\u0c2e\\u0c4a\\u0c26\\u0c1f\", \"\\u0c2e\\u0c4a\\u0c26\\u0c32\\u0c2f\\u0c4d\\u0c2f\\u0c3e\\u0c2f\\u0c3f.\", \"\\u0c2e\\u0c4c\\u0c28\\u0c02\\u0c17\\u0c3e\", \"\\u0c30\\u0c02\\u0c17\\u0c3e\\u0c30\\u0c46\\u0c21\\u0c4d\\u0c21\\u0c3f\", \"\\u0c30\\u0c15\\u0c30\\u0c15\\u0c3e\", \"\\u0c30\\u0c39\\u0c38\\u0c4d\\u0c2f\\u0c02\\u0c17\\u0c3e\", \"\\u0c30\\u0c3e\\u0c24\\u0c4d\\u0c30\\u0c3f\", \"\\u0c30\\u0c3e\\u0c24\\u0c4d\\u0c30\\u0c3f\", \"\\u0c30\\u0c3e\\u0c24\\u0c4d\\u0c30\\u0c3f\", \"\\u0c30\\u0c3e\\u0c37\\u0c4d\\u0c1f\\u0c4d\\u0c30\", \"\\u0c30\\u0c3e\\u0c37\\u0c4d\\u0c1f\\u0c4d\\u0c30\", \"\\u0c30\\u0c3f\\u0c1c\\u0c3f\\u0c38\\u0c4d\\u0c1f\\u0c4d\\u0c30\\u0c47\\u0c37\\u0c28\\u0c4d\", \"\\u0c30\\u0c3f\\u0c2f\\u0c32\\u0c4d\", \"\\u0c30\\u0c3f\\u0c2f\\u0c32\\u0c4d\\u0c1f\\u0c30\\u0c4d\\u0c32\", \"\\u0c30\\u0c42..\", \"\\u0c30\\u0c46\\u0c02\", \"\\u0c30\\u0c46\\u0c02\", \"\\u0c30\\u0c46\\u0c02\", \"\\u0c30\\u0c46\\u0c02\", \"\\u0c30\\u0c46\\u0c02\", \"\\u0c30\\u0c47\\u0c2a\\u0c41\", \"\\u0c30\\u0c47\\u0c35\\u0c02\\u0c24\\u0c4d\\u0c30\\u0c46\\u0c21\\u0c4d\\u0c21\\u0c3f\", \"\\u0c30\\u0c47\\u0c35\\u0c02\\u0c24\\u0c4d\\u0c30\\u0c46\\u0c21\\u0c4d\\u0c21\\u0c3f\", \"\\u0c30\\u0c4b\\u0c1c\\u0c41\", \"\\u0c30\\u0c4b\\u0c1c\\u0c41\", \"\\u0c30\\u0c4b\\u0c1c\\u0c41\", \"\\u0c30\\u0c4b\\u0c1c\\u0c41\", \"\\u0c30\\u0c4b\\u0c1c\\u0c41\", \"\\u0c30\\u0c4b\\u0c1c\\u0c41\", \"\\u0c30\\u0c4b\\u0c1c\\u0c41\\u0c32\\u0c4d\\u0c32\\u0c4b\\u0c28\\u0c47\", \"\\u0c32\\u0c15\\u0c4d\\u0c37\\u0c23\\u0c3e\\u0c32\", \"\\u0c32\\u0c21\\u0c4d\\u0c21\\u0c42\", \"\\u0c32\\u0c21\\u0c4d\\u0c21\\u0c42\", \"\\u0c32\\u0c47\\u0c15\\u0c41\\u0c02\\u0c21\\u0c3e\", \"\\u0c32\\u0c47\\u0c15\\u0c41\\u0c02\\u0c21\\u0c3e\", \"\\u0c32\\u0c47\\u0c15\\u0c41\\u0c02\\u0c21\\u0c3e\", \"\\u0c32\\u0c47\\u0c1a\\u0c3f\", \"\\u0c32\\u0c47\\u0c26\\u0c41.\", \"\\u0c32\\u0c47\\u0c35\\u0c41.\", \"\\u0c32\\u0c48\\u0c28\\u0c4d\", \"\\u0c32\\u0c4c\\u0c15\\u0c3f\\u0c15\", \"\\u0c35\\u0c1a\\u0c4d\\u0c1a\\u0c3e\\u0c21\\u0c41.\", \"\\u0c35\\u0c1a\\u0c4d\\u0c1a\\u0c3e\\u0c2f\\u0c3f.\", \"\\u0c35\\u0c1a\\u0c4d\\u0c1a\\u0c3f\", \"\\u0c35\\u0c1a\\u0c4d\\u0c1a\\u0c3f\", \"\\u0c35\\u0c1a\\u0c4d\\u0c1a\\u0c3f\\u0c02\\u0c26\\u0c3f.\", \"\\u0c35\\u0c1a\\u0c4d\\u0c1a\\u0c3f\\u0c02\\u0c26\\u0c3f.\", \"\\u0c35\\u0c1a\\u0c4d\\u0c1a\\u0c3f\\u0c28\", \"\\u0c35\\u0c1a\\u0c4d\\u0c1a\\u0c3f\\u0c28\", \"\\u0c35\\u0c1a\\u0c4d\\u0c1a\\u0c3f\\u0c28\", \"\\u0c35\\u0c1a\\u0c4d\\u0c1a\\u0c3f\\u0c28\\u0c35\\u0c3e\\u0c30\\u0c41..\", \"\\u0c35\\u0c2f\\u0c38\\u0c41\", \"\\u0c35\\u0c2f\\u0c38\\u0c41\", \"\\u0c35\\u0c30\\u0c26\", \"\\u0c35\\u0c3e\\u0c1f\\u0c3f\", \"\\u0c35\\u0c3e\\u0c21\\u0c3f\", \"\\u0c35\\u0c3e\\u0c30\\u0c3f\", \"\\u0c35\\u0c3e\\u0c30\\u0c3f\", \"\\u0c35\\u0c3e\\u0c30\\u0c3f\", \"\\u0c35\\u0c3e\\u0c30\\u0c3f\", \"\\u0c35\\u0c3e\\u0c33\\u0c4d\\u0c33\", \"\\u0c35\\u0c3e\\u0c33\\u0c4d\\u0c33\\u0c41\", \"\\u0c35\\u0c3f\\u0c1a\\u0c3e\\u0c30\\u0c23\", \"\\u0c35\\u0c3f\\u0c1c\\u0c2f\\u0c35\\u0c3e\\u0c21\", \"\\u0c35\\u0c3f\\u0c1c\\u0c2f\\u0c35\\u0c3e\\u0c21\", \"\\u0c35\\u0c3f\\u0c1c\\u0c2f\\u0c35\\u0c3e\\u0c21\", \"\\u0c35\\u0c3f\\u0c1c\\u0c2f\\u0c35\\u0c3e\\u0c21\", \"\\u0c35\\u0c3f\\u0c26\\u0c4d\\u0c2f\", \"\\u0c35\\u0c3f\\u0c26\\u0c4d\\u0c2f\", \"\\u0c35\\u0c3f\\u0c26\\u0c4d\\u0c2f\\u0c3e\", \"\\u0c35\\u0c3f\\u0c26\\u0c4d\\u0c2f\\u0c3e\\u0c38\\u0c3e\\u0c17\\u0c30\\u0c4d\", \"\\u0c35\\u0c3f\\u0c28\\u0c47\\u0c36\\u0c4d\", \"\\u0c35\\u0c3f\\u0c2d\\u0c3e\\u0c17\\u0c02\", \"\\u0c35\\u0c3f\\u0c2e\\u0c30\\u0c4d\\u0c36\", \"\\u0c35\\u0c3f\\u0c32\\u0c41\\u0c35\", \"\\u0c35\\u0c3f\\u0c37\\u0c2f\\u0c02\", \"\\u0c35\\u0c3f\\u0c37\\u0c2f\\u0c02\", \"\\u0c35\\u0c3f\\u0c37\\u0c2f\\u0c02\", \"\\u0c35\\u0c3f\\u0c38\\u0c41\\u0c17\\u0c4d\\u0c17\\u0c3e\", \"\\u0c35\\u0c40\\u0c21\\u0c3f\\u0c2f\\u0c4b\", \"\\u0c35\\u0c41\\u0c02\\u0c1f\\u0c47\", \"\\u0c35\\u0c41\\u0c02\\u0c26\\u0c3f.\", \"\\u0c35\\u0c41\\u0c28\\u0c4d\\u0c28\", \"\\u0c35\\u0c46\\u0c28\\u0c15\\u0c4d\", \"\\u0c35\\u0c46\\u0c32\\u0c4d\\u0c32\\u0c21\\u0c3f\\u0c02\\u0c1a\\u0c2e\\u0c28\\u0c4d\\u0c28\\u0c3e\\u0c30\\u0c41.\", \"\\u0c35\\u0c46\\u0c32\\u0c4d\\u0c32\\u0c21\\u0c3f\\u0c02\\u0c1a\\u0c3f\\u0c02\\u0c26\\u0c3f.\", \"\\u0c35\\u0c46\\u0c38\\u0c41\\u0c32\\u0c41\\u0c2c\\u0c3e\\u0c1f\\u0c4d\", \"\\u0c35\\u0c47\\u0c17\\u0c02\\u0c17\\u0c3e\", \"\\u0c35\\u0c47\\u0c21\\u0c41\\u0c15\", \"\\u0c35\\u0c47\\u0c26\\u0c3f\\u0c15\\u0c17\\u0c3e\", \"\\u0c35\\u0c47\\u0c26\\u0c3f\\u0c15\\u0c17\\u0c3e\", \"\\u0c35\\u0c47\\u0c38\\u0c3f\", \"\\u0c35\\u0c47\\u0c38\\u0c3f\", \"\\u0c35\\u0c48\\u0c15\\u0c3e\\u0c2a\\u0c3e\", \"\\u0c35\\u0c48\\u0c15\\u0c3e\\u0c2a\\u0c3e\", \"\\u0c35\\u0c48\\u0c15\\u0c3e\\u0c2a\\u0c3e\", \"\\u0c35\\u0c48\\u0c30\\u0c32\\u0c4d\\u0c17\\u0c3e\", \"\\u0c35\\u0c4d\\u0c2f\\u0c15\\u0c4d\\u0c24\\u0c02\", \"\\u0c35\\u0c4d\\u0c2f\\u0c15\\u0c4d\\u0c24\\u0c3f\", \"\\u0c35\\u0c4d\\u0c2f\\u0c15\\u0c4d\\u0c24\\u0c3f\", \"\\u0c35\\u0c4d\\u0c2f\\u0c15\\u0c4d\\u0c24\\u0c3f\", \"\\u0c35\\u0c4d\\u0c2f\\u0c15\\u0c4d\\u0c24\\u0c41\", \"\\u0c35\\u0c4d\\u0c2f\\u0c3e\\u0c16\\u0c4d\\u0c2f\", \"\\u0c35\\u0c4d\\u0c2f\\u0c3e\\u0c27\\u0c3f\", \"\\u0c35\\u0c4d\\u0c2f\\u0c3e\\u0c2a\\u0c3e\\u0c30\", \"\\u0c36\\u0c15\\u0c4d\\u0c24\\u0c3f\", \"\\u0c36\\u0c3e\\u0c16\", \"\\u0c36\\u0c3e\\u0c24\\u0c02\", \"\\u0c36\\u0c41\\u0c15\\u0c4d\\u0c30\\u0c35\\u0c3e\\u0c30\\u0c02\", \"\\u0c36\\u0c4d\\u0c30\\u0c40\\u0c35\\u0c3e\\u0c30\\u0c3f\", \"\\u0c36\\u0c4d\\u0c30\\u0c40\\u0c35\\u0c3e\\u0c30\\u0c3f\", \"\\u0c36\\u0c4d\\u0c30\\u0c40\\u0c35\\u0c3e\\u0c30\\u0c3f\", \"\\u0c36\\u0c4d\\u0c30\\u0c40\\u0c35\\u0c3e\\u0c30\\u0c3f\", \"\\u0c37\\u0c3e\\u0c15\\u0c4d\", \"\\u0c38...\", \"\\u0c38\\u0c02\\u0c17\\u0c24\\u0c3f\", \"\\u0c38\\u0c02\\u0c27\\u0c4d\\u0c2f\", \"\\u0c38\\u0c02\\u0c27\\u0c4d\\u0c2f\", \"\\u0c38\\u0c02\\u0c35\\u0c24\\u0c4d\\u0c38\\u0c30\\u0c02\", \"\\u0c38\\u0c02\\u0c38\\u0c4d\\u0c25\", \"\\u0c38\\u0c02\\u0c38\\u0c4d\\u0c25\", \"\\u0c38\\u0c02\\u0c38\\u0c4d\\u0c25\", \"\\u0c38\\u0c24\\u0c4d\\u0c2f\\u0c02\", \"\\u0c38\\u0c2e\\u0c2f\\u0c02\", \"\\u0c38\\u0c2e\\u0c2f\\u0c02\", \"\\u0c38\\u0c2e\\u0c2f\\u0c2e\", \"\\u0c38\\u0c30\\u0c3f\\u0c17\\u0c4d\\u0c17\\u0c3e\", \"\\u0c38\\u0c39\\u0c1c\\u0c2e\\u0c28\\u0c3f...\", \"\\u0c38\\u0c39\\u0c3e\\u0c2f\\u0c02\", \"\\u0c38\\u0c3e\\u0c27\\u0c28\", \"\\u0c38\\u0c3e\\u0c27\\u0c3e\\u0c30\\u0c23\", \"\\u0c38\\u0c3e\\u0c2e\\u0c30\\u0c4d\\u0c25\\u0c4d\\u0c2f\\u0c3e\\u0c28\\u0c4d\", \"\\u0c38\\u0c3f\\u0c1f\\u0c40\", \"\\u0c38\\u0c3f\\u0c28\\u0c3f\\u0c2e\\u0c3e\", \"\\u0c38\\u0c3f\\u0c28\\u0c3f\\u0c2e\\u0c3e\", \"\\u0c38\\u0c3f\\u0c28\\u0c3f\\u0c2e\\u0c3e\", \"\\u0c38\\u0c3f\\u0c28\\u0c40\", \"\\u0c38\\u0c3f\\u0c28\\u0c40\", \"\\u0c38\\u0c40\\u0c0e\\u0c02\", \"\\u0c38\\u0c40\\u0c0e\\u0c02\", \"\\u0c38\\u0c40\\u0c1c\\u0c28\\u0c4d\", \"\\u0c38\\u0c40\\u0c1c\\u0c28\\u0c4d\", \"\\u0c38\\u0c42\\u0c1a\\u0c40\", \"\\u0c38\\u0c43\\u0c37\\u0c4d\\u0c1f\\u0c3f\\u0c02\\u0c1a\\u0c3f\\u0c28\", \"\\u0c38\\u0c47\\u0c15\\u0c30\\u0c3f\\u0c02\\u0c1a\\u0c3f\", \"\\u0c38\\u0c48\\u0c24\\u0c02\", \"\\u0c38\\u0c48\\u0c2c\\u0c30\\u0c4d\", \"\\u0c38\\u0c4d\\u0c1f\\u0c3e\\u0c15\\u0c4d\", \"\\u0c38\\u0c4d\\u0c24\\u0c2c\\u0c4d\\u0c26\\u0c41\\u0c17\\u0c3e\", \"\\u0c38\\u0c4d\\u0c24\\u0c4d\\u0c30\\u0c40\", \"\\u0c38\\u0c4d\\u0c25\\u0c32\\u0c3e\", \"\\u0c38\\u0c4d\\u0c25\\u0c3f\\u0c24\\u0c3f\\u0c17\\u0c24\\u0c41\", \"\\u0c38\\u0c4d\\u0c25\\u0c3f\\u0c30\\u0c3e\\u0c38\\u0c4d\\u0c24\\u0c41\", \"\\u0c38\\u0c4d\\u0c28\\u0c47\\u0c39\\u0c3f\\u0c24\\u0c41\\u0c30\\u0c3e\", \"\\u0c39\\u0c30\\u0c40\\u0c36\\u0c4d\\u0c30\\u0c3e\", \"\\u0c39\\u0c46\\u0c1a\\u0c4d\\u0c1a\\u0c41\\u0c24\\u0c17\\u0c4d\\u0c17\\u0c41\", \"\\u0c39\\u0c48\\u0c21\\u0c4d\\u0c30\\u0c3e\", \"\\u0c39\\u0c48\\u0c26\\u0c30\\u0c3e\\u0c2c\\u0c3e\\u0c26\\u0c4d\", \"\\u0c39\\u0c48\\u0c26\\u0c30\\u0c3e\\u0c2c\\u0c3e\\u0c26\\u0c4d\"]}, \"R\": 30, \"lambda.step\": 0.01, \"plot.opts\": {\"xlab\": \"PC1\", \"ylab\": \"PC2\"}, \"topic.order\": [8, 5, 6, 10, 7, 3, 9, 2, 1, 4]};\n",
              "\n",
              "function LDAvis_load_lib(url, callback){\n",
              "  var s = document.createElement('script');\n",
              "  s.src = url;\n",
              "  s.async = true;\n",
              "  s.onreadystatechange = s.onload = callback;\n",
              "  s.onerror = function(){console.warn(\"failed to load library \" + url);};\n",
              "  document.getElementsByTagName(\"head\")[0].appendChild(s);\n",
              "}\n",
              "\n",
              "if(typeof(LDAvis) !== \"undefined\"){\n",
              "   // already loaded: just create the visualization\n",
              "   !function(LDAvis){\n",
              "       new LDAvis(\"#\" + \"ldavis_el6831336129508196006666203398\", ldavis_el6831336129508196006666203398_data);\n",
              "   }(LDAvis);\n",
              "}else if(typeof define === \"function\" && define.amd){\n",
              "   // require.js is available: use it to load d3/LDAvis\n",
              "   require.config({paths: {d3: \"https://d3js.org/d3.v5\"}});\n",
              "   require([\"d3\"], function(d3){\n",
              "      window.d3 = d3;\n",
              "      LDAvis_load_lib(\"https://cdn.jsdelivr.net/gh/bmabey/pyLDAvis@3.4.0/pyLDAvis/js/ldavis.v3.0.0.js\", function(){\n",
              "        new LDAvis(\"#\" + \"ldavis_el6831336129508196006666203398\", ldavis_el6831336129508196006666203398_data);\n",
              "      });\n",
              "    });\n",
              "}else{\n",
              "    // require.js not available: dynamically load d3 & LDAvis\n",
              "    LDAvis_load_lib(\"https://d3js.org/d3.v5.js\", function(){\n",
              "         LDAvis_load_lib(\"https://cdn.jsdelivr.net/gh/bmabey/pyLDAvis@3.4.0/pyLDAvis/js/ldavis.v3.0.0.js\", function(){\n",
              "                 new LDAvis(\"#\" + \"ldavis_el6831336129508196006666203398\", ldavis_el6831336129508196006666203398_data);\n",
              "            })\n",
              "         });\n",
              "}\n",
              "</script>"
            ]
          },
          "metadata": {},
          "execution_count": 568
        }
      ]
    },
    {
      "cell_type": "code",
      "source": [
        "\n",
        "new_sentence = \"\"\"\n",
        "ముంబై బాంద్రాలో ప్రాపర్టీలు కొనుగోలుకు బాలీవుడ్ నటుల మొగ్గు\n",
        "ముంబై.. బాలీవుడ్ తారలకు చిరునామా. రియల్ ఎస్టేట్ రంగంలో రారాజుగా ఉన్న దేశ ఆర్థిక రాజధానిపై బాలీవుడ్ నటీనటులకు మక్కువ చాలా ఎక్కువ. అలాంటి ముంబైలో బాంద్రా అంటే మరింత క్రేజ్. చాలామంది బాలీవుడ్ నటనటులు బాంద్రాను తమ నివాస ప్రాంతంగా ఎంచుకున్నారు. ఇక్కడ చదరపు అడుగు ధర రూ.లక్షపైనే ఉందంటే ఆశ్చర్యపోనక్కర్లేదు. ఎందుకంటే తారాలోకం నుంచి ఉన్న డిమాండ్ అలాంటిది మరి. సల్మాన్ ఖాన్, షారుఖ్ ఖాన్, అమీర్ ఖాన్, రణబీర్ కపూర్, అలియా భట్, దీపికా పదుకొనే, త్రిప్తి దిమ్రీ, సంజయ్ దత్ వంటి బాలీవుడ్ తారలు బాంద్రాలో ప్రాపర్టీ కలిగి ఉన్నారు. దిలీప్ కుమార్, రిషి కపూర్ వంటి బాలీవుడ్ దిగ్గజాలు కూడా ఈ ప్రాంతంలో నివసించారు.\n",
        "\"\"\""
      ],
      "metadata": {
        "colab": {
          "base_uri": "https://localhost:8080/"
        },
        "id": "MnjV6jm-Egsz",
        "outputId": "b10a8a03-cc9c-4b62-f2bc-ee7bfd4ab061"
      },
      "execution_count": null,
      "outputs": [
        {
          "output_type": "stream",
          "name": "stderr",
          "text": [
            "/usr/local/lib/python3.10/dist-packages/ipykernel/ipkernel.py:283: DeprecationWarning: `should_run_async` will not call `transform_cell` automatically in the future. Please pass the result to `transformed_cell` argument and any exception that happen during thetransform in `preprocessing_exc_tuple` in IPython 7.17 and above.\n",
            "  and should_run_async(code)\n"
          ]
        }
      ]
    },
    {
      "cell_type": "code",
      "source": [
        "import numpy as np\n",
        "\n",
        "def preprocess_text(text):\n",
        "    text = normalize_text(text)\n",
        "\n",
        "    tokens = tokenize_text(text)\n",
        "\n",
        "    nouns = extract_nouns(tokens)\n",
        "\n",
        "    nouns = [word for word in nouns if word not in telugu_stopwords]\n",
        "\n",
        "    nouns = [te_stemmer(word) for word in nouns]\n",
        "\n",
        "    nouns = [word for word in nouns if word not in telugu_stopwords]\n",
        "\n",
        "    return nouns\n",
        "\n",
        "def extract_nouns(tokens):\n",
        "    \"\"\"Extract nouns from tokenized text using Stanza.\"\"\"\n",
        "\n",
        "    sentence = \" \".join(tokens)\n",
        "\n",
        "    doc = nlp(sentence)\n",
        "\n",
        "    nouns = [\n",
        "        word.text for sentence in doc.sentences\n",
        "        for word in sentence.words\n",
        "        if word.pos == \"NOUN\" or word.pos == \"PROPN\"\n",
        "    ]\n",
        "    return nouns\n",
        "\n",
        "preprocessed_tokens = preprocess_text(new_sentence)\n",
        "print(preprocessed_tokens)\n",
        "\n",
        "bow = id2word.doc2bow(preprocessed_tokens)\n",
        "\n",
        "topics = sorted(optimal_model.get_document_topics(bow=bow), key=lambda x: x[1], reverse=True)\n",
        "\n",
        "print(\"Top topic:\", optimal_model.show_topic(topics[0][0]))\n",
        "print(\"Associated %:\", np.round(topics[0][1] * 100, 2), \"%\")\n"
      ],
      "metadata": {
        "colab": {
          "base_uri": "https://localhost:8080/"
        },
        "id": "1oLPIVZQEohV",
        "outputId": "71fedfc0-d2df-40dd-f1a5-6cdae8aaa02c"
      },
      "execution_count": null,
      "outputs": [
        {
          "output_type": "stream",
          "name": "stderr",
          "text": [
            "/usr/local/lib/python3.10/dist-packages/ipykernel/ipkernel.py:283: DeprecationWarning: `should_run_async` will not call `transform_cell` automatically in the future. Please pass the result to `transformed_cell` argument and any exception that happen during thetransform in `preprocessing_exc_tuple` in IPython 7.17 and above.\n",
            "  and should_run_async(code)\n"
          ]
        },
        {
          "output_type": "stream",
          "name": "stdout",
          "text": [
            "['ముంబై', 'బాంద్రా', 'ప్రాపర్టీ', 'కొనుగోలు', 'బాలీవుడ్', 'నటు', 'మొగ్గుముంబై', 'బాలీవుడ్', 'తారల', 'చిరునామా', 'రియల్', 'ఎస్టేట్', 'రంగం', 'రారాజుగా', 'దేశ', 'ఆర్థిక', 'రాజధానిపై', 'బాలీవుడ్', 'నటీనటుల', 'మక్కువ', 'ముంబై', 'బాంద్రా', 'క్రేజ్', 'బాలీవుడ్', 'నటనటు', 'బాంద్రా', 'నివాస', 'ప్రాంతంగా', 'చదరపు', 'అడుగు', 'ధర', 'రూ.లక్షపైనే', 'తారాలోకం', 'డిమాండ్', 'సల్మాన్', 'ఖాన్', 'షారుఖ్', 'ఖాన్', 'అమీర్', 'ఖాన్', 'రణబీర్', 'కపూర్', 'అలియా', 'భట్', 'దీపికా', 'త్రిప్తి', 'దిమ్రీ', 'సంజయ్', 'దత్', 'బాలీవుడ్', 'తార', 'బాంద్రా', 'ప్రాపర్టీ', 'దిలీప్', 'కుమార్', 'రిషి', 'కపూర్', 'బాలీవుడ్', 'దిగ్గజా', 'ప్రాంతం']\n",
            "Top topic: [('భారత', 0.016287947), ('నటు', 0.015792396), ('అతడి', 0.0128876055), ('ముఖం', 0.012544139), ('రెం', 0.011880162), ('సినీ', 0.011226169), ('తెలిపారు.', 0.009688891), ('సినిమా', 0.009607312), ('చేశారు.', 0.00948975), ('తాజాగా', 0.009335457)]\n",
            "Associated %: 51.82 %\n"
          ]
        }
      ]
    }
  ]
}